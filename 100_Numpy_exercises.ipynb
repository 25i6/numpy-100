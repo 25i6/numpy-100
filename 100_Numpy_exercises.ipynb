{
 "cells": [
  {
   "cell_type": "markdown",
   "id": "6293cc50",
   "metadata": {},
   "source": [
    "# 100 numpy exercises\n",
    "\n",
    "This is a collection of exercises that have been collected in the numpy mailing list, on stack overflow\n",
    "and in the numpy documentation. The goal of this collection is to offer a quick reference for both old\n",
    "and new users but also to provide a set of exercises for those who teach.\n",
    "\n",
    "\n",
    "If you find an error or think you've a better way to solve some of them, feel\n",
    "free to open an issue at <https://github.com/rougier/numpy-100>."
   ]
  },
  {
   "cell_type": "markdown",
   "id": "a167c052",
   "metadata": {},
   "source": [
    "File automatically generated. See the documentation to update questions/answers/hints programmatically."
   ]
  },
  {
   "cell_type": "markdown",
   "id": "57fc0ee5",
   "metadata": {},
   "source": [
    "Run the `initialize.py` module, then for each question you can query the\n",
    "answer or an hint with `hint(n)` or `answer(n)` for `n` question number."
   ]
  },
  {
   "cell_type": "code",
   "execution_count": 4,
   "id": "3d46fba2",
   "metadata": {},
   "outputs": [],
   "source": [
    "%run initialise.py"
   ]
  },
  {
   "cell_type": "markdown",
   "id": "3c1222ff",
   "metadata": {},
   "source": [
    "#### 1. Import the numpy package under the name `np` (★☆☆)"
   ]
  },
  {
   "cell_type": "code",
   "execution_count": 5,
   "id": "f52e6a0b",
   "metadata": {},
   "outputs": [],
   "source": [
    "import numpy as np"
   ]
  },
  {
   "cell_type": "markdown",
   "id": "9d9f4753",
   "metadata": {},
   "source": [
    "#### 2. Print the numpy version and the configuration (★☆☆)"
   ]
  },
  {
   "cell_type": "code",
   "execution_count": 6,
   "id": "b7fa5fa1",
   "metadata": {},
   "outputs": [
    {
     "name": "stdout",
     "output_type": "stream",
     "text": [
      "1.26.4\n",
      "Build Dependencies:\n",
      "  blas:\n",
      "    detection method: pkgconfig\n",
      "    found: true\n",
      "    include directory: C:/Users/izmr3/anaconda3/Library/include\n",
      "    lib directory: C:/Users/izmr3/anaconda3/Library/lib\n",
      "    name: mkl-sdl\n",
      "    openblas configuration: unknown\n",
      "    pc file directory: C:\\b\\abs_c1ywpu18ar\\croot\\numpy_and_numpy_base_1708638681471\\_h_env\\Library\\lib\\pkgconfig\n",
      "    version: '2023.1'\n",
      "  lapack:\n",
      "    detection method: internal\n",
      "    found: true\n",
      "    include directory: unknown\n",
      "    lib directory: unknown\n",
      "    name: dep1868282989520\n",
      "    openblas configuration: unknown\n",
      "    pc file directory: unknown\n",
      "    version: 1.26.4\n",
      "Compilers:\n",
      "  c:\n",
      "    commands: cl.exe\n",
      "    linker: link\n",
      "    name: msvc\n",
      "    version: 19.29.30154\n",
      "  c++:\n",
      "    commands: cl.exe\n",
      "    linker: link\n",
      "    name: msvc\n",
      "    version: 19.29.30154\n",
      "  cython:\n",
      "    commands: cython\n",
      "    linker: cython\n",
      "    name: cython\n",
      "    version: 3.0.8\n",
      "Machine Information:\n",
      "  build:\n",
      "    cpu: x86_64\n",
      "    endian: little\n",
      "    family: x86_64\n",
      "    system: windows\n",
      "  host:\n",
      "    cpu: x86_64\n",
      "    endian: little\n",
      "    family: x86_64\n",
      "    system: windows\n",
      "Python Information:\n",
      "  path: C:\\b\\abs_c1ywpu18ar\\croot\\numpy_and_numpy_base_1708638681471\\_h_env\\python.exe\n",
      "  version: '3.11'\n",
      "SIMD Extensions:\n",
      "  baseline:\n",
      "  - SSE\n",
      "  - SSE2\n",
      "  - SSE3\n",
      "  found:\n",
      "  - SSSE3\n",
      "  - SSE41\n",
      "  - POPCNT\n",
      "  - SSE42\n",
      "  - AVX\n",
      "  - F16C\n",
      "  - FMA3\n",
      "  - AVX2\n",
      "  not found:\n",
      "  - AVX512F\n",
      "  - AVX512CD\n",
      "  - AVX512_SKX\n",
      "  - AVX512_CLX\n",
      "  - AVX512_CNL\n",
      "  - AVX512_ICL\n",
      "\n"
     ]
    }
   ],
   "source": [
    "print(np.__version__)\n",
    "np.show_config()"
   ]
  },
  {
   "cell_type": "markdown",
   "id": "3e4c23c6",
   "metadata": {},
   "source": [
    "#### 3. Create a null vector of size 10 (★☆☆)"
   ]
  },
  {
   "cell_type": "code",
   "execution_count": 7,
   "id": "083c5c46",
   "metadata": {},
   "outputs": [
    {
     "name": "stdout",
     "output_type": "stream",
     "text": [
      "[0. 0. 0. 0. 0. 0. 0. 0. 0. 0.]\n"
     ]
    }
   ],
   "source": [
    "Z=np.zeros(10)\n",
    "print(Z)"
   ]
  },
  {
   "cell_type": "markdown",
   "id": "c38bbe82",
   "metadata": {},
   "source": [
    "#### 4. How to find the memory size of any array (★☆☆)"
   ]
  },
  {
   "cell_type": "code",
   "execution_count": 8,
   "id": "02b04021",
   "metadata": {},
   "outputs": [
    {
     "name": "stdout",
     "output_type": "stream",
     "text": [
      "800 bytes\n"
     ]
    }
   ],
   "source": [
    "Z=np.zeros((10,10))\n",
    "\n",
    "print(\"%d bytes\" % (Z.size * Z.itemsize)) #%d"
   ]
  },
  {
   "cell_type": "markdown",
   "id": "67f893d4",
   "metadata": {},
   "source": [
    "#### 5. How to get the documentation of the numpy add function from the command line? (★☆☆)"
   ]
  },
  {
   "cell_type": "code",
   "execution_count": 9,
   "id": "40e6b70d",
   "metadata": {},
   "outputs": [
    {
     "ename": "NameError",
     "evalue": "name 'numpy' is not defined",
     "output_type": "error",
     "traceback": [
      "\u001b[1;31m---------------------------------------------------------------------------\u001b[0m",
      "\u001b[1;31mNameError\u001b[0m                                 Traceback (most recent call last)",
      "Cell \u001b[1;32mIn[9], line 1\u001b[0m\n\u001b[1;32m----> 1\u001b[0m numpy\u001b[38;5;241m.\u001b[39minfo(numpy\u001b[38;5;241m.\u001b[39madd)\n",
      "\u001b[1;31mNameError\u001b[0m: name 'numpy' is not defined"
     ]
    }
   ],
   "source": [
    "numpy.info(numpy.add)\n",
    "#%run `python -c \"import numpy; numpy.info(numpy.add)\"`"
   ]
  },
  {
   "cell_type": "markdown",
   "id": "e0c739c6",
   "metadata": {},
   "source": [
    "#### 6. Create a null vector of size 10 but the fifth value which is 1 (★☆☆)"
   ]
  },
  {
   "cell_type": "code",
   "execution_count": null,
   "id": "bcceacf7",
   "metadata": {},
   "outputs": [
    {
     "name": "stdout",
     "output_type": "stream",
     "text": [
      "[0. 0. 0. 0. 1. 0. 0. 0. 0. 0.]\n"
     ]
    }
   ],
   "source": [
    "Z=np.zeros(10)\n",
    "Z[4]=1\n",
    "print(Z)"
   ]
  },
  {
   "cell_type": "markdown",
   "id": "fbebedab",
   "metadata": {},
   "source": [
    "#### 7. Create a vector with values ranging from 10 to 49 (★☆☆)"
   ]
  },
  {
   "cell_type": "code",
   "execution_count": null,
   "id": "3d117d54",
   "metadata": {},
   "outputs": [
    {
     "name": "stdout",
     "output_type": "stream",
     "text": [
      "[10 11 12 13 14 15 16 17 18 19 20 21 22 23 24 25 26 27 28 29 30 31 32 33\n",
      " 34 35 36 37 38 39 40 41 42 43 44 45 46 47 48 49]\n"
     ]
    }
   ],
   "source": [
    "Z=np.arange(10,50)#49以下ではなく50未満\n",
    "print(Z)"
   ]
  },
  {
   "cell_type": "markdown",
   "id": "ad0bff02",
   "metadata": {},
   "source": [
    "#### 8. Reverse a vector (first element becomes last) (★☆☆)"
   ]
  },
  {
   "cell_type": "code",
   "execution_count": null,
   "id": "22d23470",
   "metadata": {},
   "outputs": [
    {
     "name": "stdout",
     "output_type": "stream",
     "text": [
      "[49 48 47 46 45 44 43 42 41 40 39 38 37 36 35 34 33 32 31 30 29 28 27 26\n",
      " 25 24 23 22 21 20 19 18 17 16 15 14 13 12 11 10  9  8  7  6  5  4  3  2\n",
      "  1  0]\n"
     ]
    }
   ],
   "source": [
    "Z=np.arange(50)\n",
    "Z=Z[::-1]#?\n",
    "print(Z)"
   ]
  },
  {
   "cell_type": "markdown",
   "id": "9f59d7e1",
   "metadata": {},
   "source": [
    "#### 9. Create a 3x3 matrix with values ranging from 0 to 8 (★☆☆)"
   ]
  },
  {
   "cell_type": "code",
   "execution_count": null,
   "id": "7449e82d",
   "metadata": {},
   "outputs": [
    {
     "name": "stdout",
     "output_type": "stream",
     "text": [
      "[[0 1 2]\n",
      " [3 4 5]\n",
      " [6 7 8]]\n"
     ]
    }
   ],
   "source": [
    "Z=np.arange(0,9).reshape(3,3)\n",
    "print(Z)"
   ]
  },
  {
   "cell_type": "markdown",
   "id": "f374c4cf",
   "metadata": {},
   "source": [
    "#### 10. Find indices of non-zero elements from [1,2,0,0,4,0] (★☆☆)"
   ]
  },
  {
   "cell_type": "code",
   "execution_count": null,
   "id": "1a84bed8",
   "metadata": {},
   "outputs": [
    {
     "name": "stdout",
     "output_type": "stream",
     "text": [
      "(array([0, 1, 4], dtype=int64),)\n"
     ]
    }
   ],
   "source": [
    "nz=np.nonzero([1,2,0,0,4,0])\n",
    "print(nz)"
   ]
  },
  {
   "cell_type": "markdown",
   "id": "9c4707f5",
   "metadata": {},
   "source": [
    "#### 11. Create a 3x3 identity matrix (★☆☆)"
   ]
  },
  {
   "cell_type": "code",
   "execution_count": null,
   "id": "29dc1fd3",
   "metadata": {},
   "outputs": [
    {
     "name": "stdout",
     "output_type": "stream",
     "text": [
      "[[1. 0. 0.]\n",
      " [0. 1. 0.]\n",
      " [0. 0. 1.]] \n",
      "\n",
      "[[1. 0. 0.]\n",
      " [0. 1. 0.]\n",
      " [0. 0. 1.]]\n"
     ]
    }
   ],
   "source": [
    "Z=np.eye(3)#eyeとは？\n",
    "print(Z,\"\\n\")\n",
    "Z=np.identity(3)\n",
    "print(Z)\n"
   ]
  },
  {
   "cell_type": "markdown",
   "id": "3bac294a",
   "metadata": {},
   "source": [
    "#### 12. Create a 3x3x3 array with random values (★☆☆)"
   ]
  },
  {
   "cell_type": "code",
   "execution_count": null,
   "id": "eadfae67",
   "metadata": {},
   "outputs": [],
   "source": []
  },
  {
   "cell_type": "markdown",
   "id": "466c2989",
   "metadata": {},
   "source": [
    "#### 13. Create a 10x10 array with random values and find the minimum and maximum values (★☆☆)"
   ]
  },
  {
   "cell_type": "code",
   "execution_count": null,
   "id": "9a74dbfc",
   "metadata": {},
   "outputs": [],
   "source": []
  },
  {
   "cell_type": "markdown",
   "id": "53a8edb2",
   "metadata": {},
   "source": [
    "#### 14. Create a random vector of size 30 and find the mean value (★☆☆)"
   ]
  },
  {
   "cell_type": "code",
   "execution_count": null,
   "id": "6691530b",
   "metadata": {},
   "outputs": [],
   "source": []
  },
  {
   "cell_type": "markdown",
   "id": "cbaad31c",
   "metadata": {},
   "source": [
    "#### 15. Create a 2d array with 1 on the border and 0 inside (★☆☆)"
   ]
  },
  {
   "cell_type": "code",
   "execution_count": null,
   "id": "ad8308e3",
   "metadata": {},
   "outputs": [],
   "source": []
  },
  {
   "cell_type": "markdown",
   "id": "c5ecc267",
   "metadata": {},
   "source": [
    "#### 16. How to add a border (filled with 0's) around an existing array? (★☆☆)"
   ]
  },
  {
   "cell_type": "code",
   "execution_count": null,
   "id": "9d5c78c4",
   "metadata": {},
   "outputs": [],
   "source": []
  },
  {
   "cell_type": "markdown",
   "id": "ef909b72",
   "metadata": {},
   "source": [
    "#### 17. What is the result of the following expression? (★☆☆)\n",
    "```python\n",
    "0 * np.nan\n",
    "np.nan == np.nan\n",
    "np.inf > np.nan\n",
    "np.nan - np.nan\n",
    "np.nan in set([np.nan])\n",
    "0.3 == 3 * 0.1\n",
    "```"
   ]
  },
  {
   "cell_type": "code",
   "execution_count": null,
   "id": "3b4985f2",
   "metadata": {},
   "outputs": [],
   "source": []
  },
  {
   "cell_type": "markdown",
   "id": "502738ac",
   "metadata": {},
   "source": [
    "#### 18. Create a 5x5 matrix with values 1,2,3,4 just below the diagonal (★☆☆)"
   ]
  },
  {
   "cell_type": "code",
   "execution_count": null,
   "id": "faed6e2b",
   "metadata": {},
   "outputs": [],
   "source": []
  },
  {
   "cell_type": "markdown",
   "id": "a65da660",
   "metadata": {},
   "source": [
    "#### 19. Create a 8x8 matrix and fill it with a checkerboard pattern (★☆☆)"
   ]
  },
  {
   "cell_type": "code",
   "execution_count": null,
   "id": "ed150400",
   "metadata": {},
   "outputs": [],
   "source": []
  },
  {
   "cell_type": "markdown",
   "id": "9f7f9c49",
   "metadata": {},
   "source": [
    "#### 20. Consider a (6,7,8) shape array, what is the index (x,y,z) of the 100th element? (★☆☆)"
   ]
  },
  {
   "cell_type": "code",
   "execution_count": null,
   "id": "3782b5a9",
   "metadata": {},
   "outputs": [],
   "source": []
  },
  {
   "cell_type": "markdown",
   "id": "66bfda35",
   "metadata": {},
   "source": [
    "#### 21. Create a checkerboard 8x8 matrix using the tile function (★☆☆)"
   ]
  },
  {
   "cell_type": "code",
   "execution_count": null,
   "id": "4c07477c",
   "metadata": {},
   "outputs": [],
   "source": []
  },
  {
   "cell_type": "markdown",
   "id": "d5bcfc08",
   "metadata": {},
   "source": [
    "#### 22. Normalize a 5x5 random matrix (★☆☆)"
   ]
  },
  {
   "cell_type": "code",
   "execution_count": null,
   "id": "cea6c993",
   "metadata": {},
   "outputs": [],
   "source": []
  },
  {
   "cell_type": "markdown",
   "id": "f9a0911e",
   "metadata": {},
   "source": [
    "#### 23. Create a custom dtype that describes a color as four unsigned bytes (RGBA) (★☆☆)"
   ]
  },
  {
   "cell_type": "code",
   "execution_count": null,
   "id": "d165044b",
   "metadata": {},
   "outputs": [],
   "source": []
  },
  {
   "cell_type": "markdown",
   "id": "654805b1",
   "metadata": {},
   "source": [
    "#### 24. Multiply a 5x3 matrix by a 3x2 matrix (real matrix product) (★☆☆)"
   ]
  },
  {
   "cell_type": "code",
   "execution_count": null,
   "id": "6a42619f",
   "metadata": {},
   "outputs": [],
   "source": []
  },
  {
   "cell_type": "markdown",
   "id": "994c25df",
   "metadata": {},
   "source": [
    "#### 25. Given a 1D array, negate all elements which are between 3 and 8, in place. (★☆☆)"
   ]
  },
  {
   "cell_type": "code",
   "execution_count": null,
   "id": "e4b39c03",
   "metadata": {},
   "outputs": [],
   "source": []
  },
  {
   "cell_type": "markdown",
   "id": "b7d15d1a",
   "metadata": {},
   "source": [
    "#### 26. What is the output of the following script? (★☆☆)\n",
    "```python\n",
    "# Author: Jake VanderPlas\n",
    "\n",
    "print(sum(range(5),-1))\n",
    "from numpy import *\n",
    "print(sum(range(5),-1))\n",
    "```"
   ]
  },
  {
   "cell_type": "code",
   "execution_count": null,
   "id": "4c95bc3f",
   "metadata": {},
   "outputs": [],
   "source": []
  },
  {
   "cell_type": "markdown",
   "id": "a34f0d08",
   "metadata": {},
   "source": [
    "#### 27. Consider an integer vector Z, which of these expressions are legal? (★☆☆)\n",
    "```python\n",
    "Z**Z\n",
    "2 << Z >> 2\n",
    "Z <- Z\n",
    "1j*Z\n",
    "Z/1/1\n",
    "Z<Z>Z\n",
    "```"
   ]
  },
  {
   "cell_type": "code",
   "execution_count": null,
   "id": "564658fc",
   "metadata": {},
   "outputs": [],
   "source": []
  },
  {
   "cell_type": "markdown",
   "id": "c34e94bf",
   "metadata": {},
   "source": [
    "#### 28. What are the result of the following expressions? (★☆☆)\n",
    "```python\n",
    "np.array(0) / np.array(0)\n",
    "np.array(0) // np.array(0)\n",
    "np.array([np.nan]).astype(int).astype(float)\n",
    "```"
   ]
  },
  {
   "cell_type": "code",
   "execution_count": null,
   "id": "56663562",
   "metadata": {},
   "outputs": [],
   "source": []
  },
  {
   "cell_type": "markdown",
   "id": "546f5e7b",
   "metadata": {},
   "source": [
    "#### 29. How to round away from zero a float array ? (★☆☆)"
   ]
  },
  {
   "cell_type": "code",
   "execution_count": null,
   "id": "f725a6d2",
   "metadata": {},
   "outputs": [],
   "source": []
  },
  {
   "cell_type": "markdown",
   "id": "eadca856",
   "metadata": {},
   "source": [
    "#### 30. How to find common values between two arrays? (★☆☆)"
   ]
  },
  {
   "cell_type": "code",
   "execution_count": null,
   "id": "e0270b5b",
   "metadata": {},
   "outputs": [],
   "source": []
  },
  {
   "cell_type": "markdown",
   "id": "ca16ca22",
   "metadata": {},
   "source": [
    "#### 31. How to ignore all numpy warnings (not recommended)? (★☆☆)"
   ]
  },
  {
   "cell_type": "code",
   "execution_count": null,
   "id": "7d7208ef",
   "metadata": {},
   "outputs": [],
   "source": []
  },
  {
   "cell_type": "markdown",
   "id": "c7871d0d",
   "metadata": {},
   "source": [
    "#### 32. Is the following expressions true? (★☆☆)\n",
    "```python\n",
    "np.sqrt(-1) == np.emath.sqrt(-1)\n",
    "```"
   ]
  },
  {
   "cell_type": "code",
   "execution_count": null,
   "id": "acc3701a",
   "metadata": {},
   "outputs": [],
   "source": []
  },
  {
   "cell_type": "markdown",
   "id": "e0433e30",
   "metadata": {},
   "source": [
    "#### 33. How to get the dates of yesterday, today and tomorrow? (★☆☆)"
   ]
  },
  {
   "cell_type": "code",
   "execution_count": null,
   "id": "9c4d2152",
   "metadata": {},
   "outputs": [],
   "source": []
  },
  {
   "cell_type": "markdown",
   "id": "9f52a2ef",
   "metadata": {},
   "source": [
    "#### 34. How to get all the dates corresponding to the month of July 2016? (★★☆)"
   ]
  },
  {
   "cell_type": "code",
   "execution_count": null,
   "id": "d6c34dec",
   "metadata": {},
   "outputs": [],
   "source": []
  },
  {
   "cell_type": "markdown",
   "id": "4a64e059",
   "metadata": {},
   "source": [
    "#### 35. How to compute ((A+B)*(-A/2)) in place (without copy)? (★★☆)"
   ]
  },
  {
   "cell_type": "code",
   "execution_count": null,
   "id": "49267f60",
   "metadata": {},
   "outputs": [],
   "source": []
  },
  {
   "cell_type": "markdown",
   "id": "8a98c2a8",
   "metadata": {},
   "source": [
    "#### 36. Extract the integer part of a random array of positive numbers using 4 different methods (★★☆)"
   ]
  },
  {
   "cell_type": "code",
   "execution_count": null,
   "id": "368130b3",
   "metadata": {},
   "outputs": [],
   "source": []
  },
  {
   "cell_type": "markdown",
   "id": "5a2e3d85",
   "metadata": {},
   "source": [
    "#### 37. Create a 5x5 matrix with row values ranging from 0 to 4 (★★☆)"
   ]
  },
  {
   "cell_type": "code",
   "execution_count": null,
   "id": "1d974e8f",
   "metadata": {},
   "outputs": [],
   "source": []
  },
  {
   "cell_type": "markdown",
   "id": "9720e2d5",
   "metadata": {},
   "source": [
    "#### 38. Consider a generator function that generates 10 integers and use it to build an array (★☆☆)"
   ]
  },
  {
   "cell_type": "code",
   "execution_count": null,
   "id": "e5dd8fc9",
   "metadata": {},
   "outputs": [],
   "source": []
  },
  {
   "cell_type": "markdown",
   "id": "c6f2c912",
   "metadata": {},
   "source": [
    "#### 39. Create a vector of size 10 with values ranging from 0 to 1, both excluded (★★☆)"
   ]
  },
  {
   "cell_type": "code",
   "execution_count": null,
   "id": "6aaa27d3",
   "metadata": {},
   "outputs": [],
   "source": []
  },
  {
   "cell_type": "markdown",
   "id": "a36d6ee4",
   "metadata": {},
   "source": [
    "#### 40. Create a random vector of size 10 and sort it (★★☆)"
   ]
  },
  {
   "cell_type": "code",
   "execution_count": 11,
   "id": "e589d216",
   "metadata": {},
   "outputs": [
    {
     "name": "stdout",
     "output_type": "stream",
     "text": [
      "[0.04820293 0.15533827 0.47575507 0.56249292 0.62157462 0.72075883\n",
      " 0.87775341 0.90390295 0.93000953 0.96205635]\n"
     ]
    }
   ],
   "source": [
    "Z = np.random.random(10)#×randam\n",
    "Z.sort()\n",
    "print(Z)"
   ]
  },
  {
   "cell_type": "markdown",
   "id": "0fb4ad68",
   "metadata": {},
   "source": [
    "#### 41. How to sum a small array faster than np.sum? (★★☆)"
   ]
  },
  {
   "cell_type": "code",
   "execution_count": 12,
   "id": "a1ba05a0",
   "metadata": {},
   "outputs": [
    {
     "data": {
      "text/plain": [
       "45"
      ]
     },
     "execution_count": 12,
     "metadata": {},
     "output_type": "execute_result"
    }
   ],
   "source": [
    "Z = np.arange(10)\n",
    "np.add.reduce(Z)"
   ]
  },
  {
   "cell_type": "markdown",
   "id": "024ac365",
   "metadata": {},
   "source": [
    "#### 42. Consider two random array A and B, check if they are equal (★★☆)"
   ]
  },
  {
   "cell_type": "code",
   "execution_count": 14,
   "id": "7db3846d",
   "metadata": {},
   "outputs": [
    {
     "name": "stdout",
     "output_type": "stream",
     "text": [
      "False\n"
     ]
    }
   ],
   "source": [
    "A = np.random.randint(0,2,5)\n",
    "B = np.random.randint(0,2,5)\n",
    "equal = np.allclose(A,B)\n",
    "print(equal)"
   ]
  },
  {
   "cell_type": "markdown",
   "id": "c68d2401",
   "metadata": {},
   "source": [
    "#### 43. Make an array immutable (read-only) (★★☆)"
   ]
  },
  {
   "cell_type": "code",
   "execution_count": null,
   "id": "7828539d",
   "metadata": {},
   "outputs": [],
   "source": [
    "Z = np.zeros(10)#//,false,Z[0]=1\n",
    "Z.flags.writeable=True#?\n",
    "Z[0] = 1"
   ]
  },
  {
   "cell_type": "markdown",
   "id": "55df6280",
   "metadata": {},
   "source": [
    "#### 44. Consider a random 10x2 matrix representing cartesian coordinates, convert them to polar coordinates (★★☆)\n",
    "#### 44. デカルト座標を表すランダムな 10x2 行列を考え、極座標に変換します (★★☆)"
   ]
  },
  {
   "cell_type": "code",
   "execution_count": 21,
   "id": "f1c86ea0",
   "metadata": {},
   "outputs": [
    {
     "name": "stdout",
     "output_type": "stream",
     "text": [
      "[1.09500151 0.85361397 0.43785849 1.0097164  0.89083277 0.84105541\n",
      " 0.08527763 0.67749554 1.13766125 0.78878946]\n",
      "[1.0154474  0.93467788 0.4536367  0.24234587 0.09089504 1.54387901\n",
      " 1.16319925 0.01677113 0.69788352 1.08058667]\n"
     ]
    }
   ],
   "source": [
    "Z = np.random.random((10,2))#(10,2)\n",
    "X,Y = Z[:,0],Z[:,1]\n",
    "R = np.sqrt(X**2+Y**2)\n",
    "T = np.arctan2(Y,X)\n",
    "print(R)\n",
    "print(T)"
   ]
  },
  {
   "cell_type": "markdown",
   "id": "2f60f1ec",
   "metadata": {},
   "source": [
    "#### 45. Create random vector of size 10 and replace the maximum value by 0 (★★☆)"
   ]
  },
  {
   "cell_type": "code",
   "execution_count": 22,
   "id": "d9f48f1c",
   "metadata": {},
   "outputs": [
    {
     "name": "stdout",
     "output_type": "stream",
     "text": [
      "[0.5531967  0.8350767  0.         0.28518279 0.05092933 0.07546042\n",
      " 0.51161823 0.90023147 0.04514573 0.72137153]\n"
     ]
    }
   ],
   "source": [
    "Z = np.random.random(10)\n",
    "Z[Z.argmax()] = 0\n",
    "print(Z)"
   ]
  },
  {
   "cell_type": "markdown",
   "id": "084e8ad4",
   "metadata": {},
   "source": [
    "#### 46. Create a structured array with `x` and `y` coordinates covering the [0,1]x[0,1] area (★★☆)\n",
    "#### 46. [0,1]x[0,1] 領域をカバーする `x` および `y` 座標を含む構造化配列を作成します (★★☆)"
   ]
  },
  {
   "cell_type": "code",
   "execution_count": 24,
   "id": "58b47c13",
   "metadata": {},
   "outputs": [
    {
     "name": "stdout",
     "output_type": "stream",
     "text": [
      "[[(0.  , 0.  ) (0.25, 0.  ) (0.5 , 0.  ) (0.75, 0.  ) (1.  , 0.  )]\n",
      " [(0.  , 0.25) (0.25, 0.25) (0.5 , 0.25) (0.75, 0.25) (1.  , 0.25)]\n",
      " [(0.  , 0.5 ) (0.25, 0.5 ) (0.5 , 0.5 ) (0.75, 0.5 ) (1.  , 0.5 )]\n",
      " [(0.  , 0.75) (0.25, 0.75) (0.5 , 0.75) (0.75, 0.75) (1.  , 0.75)]\n",
      " [(0.  , 1.  ) (0.25, 1.  ) (0.5 , 1.  ) (0.75, 1.  ) (1.  , 1.  )]]\n"
     ]
    }
   ],
   "source": [
    "Z = np.zeros((5,5),[('x',float),('y',float)])\n",
    "#np.linspace(2,10,5)は初項2,最大項10,項数5の等差数列\n",
    "Z['x'],Z['y']=np.meshgrid(np.linspace(0,1,5),np.linspace(0,1,5))#spase\n",
    "print(Z)"
   ]
  },
  {
   "cell_type": "markdown",
   "id": "d7b9bc42",
   "metadata": {},
   "source": [
    "#### 47. Given two arrays, X and Y, construct the Cauchy matrix C (Cij =1/(xi - yj)) (★★☆)\n",
    "#### 47. 2 つの配列 X と Y を指定して、コーシー列 (収束値は分からないが収束することが分かる列)C (Cij =1/(xi - yj)) を構築します (★★☆)"
   ]
  },
  {
   "cell_type": "code",
   "execution_count": 25,
   "id": "a24824fb",
   "metadata": {},
   "outputs": [
    {
     "name": "stdout",
     "output_type": "stream",
     "text": [
      "3638.1636371179666\n"
     ]
    }
   ],
   "source": [
    "X = np.arange(8)\n",
    "Y = X + 0.5\n",
    "C = 1.0 / np.subtract.outer(X,Y)#減算，外側\n",
    "print(np.linalg.det(C))#?線形代数（Linear algebra）"
   ]
  },
  {
   "cell_type": "markdown",
   "id": "65ebc11b",
   "metadata": {},
   "source": [
    "#### 48. Print the minimum and maximum representable value for each numpy scalar type (★★☆)\n",
    "#### 48. 各 numpy スカラー型の表現可能な最小値と最大値を出力します (★★☆)"
   ]
  },
  {
   "cell_type": "code",
   "execution_count": 31,
   "id": "e45d38fb",
   "metadata": {},
   "outputs": [
    {
     "name": "stdout",
     "output_type": "stream",
     "text": [
      "-128\n",
      "127\n",
      "-2147483648\n",
      "2147483647\n",
      "-9223372036854775808\n",
      "9223372036854775807\n",
      "-3.4028235e+38\n",
      "3.4028235e+38\n",
      "1.1920929e-07\n",
      "-1.7976931348623157e+308\n",
      "1.7976931348623157e+308\n",
      "2.220446049250313e-16\n"
     ]
    },
    {
     "data": {
      "text/plain": [
       "'for dtype in [np.int8, np.int32, np.int64]:\\n   print(np.iinfo(dtype).min)\\n   print(np.iinfo(dtype).max)\\nfor dtype in [np.float32, np.float64]:\\n   print(np.finfo(dtype).min)\\n   print(np.finfo(dtype).max)\\n   print(np.finfo(dtype).eps)'"
      ]
     },
     "execution_count": 31,
     "metadata": {},
     "output_type": "execute_result"
    }
   ],
   "source": [
    "for dtype in[np.int8,np.int32,np.int64]:#numpy.iinfo()で整数，numpy.finfo()で浮動小数点数の情報を得る\n",
    "    print(np.iinfo(dtype).min)\n",
    "    print(np.iinfo(dtype).max)\n",
    "for dtype in[np.float32,np.float64]:\n",
    "    print(np.finfo(dtype).min)    \n",
    "    print(np.finfo(dtype).max)    \n",
    "    print(np.finfo(dtype).eps)#?何故エラー？\n",
    "\"\"\"for dtype in [np.int8, np.int32, np.int64]:\n",
    "   print(np.iinfo(dtype).min)\n",
    "   print(np.iinfo(dtype).max)\n",
    "for dtype in [np.float32, np.float64]:\n",
    "   print(np.finfo(dtype).min)\n",
    "   print(np.finfo(dtype).max)\n",
    "   print(np.finfo(dtype).eps)\"\"\""
   ]
  },
  {
   "cell_type": "markdown",
   "id": "9b317a98",
   "metadata": {},
   "source": [
    "#### 49. How to print all the values of an array? (★★☆)"
   ]
  },
  {
   "cell_type": "code",
   "execution_count": 32,
   "id": "309cdeb9",
   "metadata": {},
   "outputs": [
    {
     "name": "stdout",
     "output_type": "stream",
     "text": [
      "[[0. 0. 0. 0. 0. 0. 0. 0. 0. 0. 0. 0. 0. 0. 0. 0. 0. 0. 0. 0. 0. 0. 0. 0.\n",
      "  0. 0. 0. 0. 0. 0. 0. 0. 0. 0. 0. 0. 0. 0. 0. 0.]\n",
      " [0. 0. 0. 0. 0. 0. 0. 0. 0. 0. 0. 0. 0. 0. 0. 0. 0. 0. 0. 0. 0. 0. 0. 0.\n",
      "  0. 0. 0. 0. 0. 0. 0. 0. 0. 0. 0. 0. 0. 0. 0. 0.]\n",
      " [0. 0. 0. 0. 0. 0. 0. 0. 0. 0. 0. 0. 0. 0. 0. 0. 0. 0. 0. 0. 0. 0. 0. 0.\n",
      "  0. 0. 0. 0. 0. 0. 0. 0. 0. 0. 0. 0. 0. 0. 0. 0.]\n",
      " [0. 0. 0. 0. 0. 0. 0. 0. 0. 0. 0. 0. 0. 0. 0. 0. 0. 0. 0. 0. 0. 0. 0. 0.\n",
      "  0. 0. 0. 0. 0. 0. 0. 0. 0. 0. 0. 0. 0. 0. 0. 0.]\n",
      " [0. 0. 0. 0. 0. 0. 0. 0. 0. 0. 0. 0. 0. 0. 0. 0. 0. 0. 0. 0. 0. 0. 0. 0.\n",
      "  0. 0. 0. 0. 0. 0. 0. 0. 0. 0. 0. 0. 0. 0. 0. 0.]\n",
      " [0. 0. 0. 0. 0. 0. 0. 0. 0. 0. 0. 0. 0. 0. 0. 0. 0. 0. 0. 0. 0. 0. 0. 0.\n",
      "  0. 0. 0. 0. 0. 0. 0. 0. 0. 0. 0. 0. 0. 0. 0. 0.]\n",
      " [0. 0. 0. 0. 0. 0. 0. 0. 0. 0. 0. 0. 0. 0. 0. 0. 0. 0. 0. 0. 0. 0. 0. 0.\n",
      "  0. 0. 0. 0. 0. 0. 0. 0. 0. 0. 0. 0. 0. 0. 0. 0.]\n",
      " [0. 0. 0. 0. 0. 0. 0. 0. 0. 0. 0. 0. 0. 0. 0. 0. 0. 0. 0. 0. 0. 0. 0. 0.\n",
      "  0. 0. 0. 0. 0. 0. 0. 0. 0. 0. 0. 0. 0. 0. 0. 0.]\n",
      " [0. 0. 0. 0. 0. 0. 0. 0. 0. 0. 0. 0. 0. 0. 0. 0. 0. 0. 0. 0. 0. 0. 0. 0.\n",
      "  0. 0. 0. 0. 0. 0. 0. 0. 0. 0. 0. 0. 0. 0. 0. 0.]\n",
      " [0. 0. 0. 0. 0. 0. 0. 0. 0. 0. 0. 0. 0. 0. 0. 0. 0. 0. 0. 0. 0. 0. 0. 0.\n",
      "  0. 0. 0. 0. 0. 0. 0. 0. 0. 0. 0. 0. 0. 0. 0. 0.]\n",
      " [0. 0. 0. 0. 0. 0. 0. 0. 0. 0. 0. 0. 0. 0. 0. 0. 0. 0. 0. 0. 0. 0. 0. 0.\n",
      "  0. 0. 0. 0. 0. 0. 0. 0. 0. 0. 0. 0. 0. 0. 0. 0.]\n",
      " [0. 0. 0. 0. 0. 0. 0. 0. 0. 0. 0. 0. 0. 0. 0. 0. 0. 0. 0. 0. 0. 0. 0. 0.\n",
      "  0. 0. 0. 0. 0. 0. 0. 0. 0. 0. 0. 0. 0. 0. 0. 0.]\n",
      " [0. 0. 0. 0. 0. 0. 0. 0. 0. 0. 0. 0. 0. 0. 0. 0. 0. 0. 0. 0. 0. 0. 0. 0.\n",
      "  0. 0. 0. 0. 0. 0. 0. 0. 0. 0. 0. 0. 0. 0. 0. 0.]\n",
      " [0. 0. 0. 0. 0. 0. 0. 0. 0. 0. 0. 0. 0. 0. 0. 0. 0. 0. 0. 0. 0. 0. 0. 0.\n",
      "  0. 0. 0. 0. 0. 0. 0. 0. 0. 0. 0. 0. 0. 0. 0. 0.]\n",
      " [0. 0. 0. 0. 0. 0. 0. 0. 0. 0. 0. 0. 0. 0. 0. 0. 0. 0. 0. 0. 0. 0. 0. 0.\n",
      "  0. 0. 0. 0. 0. 0. 0. 0. 0. 0. 0. 0. 0. 0. 0. 0.]\n",
      " [0. 0. 0. 0. 0. 0. 0. 0. 0. 0. 0. 0. 0. 0. 0. 0. 0. 0. 0. 0. 0. 0. 0. 0.\n",
      "  0. 0. 0. 0. 0. 0. 0. 0. 0. 0. 0. 0. 0. 0. 0. 0.]\n",
      " [0. 0. 0. 0. 0. 0. 0. 0. 0. 0. 0. 0. 0. 0. 0. 0. 0. 0. 0. 0. 0. 0. 0. 0.\n",
      "  0. 0. 0. 0. 0. 0. 0. 0. 0. 0. 0. 0. 0. 0. 0. 0.]\n",
      " [0. 0. 0. 0. 0. 0. 0. 0. 0. 0. 0. 0. 0. 0. 0. 0. 0. 0. 0. 0. 0. 0. 0. 0.\n",
      "  0. 0. 0. 0. 0. 0. 0. 0. 0. 0. 0. 0. 0. 0. 0. 0.]\n",
      " [0. 0. 0. 0. 0. 0. 0. 0. 0. 0. 0. 0. 0. 0. 0. 0. 0. 0. 0. 0. 0. 0. 0. 0.\n",
      "  0. 0. 0. 0. 0. 0. 0. 0. 0. 0. 0. 0. 0. 0. 0. 0.]\n",
      " [0. 0. 0. 0. 0. 0. 0. 0. 0. 0. 0. 0. 0. 0. 0. 0. 0. 0. 0. 0. 0. 0. 0. 0.\n",
      "  0. 0. 0. 0. 0. 0. 0. 0. 0. 0. 0. 0. 0. 0. 0. 0.]\n",
      " [0. 0. 0. 0. 0. 0. 0. 0. 0. 0. 0. 0. 0. 0. 0. 0. 0. 0. 0. 0. 0. 0. 0. 0.\n",
      "  0. 0. 0. 0. 0. 0. 0. 0. 0. 0. 0. 0. 0. 0. 0. 0.]\n",
      " [0. 0. 0. 0. 0. 0. 0. 0. 0. 0. 0. 0. 0. 0. 0. 0. 0. 0. 0. 0. 0. 0. 0. 0.\n",
      "  0. 0. 0. 0. 0. 0. 0. 0. 0. 0. 0. 0. 0. 0. 0. 0.]\n",
      " [0. 0. 0. 0. 0. 0. 0. 0. 0. 0. 0. 0. 0. 0. 0. 0. 0. 0. 0. 0. 0. 0. 0. 0.\n",
      "  0. 0. 0. 0. 0. 0. 0. 0. 0. 0. 0. 0. 0. 0. 0. 0.]\n",
      " [0. 0. 0. 0. 0. 0. 0. 0. 0. 0. 0. 0. 0. 0. 0. 0. 0. 0. 0. 0. 0. 0. 0. 0.\n",
      "  0. 0. 0. 0. 0. 0. 0. 0. 0. 0. 0. 0. 0. 0. 0. 0.]\n",
      " [0. 0. 0. 0. 0. 0. 0. 0. 0. 0. 0. 0. 0. 0. 0. 0. 0. 0. 0. 0. 0. 0. 0. 0.\n",
      "  0. 0. 0. 0. 0. 0. 0. 0. 0. 0. 0. 0. 0. 0. 0. 0.]\n",
      " [0. 0. 0. 0. 0. 0. 0. 0. 0. 0. 0. 0. 0. 0. 0. 0. 0. 0. 0. 0. 0. 0. 0. 0.\n",
      "  0. 0. 0. 0. 0. 0. 0. 0. 0. 0. 0. 0. 0. 0. 0. 0.]\n",
      " [0. 0. 0. 0. 0. 0. 0. 0. 0. 0. 0. 0. 0. 0. 0. 0. 0. 0. 0. 0. 0. 0. 0. 0.\n",
      "  0. 0. 0. 0. 0. 0. 0. 0. 0. 0. 0. 0. 0. 0. 0. 0.]\n",
      " [0. 0. 0. 0. 0. 0. 0. 0. 0. 0. 0. 0. 0. 0. 0. 0. 0. 0. 0. 0. 0. 0. 0. 0.\n",
      "  0. 0. 0. 0. 0. 0. 0. 0. 0. 0. 0. 0. 0. 0. 0. 0.]\n",
      " [0. 0. 0. 0. 0. 0. 0. 0. 0. 0. 0. 0. 0. 0. 0. 0. 0. 0. 0. 0. 0. 0. 0. 0.\n",
      "  0. 0. 0. 0. 0. 0. 0. 0. 0. 0. 0. 0. 0. 0. 0. 0.]\n",
      " [0. 0. 0. 0. 0. 0. 0. 0. 0. 0. 0. 0. 0. 0. 0. 0. 0. 0. 0. 0. 0. 0. 0. 0.\n",
      "  0. 0. 0. 0. 0. 0. 0. 0. 0. 0. 0. 0. 0. 0. 0. 0.]\n",
      " [0. 0. 0. 0. 0. 0. 0. 0. 0. 0. 0. 0. 0. 0. 0. 0. 0. 0. 0. 0. 0. 0. 0. 0.\n",
      "  0. 0. 0. 0. 0. 0. 0. 0. 0. 0. 0. 0. 0. 0. 0. 0.]\n",
      " [0. 0. 0. 0. 0. 0. 0. 0. 0. 0. 0. 0. 0. 0. 0. 0. 0. 0. 0. 0. 0. 0. 0. 0.\n",
      "  0. 0. 0. 0. 0. 0. 0. 0. 0. 0. 0. 0. 0. 0. 0. 0.]\n",
      " [0. 0. 0. 0. 0. 0. 0. 0. 0. 0. 0. 0. 0. 0. 0. 0. 0. 0. 0. 0. 0. 0. 0. 0.\n",
      "  0. 0. 0. 0. 0. 0. 0. 0. 0. 0. 0. 0. 0. 0. 0. 0.]\n",
      " [0. 0. 0. 0. 0. 0. 0. 0. 0. 0. 0. 0. 0. 0. 0. 0. 0. 0. 0. 0. 0. 0. 0. 0.\n",
      "  0. 0. 0. 0. 0. 0. 0. 0. 0. 0. 0. 0. 0. 0. 0. 0.]\n",
      " [0. 0. 0. 0. 0. 0. 0. 0. 0. 0. 0. 0. 0. 0. 0. 0. 0. 0. 0. 0. 0. 0. 0. 0.\n",
      "  0. 0. 0. 0. 0. 0. 0. 0. 0. 0. 0. 0. 0. 0. 0. 0.]\n",
      " [0. 0. 0. 0. 0. 0. 0. 0. 0. 0. 0. 0. 0. 0. 0. 0. 0. 0. 0. 0. 0. 0. 0. 0.\n",
      "  0. 0. 0. 0. 0. 0. 0. 0. 0. 0. 0. 0. 0. 0. 0. 0.]\n",
      " [0. 0. 0. 0. 0. 0. 0. 0. 0. 0. 0. 0. 0. 0. 0. 0. 0. 0. 0. 0. 0. 0. 0. 0.\n",
      "  0. 0. 0. 0. 0. 0. 0. 0. 0. 0. 0. 0. 0. 0. 0. 0.]\n",
      " [0. 0. 0. 0. 0. 0. 0. 0. 0. 0. 0. 0. 0. 0. 0. 0. 0. 0. 0. 0. 0. 0. 0. 0.\n",
      "  0. 0. 0. 0. 0. 0. 0. 0. 0. 0. 0. 0. 0. 0. 0. 0.]\n",
      " [0. 0. 0. 0. 0. 0. 0. 0. 0. 0. 0. 0. 0. 0. 0. 0. 0. 0. 0. 0. 0. 0. 0. 0.\n",
      "  0. 0. 0. 0. 0. 0. 0. 0. 0. 0. 0. 0. 0. 0. 0. 0.]\n",
      " [0. 0. 0. 0. 0. 0. 0. 0. 0. 0. 0. 0. 0. 0. 0. 0. 0. 0. 0. 0. 0. 0. 0. 0.\n",
      "  0. 0. 0. 0. 0. 0. 0. 0. 0. 0. 0. 0. 0. 0. 0. 0.]]\n"
     ]
    }
   ],
   "source": [
    "np.set_printoptions(threshold=float(\"inf\"))#print()で表示するときの設定,threshold:しきい値\n",
    "Z = np.zeros((40,40))\n",
    "print(Z)"
   ]
  },
  {
   "cell_type": "markdown",
   "id": "b580f9d0",
   "metadata": {},
   "source": [
    "#### 50. How to find the closest value (to a given scalar) in a vector? (★★☆)"
   ]
  },
  {
   "cell_type": "code",
   "execution_count": 33,
   "id": "ebfb6714",
   "metadata": {},
   "outputs": [
    {
     "name": "stdout",
     "output_type": "stream",
     "text": [
      "0.9976633721669097\n"
     ]
    }
   ],
   "source": [
    "Z = np.random.random(100)\n",
    "v = np.random.uniform(0,100)\n",
    "index = (np.abs(Z-v)).argmin()#argmin()は配列の最小値のインデックスを取得するもの.argument of the maximum(最大値を与える引数)の略\n",
    "print(Z[index])"
   ]
  },
  {
   "cell_type": "markdown",
   "id": "602e6252",
   "metadata": {},
   "source": [
    "#### 51. Create a structured array representing a position (x,y) and a color (r,g,b) (★★☆)"
   ]
  },
  {
   "cell_type": "code",
   "execution_count": 39,
   "id": "cf002b3a",
   "metadata": {},
   "outputs": [
    {
     "name": "stdout",
     "output_type": "stream",
     "text": [
      "[((0., 0.), (0., 0., 0.)) ((0., 0.), (0., 0., 0.))\n",
      " ((0., 0.), (0., 0., 0.)) ((0., 0.), (0., 0., 0.))\n",
      " ((0., 0.), (0., 0., 0.)) ((0., 0.), (0., 0., 0.))\n",
      " ((0., 0.), (0., 0., 0.)) ((0., 0.), (0., 0., 0.))\n",
      " ((0., 0.), (0., 0., 0.)) ((0., 0.), (0., 0., 0.))]\n"
     ]
    },
    {
     "name": "stderr",
     "output_type": "stream",
     "text": [
      "C:\\Users\\izmr3\\AppData\\Local\\Temp\\ipykernel_5232\\2726824099.py:1: FutureWarning: Passing (type, 1) or '1type' as a synonym of type is deprecated; in a future version of numpy, it will be understood as (type, (1,)) / '(1,)type'.\n",
      "  Z = np.zeros(10,[('position',[('x',float,1),('y',float,1)]),('color',[('r',float,1),('g',float,1),('b',float,1)])])#\"\"\"1とは？\"\"\"\n"
     ]
    }
   ],
   "source": [
    "Z = np.zeros(10,[('position',[('x',float,1),('y',float,1)]),('color',[('r',float,1),('g',float,1),('b',float,1)])])#\"\"\"1とは？\"\"\"\n",
    "print(Z)"
   ]
  },
  {
   "cell_type": "markdown",
   "id": "78bcd92f",
   "metadata": {},
   "source": [
    "#### 52. Consider a random vector with shape (100,2) representing coordinates, find point by point distances (★★☆)\n",
    "\n",
    "#### 52. 座標を表す形状 (100,2) のランダム ベクトルを考慮し、点ごとの距離 (★★☆) を求めます。"
   ]
  },
  {
   "cell_type": "code",
   "execution_count": 40,
   "id": "fea7f9a6",
   "metadata": {},
   "outputs": [
    {
     "name": "stdout",
     "output_type": "stream",
     "text": [
      "[[0.         0.68958636 0.41943257 1.10725875 1.03127524 0.96812842\n",
      "  0.38802609 0.63579016 0.32680154 0.82105794 0.58956962 0.58246097\n",
      "  0.6740599  0.501138   0.48018701 0.66574316 0.60867356 0.79046211\n",
      "  0.56790119 0.41861658 0.3268229  0.95198708 0.29697324 0.85816937\n",
      "  0.3862187  0.81516071 0.5705774  0.13583844 0.75837266 0.45538725\n",
      "  0.20642937 0.31521741 0.2268246  0.47782137 0.42394727 0.44011001\n",
      "  0.33948763 0.72351361 0.28002993 0.59029033 0.40784719 0.67409055\n",
      "  0.47717788 0.40598096 0.29212526 0.97592386 0.50144161 0.09840152\n",
      "  0.63235967 0.43763016 0.76171985 0.28544139 0.90234714 0.41812678\n",
      "  0.69406577 0.14794218 0.7564222  0.73191332 0.82321243 0.43681481\n",
      "  0.47529364 0.90843391 0.24575989 0.20060565 0.25664225 0.93871915\n",
      "  0.51801763 0.62638735 1.02378811 1.01939977 0.50121365 0.42477817\n",
      "  0.85896669 0.03983684 0.74372131 0.61073943 0.80767042 0.74902003\n",
      "  0.95823235 0.44592457 0.77866521 0.35430877 0.47782997 0.45245684\n",
      "  0.70805012 0.68941334 0.97117612 0.43245602 0.16358242 0.60355818\n",
      "  0.68857462 0.87388393 0.23899929 0.36671542 0.63017644 0.98780706\n",
      "  0.30201983 0.36253079 0.57214674 0.5114969 ]\n",
      " [0.68958636 0.         0.33961093 0.62972923 0.74733772 0.84355428\n",
      "  0.35443389 0.46695958 0.64515218 0.84169364 0.8233874  0.56634438\n",
      "  0.18312102 0.18867799 0.64219828 0.49880199 0.12249179 0.90373657\n",
      "  0.15881209 0.73981314 0.91203966 0.62306762 0.42151907 0.77956505\n",
      "  0.79067957 0.36059296 0.90954756 0.68715536 0.93394757 0.25477069\n",
      "  0.86836948 0.81443141 0.83869041 0.25204286 0.27795374 0.61300735\n",
      "  0.85769381 0.81780223 0.48685484 0.46692154 0.81934559 0.55532623\n",
      "  0.54903523 0.42307624 0.68178468 0.53799671 0.21340768 0.70068367\n",
      "  0.15699235 0.30814458 0.89130166 0.41082244 0.98834086 0.33018677\n",
      "  0.7068085  0.54249373 0.37857621 0.76494021 0.95441637 0.26880192\n",
      "  0.58171803 0.87988968 0.78465921 0.86352544 0.46648107 0.45985715\n",
      "  0.85896157 0.95921971 0.70383328 0.77212604 0.23598224 0.71143102\n",
      "  0.60670629 0.71010347 0.94964794 0.39202308 0.56904715 0.91960606\n",
      "  0.40281601 0.83672125 0.86023417 0.40109638 0.41628015 0.80027549\n",
      "  0.58660736 0.03301008 0.59193025 0.33907326 0.78462625 0.33335528\n",
      "  0.9751784  0.65070869 0.84516561 0.3270343  0.08547353 1.14368053\n",
      "  0.88128435 0.64157302 0.46762475 0.17892146]\n",
      " [0.41943257 0.33961093 0.         0.92059773 0.96025075 0.9886829\n",
      "  0.29608636 0.58187979 0.53367151 0.9162912  0.79023013 0.6175722\n",
      "  0.42582544 0.18709268 0.6136373  0.62042383 0.32421635 0.93880319\n",
      "  0.30310623 0.65008459 0.71353293 0.84745329 0.27885666 0.89679545\n",
      "  0.66861444 0.61958507 0.83421682 0.47391515 0.94123696 0.0967244\n",
      "  0.62284308 0.64989375 0.62116056 0.28085255 0.22357561 0.57060159\n",
      "  0.68887391 0.85344866 0.35512895 0.5540668  0.69799234 0.66174085\n",
      "  0.54424749 0.39134923 0.54452892 0.80657973 0.12759297 0.46885062\n",
      "  0.22888069 0.29814836 0.91721342 0.15378685 1.04351064 0.30166888\n",
      "  0.76923316 0.29620322 0.59757203 0.82491384 0.98509528 0.23386522\n",
      "  0.56733522 0.98186353 0.597111   0.61719262 0.16310361 0.74125502\n",
      "  0.77721175 0.89146651 0.93030466 0.9697842  0.29455074 0.63346916\n",
      "  0.79176402 0.4513521  0.94344211 0.51575347 0.7423786  0.92805279\n",
      "  0.71379466 0.72776933 0.90670603 0.31905212 0.4409806  0.70743744\n",
      "  0.70034811 0.32473013 0.83752481 0.32905534 0.5578007  0.47049873\n",
      "  0.93152875 0.82608295 0.63109339 0.19688224 0.25837369 1.17491175\n",
      "  0.68385772 0.54989226 0.54326003 0.18810054]\n",
      " [1.10725875 0.62972923 0.92059773 0.         0.29139998 0.50354382\n",
      "  0.72925677 0.49242769 0.86918877 0.65195783 0.84098117 0.59928727\n",
      "  0.49481079 0.73350978 0.74740402 0.47579144 0.5975937  0.76410274\n",
      "  0.61802414 0.88636672 1.16708309 0.23067375 0.818777   0.53353483\n",
      "  0.96521649 0.30470919 0.96521467 1.02926755 0.83481254 0.82387916\n",
      "  1.20808192 1.04485655 1.14197857 0.66768428 0.73421884 0.75760458\n",
      "  1.08108311 0.71495074 0.82795467 0.53815122 0.98201227 0.50101243\n",
      "  0.6839173  0.70229302 0.92373443 0.13244963 0.80053859 1.0632568\n",
      "  0.78648093 0.68711953 0.77402736 0.91059679 0.77870335 0.70165086\n",
      "  0.61533334 0.97624469 0.35153828 0.64337408 0.80389157 0.71989643\n",
      "  0.70613376 0.61698966 1.05884264 1.20555862 0.9832779  0.1796246\n",
      "  0.94354973 0.98534973 0.23719898 0.34236159 0.64660509 0.85355984\n",
      "  0.33441207 1.10679464 0.86966279 0.49854616 0.36357852 0.82370702\n",
      "  0.23349625 0.97352186 0.71714301 0.75539267 0.63273719 0.92563188\n",
      "  0.4887305  0.66037314 0.17193147 0.68156739 1.11608333 0.50484451\n",
      "  0.95393981 0.36121209 1.14150287 0.79162038 0.70940278 0.93561005\n",
      "  1.14247418 0.83999582 0.55624452 0.73291042]\n",
      " [1.03127524 0.74733772 0.96025075 0.29139998 0.         0.21661882\n",
      "  0.70199097 0.40280241 0.73836071 0.39115781 0.62829968 0.45522571\n",
      "  0.5715279  0.78359805 0.59015805 0.36858405 0.66968485 0.50558059\n",
      "  0.67183224 0.71888605 1.01037852 0.12508653 0.77812347 0.27298449\n",
      "  0.79759214 0.3895649  0.75105339 0.92624684 0.58161243 0.86892405\n",
      "  1.08477859 0.8904631  1.00847084 0.68036567 0.74280919 0.61569194\n",
      "  0.91967294 0.47590715 0.7590037  0.44525256 0.80729568 0.35796934\n",
      "  0.55887096 0.63952541 0.7911885  0.25380383 0.86038678 0.96553026\n",
      "  0.89114725 0.67589891 0.5215661  0.90299661 0.50027078 0.68185802\n",
      "  0.40325953 0.92467472 0.37406984 0.41060143 0.53833156 0.73039884\n",
      "  0.56909606 0.33810845 0.92157098 1.08354275 0.97491382 0.33152051\n",
      "  0.74276709 0.75866239 0.05711704 0.05132075 0.66570279 0.68989106\n",
      "  0.17522345 1.02045651 0.61907789 0.45207255 0.22747082 0.57266402\n",
      "  0.43879553 0.78945717 0.46318738 0.71090111 0.56690536 0.74335956\n",
      "  0.32671636 0.7803478  0.17334975 0.65565878 0.9979155  0.49052369\n",
      "  0.71431042 0.15823338 1.004975   0.78914887 0.81003001 0.6510768\n",
      "  0.99066797 0.70353643 0.46253261 0.78760725]\n",
      " [0.96812842 0.84355428 0.9886829  0.50354382 0.21661882 0.\n",
      "  0.70171523 0.40770641 0.64885863 0.20030862 0.47115274 0.39432372\n",
      "  0.66043368 0.83183909 0.49208137 0.36931659 0.74366956 0.30879956\n",
      "  0.7334132  0.59802166 0.88289611 0.29252713 0.75983798 0.11105807\n",
      "  0.67111915 0.5168289  0.58522976 0.84696238 0.38674527 0.90705828\n",
      "  0.98154995 0.77024147 0.90008621 0.71227942 0.76513927 0.52895965\n",
      "  0.79207566 0.30378292 0.71994004 0.43517747 0.67396221 0.32770567\n",
      "  0.49598908 0.61877596 0.69593707 0.43879825 0.90955845 0.88836713\n",
      "  0.96909169 0.69077786 0.33036846 0.90024397 0.28584316 0.68957785\n",
      "  0.2776658  0.88671581 0.47047007 0.25594997 0.33332901 0.75535622\n",
      "  0.49337509 0.12662918 0.81418808 0.98139434 0.96707328 0.50272597\n",
      "  0.58959136 0.58128189 0.26681613 0.16595709 0.70392264 0.57496879\n",
      "  0.24537347 0.94962281 0.42523849 0.47868336 0.27519172 0.38029127\n",
      "  0.61198829 0.64881444 0.27430563 0.69624999 0.55443105 0.6071449\n",
      "  0.2888719  0.87561046 0.357123   0.66190049 0.90252531 0.53247804\n",
      "  0.52704527 0.19878716 0.89426931 0.79901587 0.89054089 0.43446625\n",
      "  0.86800006 0.61220311 0.44738712 0.83872017]\n",
      " [0.38802609 0.35443389 0.29608636 0.72925677 0.70199097 0.70171523\n",
      "  0.         0.30319961 0.29403642 0.6202376  0.51218867 0.32189595\n",
      "  0.29000694 0.20056524 0.32910269 0.34075932 0.24508023 0.64527204\n",
      "  0.20256239 0.39771491 0.56021834 0.60245721 0.09134145 0.60517474\n",
      "  0.44026451 0.43030548 0.57721105 0.34708034 0.65302132 0.23461927\n",
      "  0.5343863  0.46002578 0.49332582 0.10430669 0.09249639 0.28975181\n",
      "  0.50330527 0.55913145 0.13499731 0.26794036 0.46953796 0.37431887\n",
      "  0.25092315 0.09686546 0.32770571 0.6006743  0.25873047 0.36912046\n",
      "  0.37548787 0.05197458 0.62489427 0.20185045 0.74838728 0.03037633\n",
      "  0.47319002 0.24840912 0.37841528 0.52884811 0.6926035  0.0939088\n",
      "  0.27687859 0.68714385 0.43276692 0.53020337 0.27301371 0.55567972\n",
      "  0.52283055 0.63131458 0.68173731 0.7030476  0.12486823 0.37321814\n",
      "  0.52742922 0.39611518 0.65887257 0.25108028 0.47556053 0.63939832\n",
      "  0.57023484 0.49040645 0.61165229 0.04669351 0.14762737 0.45851293\n",
      "  0.41316576 0.36763084 0.60874126 0.04818953 0.44508204 0.22628397\n",
      "  0.66040836 0.55511758 0.49846212 0.09955615 0.3293148  0.88370891\n",
      "  0.52966735 0.29576963 0.25453147 0.21262113]\n",
      " [0.63579016 0.46695958 0.58187979 0.49242769 0.40280241 0.40770641\n",
      "  0.30319961 0.         0.37680717 0.37480059 0.40843966 0.12865391\n",
      "  0.29288425 0.42564066 0.26716581 0.03854408 0.35302266 0.44149351\n",
      "  0.3347152  0.40481512 0.67639131 0.31620708 0.37556494 0.32341633\n",
      "  0.48113052 0.2593581  0.52173881 0.54309068 0.48141332 0.49935709\n",
      "  0.71734312 0.55461257 0.64972452 0.30460578 0.35838335 0.26891502\n",
      "  0.59237869 0.35819976 0.3586294  0.04649003 0.5012427  0.08902429\n",
      "  0.19250358 0.23690073 0.43132274 0.36084378 0.50294998 0.57955304\n",
      "  0.57294756 0.28520508 0.43250629 0.50502784 0.52158037 0.28667397\n",
      "  0.24271272 0.52257119 0.18047283 0.29977887 0.49224337 0.34812301\n",
      "  0.21761479 0.41875299 0.56641993 0.71506343 0.57559781 0.35121104\n",
      "  0.48596818 0.55789462 0.38929167 0.40051186 0.29696159 0.3712041\n",
      "  0.22762456 0.62911823 0.50334102 0.0758688  0.17538116 0.46719093\n",
      "  0.41892007 0.49924378 0.39600616 0.30845189 0.16410561 0.45223085\n",
      "  0.12391476 0.49625299 0.33964262 0.25931817 0.62597458 0.13448189\n",
      "  0.55205346 0.25219181 0.6491096  0.39635248 0.49823626 0.67874395\n",
      "  0.651034   0.34829518 0.06494926 0.43316327]\n",
      " [0.32680154 0.64515218 0.53367151 0.86918877 0.73836071 0.64885863\n",
      "  0.29403642 0.37680717 0.         0.49439746 0.27671821 0.28410173\n",
      "  0.54404157 0.49199577 0.15678736 0.39546667 0.5289411  0.4672789\n",
      "  0.48811146 0.11720799 0.3029785  0.67928805 0.25939405 0.53793299\n",
      "  0.14622844 0.61427595 0.30073708 0.19866967 0.44355066 0.50553155\n",
      "  0.34700363 0.18460463 0.27431951 0.39324441 0.38303094 0.12313026\n",
      "  0.22627382 0.39719256 0.18061772 0.33149087 0.1755478  0.38477722\n",
      "  0.18627099 0.22642669 0.05463578 0.73762997 0.53964878 0.24031378\n",
      "  0.66530067 0.3371329  0.43943547 0.38627328 0.57941913 0.31547025\n",
      "  0.37175825 0.29099737 0.5402941  0.40611479 0.50348895 0.38701759\n",
      "  0.1698321  0.58244127 0.1897333  0.34552523 0.42320595 0.72248243\n",
      "  0.24361666 0.35830735 0.74098176 0.71876793 0.40953951 0.10750203\n",
      "  0.57560366 0.30344185 0.43514984 0.38560704 0.52826976 0.43269622\n",
      "  0.77371929 0.19858395 0.45266824 0.24895617 0.26503988 0.17381795\n",
      "  0.41224254 0.6605021  0.71236788 0.30664164 0.25965102 0.40808772\n",
      "  0.40346917 0.58063851 0.27289879 0.36111029 0.62324825 0.67873158\n",
      "  0.27600457 0.03666725 0.31373823 0.50427066]\n",
      " [0.82105794 0.84169364 0.9162912  0.65195783 0.39115781 0.20030862\n",
      "  0.6202376  0.37480059 0.49439746 0.         0.27763673 0.29934631\n",
      "  0.66504827 0.78528364 0.34289283 0.34358789 0.72715843 0.11448833\n",
      "  0.70606701 0.4225411  0.69643842 0.42229297 0.65817082 0.11962296\n",
      "  0.48931692 0.57321092 0.38654486 0.69169149 0.19076944 0.84709801\n",
      "  0.80712654 0.58971037 0.72398351 0.65920567 0.69926966 0.38607363\n",
      "  0.60692729 0.10894695 0.60289961 0.38115596 0.48804299 0.28644815\n",
      "  0.37932139 0.52632967 0.53466136 0.55780137 0.85957112 0.73334956\n",
      "  0.9432623  0.62395761 0.13172325 0.80438361 0.14960838 0.61634869\n",
      "  0.14706128 0.76194348 0.50646247 0.09330329 0.15203374 0.69257288\n",
      "  0.36485311 0.09204839 0.64054969 0.80762544 0.86404511 0.60163565\n",
      "  0.39532199 0.38097565 0.42915348 0.34643506 0.65735301 0.4049937\n",
      "  0.33112554 0.79744639 0.22868283 0.45022756 0.32877834 0.1826127\n",
      "  0.70366328 0.45947896 0.07426728 0.60232675 0.47715962 0.42132282\n",
      "  0.25752681 0.87104932 0.48557503 0.58981682 0.73456098 0.50903164\n",
      "  0.32790588 0.2941156  0.71688564 0.71968448 0.87094741 0.31275124\n",
      "  0.68426892 0.45852757 0.38575791 0.79440437]\n",
      " [0.58956962 0.8233874  0.79023013 0.84098117 0.62829968 0.47115274\n",
      "  0.51218867 0.40843966 0.27671821 0.27763673 0.         0.28033982\n",
      "  0.6765582  0.70884511 0.18442542 0.40046475 0.70089573 0.20885722\n",
      "  0.66713292 0.17095336 0.42032653 0.61662685 0.5116219  0.36839322\n",
      "  0.2207719  0.66522048 0.12462551 0.45407962 0.16888934 0.74486767\n",
      "  0.54051423 0.31995992 0.45678033 0.58916601 0.60406182 0.22253908\n",
      "  0.33227166 0.16893669 0.43812959 0.38234316 0.21422735 0.35428797\n",
      "  0.27477084 0.41845521 0.29852663 0.72271688 0.77091718 0.49405377\n",
      "  0.88263583 0.53850181 0.1787662  0.65168208 0.31748688 0.52211607\n",
      "  0.22851341 0.56761629 0.58674578 0.22011706 0.23495439 0.60298234\n",
      "  0.24278404 0.36894439 0.3782079  0.54170584 0.69593002 0.73898058\n",
      "  0.11844172 0.15005666 0.65176251 0.59260194 0.59734967 0.16948245\n",
      "  0.50809252 0.5595799  0.15847417 0.4626325  0.47821071 0.15950662\n",
      "  0.82122198 0.18291778 0.21289197 0.4769238  0.4075606  0.14954426\n",
      "  0.35589268 0.84629362 0.66939366 0.50215671 0.47702834 0.51200635\n",
      "  0.15180401 0.49033887 0.44839654 0.6011178  0.82505897 0.40223127\n",
      "  0.41011403 0.24905437 0.37358013 0.72029047]\n",
      " [0.58246097 0.56634438 0.6175722  0.59928727 0.45522571 0.39432372\n",
      "  0.32189595 0.12865391 0.28410173 0.29934631 0.28033982 0.\n",
      "  0.40469266 0.4885683  0.14811697 0.12760074 0.44597984 0.34010356\n",
      "  0.41896768 0.28715804 0.57064279 0.39720587 0.36848515 0.28984979\n",
      "  0.36593416 0.38755188 0.39319334 0.47165667 0.36784445 0.5478805\n",
      "  0.63110282 0.44838564 0.55704318 0.36219475 0.39997467 0.16319962\n",
      "  0.48292806 0.25308387 0.3256353  0.10401231 0.383122   0.10154477\n",
      "  0.10532568 0.23046341 0.33779989 0.47128744 0.56153971 0.51148895\n",
      "  0.65191976 0.32478215 0.32562318 0.51235689 0.43439187 0.31703298\n",
      "  0.15260472 0.49268395 0.30867825 0.21008804 0.39028126 0.39350354\n",
      "  0.11428001 0.3657822  0.47083546 0.62961795 0.57633023 0.47266438\n",
      "  0.35866503 0.42943928 0.45691548 0.43860492 0.36247578 0.25427292\n",
      "  0.2918425  0.5684375  0.38547146 0.1849623  0.24588955 0.35349266\n",
      "  0.54620434 0.37712051 0.29991962 0.30792694 0.17783823 0.32944687\n",
      "  0.12852273 0.59287974 0.43519288 0.29047292 0.54312243 0.2387598\n",
      "  0.42611617 0.29710799 0.55457695 0.42145137 0.58375125 0.58159897\n",
      "  0.54763272 0.2503474  0.09925137 0.49821961]\n",
      " [0.6740599  0.18312102 0.42582544 0.49481079 0.5715279  0.66043368\n",
      "  0.29000694 0.29288425 0.54404157 0.66504827 0.6765582  0.40469266\n",
      "  0.         0.23877657 0.50423782 0.32154607 0.10400909 0.73415669\n",
      "  0.12450089 0.62036145 0.8360438  0.44909973 0.37846734 0.59789114\n",
      "  0.68255605 0.19730639 0.77505008 0.63562968 0.77082226 0.32910106\n",
      "  0.823413   0.72573458 0.77788684 0.19696376 0.25780115 0.4834629\n",
      "  0.76857426 0.65000429 0.4205491  0.30124559 0.70910913 0.37911458\n",
      "  0.41018547 0.31954345 0.58969833 0.38423643 0.30685947 0.65901664\n",
      "  0.31962054 0.23837197 0.72421566 0.43225555 0.81325363 0.25973627\n",
      "  0.5355128  0.52895182 0.19837257 0.59264968 0.78493251 0.24356513\n",
      "  0.44340487 0.69899587 0.71030029 0.81937589 0.5021196  0.31567243\n",
      "  0.72923375 0.81998364 0.53150862 0.59321014 0.17350898 0.58885744\n",
      "  0.42468253 0.68492919 0.7899864  0.22146869 0.38604685 0.756495\n",
      "  0.29595996 0.71982691 0.68888752 0.3316924  0.28512569 0.67831622\n",
      "  0.40805375 0.21527703 0.42569074 0.2529948  0.73305885 0.16597344\n",
      "  0.82675728 0.46815952 0.78190647 0.31807326 0.23851551 0.97151747\n",
      "  0.80631509 0.53137549 0.3059256  0.23813369]\n",
      " [0.501138   0.18867799 0.18709268 0.73350978 0.78359805 0.83183909\n",
      "  0.20056524 0.42564066 0.49199577 0.78528364 0.70884511 0.4885683\n",
      "  0.23877657 0.         0.52454053 0.46344025 0.1383947  0.82582813\n",
      "  0.11644836 0.59811915 0.73725625 0.66731877 0.24575333 0.74848205\n",
      "  0.6377936  0.43291712 0.77767299 0.50585784 0.84172031 0.0903963\n",
      "  0.68338484 0.64779433 0.65860081 0.12637369 0.10904474 0.48756535\n",
      "  0.69048621 0.73858613 0.31908047 0.40685327 0.6673426  0.51172286\n",
      "  0.43918342 0.29047129 0.52076369 0.62011595 0.07795268 0.51629138\n",
      "  0.17498689 0.17078925 0.80819116 0.2230801  0.92294783 0.18682585\n",
      "  0.64029277 0.35448258 0.41490044 0.69839181 0.87493842 0.10685668\n",
      "  0.46853786 0.84073978 0.61097063 0.67838649 0.28299057 0.5541666\n",
      "  0.72339422 0.83148024 0.75048314 0.79695019 0.12904212 0.57377584\n",
      "  0.61993451 0.52248431 0.85077551 0.3531561  0.57279504 0.82773578\n",
      "  0.52918338 0.68974562 0.78789237 0.2434379  0.31374318 0.65885999\n",
      "  0.54886266 0.18921531 0.65370751 0.20734161 0.60208479 0.30093964\n",
      "  0.85857443 0.65745465 0.66589811 0.1438146  0.13617245 1.06694465\n",
      "  0.70641793 0.49590422 0.40011138 0.01232479]\n",
      " [0.48018701 0.64219828 0.6136373  0.74740402 0.59015805 0.49208137\n",
      "  0.32910269 0.26716581 0.15678736 0.34289283 0.18442542 0.14811697\n",
      "  0.50423782 0.52454053 0.         0.27393913 0.51986636 0.33293614\n",
      "  0.48475994 0.13918213 0.42441445 0.54255858 0.3378749  0.38114568\n",
      "  0.21781991 0.52438145 0.27084833 0.35520135 0.3277131  0.5630193\n",
      "  0.4965749  0.30262254 0.41865852 0.40487521 0.42042792 0.04512769\n",
      "  0.33567669 0.25374931 0.27086816 0.22928709 0.2354422  0.24806663\n",
      "  0.09431568 0.23434535 0.20507206 0.61915906 0.5875825  0.39675059\n",
      "  0.6982137  0.35409391 0.30828328 0.48257781 0.44318482 0.3379305\n",
      "  0.21506379 0.42149391 0.44599665 0.25211777 0.37571269 0.41893521\n",
      "  0.0610597  0.42858308 0.33167085 0.49573635 0.5345044  0.61748973\n",
      "  0.22621025 0.31760224 0.59771292 0.56726965 0.41355384 0.10615865\n",
      "  0.43512956 0.45904953 0.33056633 0.3030841  0.39174975 0.31469\n",
      "  0.68496871 0.23209354 0.30974909 0.29624286 0.22604218 0.18529548\n",
      "  0.26889135 0.66407256 0.58277278 0.31773315 0.41303253 0.34452085\n",
      "  0.33527841 0.43430766 0.41488736 0.42083912 0.64108534 0.56261129\n",
      "  0.40258423 0.12012527 0.21556453 0.53594091]\n",
      " [0.66574316 0.49880199 0.62042383 0.47579144 0.36858405 0.36931659\n",
      "  0.34075932 0.03854408 0.39546667 0.34358789 0.40046475 0.12760074\n",
      "  0.32154607 0.46344025 0.27393913 0.         0.38710836 0.41631608\n",
      "  0.37054005 0.41303697 0.69131705 0.288058   0.41126165 0.28662758\n",
      "  0.49098054 0.26502848 0.5176803  0.56874308 0.4607488  0.53774987\n",
      "  0.73946492 0.56906983 0.66961823 0.34296296 0.39692369 0.28181426\n",
      "  0.60544616 0.3353155  0.39072745 0.07667028 0.50937789 0.05789492\n",
      "  0.20924227 0.27128145 0.45009599 0.34596832 0.54088986 0.60615916\n",
      "  0.60867512 0.32365536 0.40938582 0.54247522 0.49174093 0.32481641\n",
      "  0.21796121 0.55609163 0.18711078 0.27318858 0.46684152 0.38666361\n",
      "  0.23034585 0.38341007 0.58507763 0.73742212 0.61269099 0.34508064\n",
      "  0.48543552 0.55051424 0.35804883 0.36423527 0.33496423 0.37974457\n",
      "  0.19402621 0.65754942 0.48480244 0.1115139  0.14217207 0.44669701\n",
      "  0.42111274 0.50450056 0.36963436 0.3443845  0.19934274 0.45690801\n",
      "  0.08826329 0.52871886 0.31698803 0.29738209 0.64887487 0.16894372\n",
      "  0.53973947 0.21571603 0.66836543 0.43455778 0.53310644 0.65086525\n",
      "  0.66691854 0.36494947 0.09410318 0.47078829]\n",
      " [0.60867356 0.12249179 0.32421635 0.5975937  0.66968485 0.74366956\n",
      "  0.24508023 0.35302266 0.5289411  0.72715843 0.70089573 0.44597984\n",
      "  0.10400909 0.1383947  0.51986636 0.38710836 0.         0.7848174\n",
      "  0.0426323  0.61995827 0.80520937 0.54892945 0.32289454 0.6721331\n",
      "  0.67342205 0.30125493 0.78780211 0.58875593 0.81297605 0.22773387\n",
      "  0.77415981 0.70277744 0.73742808 0.14083513 0.18478796 0.4912924\n",
      "  0.74609853 0.69839297 0.37999985 0.34858291 0.70168428 0.44202996\n",
      "  0.42657891 0.30419175 0.56833636 0.48824541 0.20313053 0.60682846\n",
      "  0.2257702  0.19514634 0.77148751 0.34768829 0.8722033  0.21787538\n",
      "  0.58926384 0.46094731 0.29570351 0.6476931  0.83535948 0.17233114\n",
      "  0.45930686 0.77042036 0.67779438 0.76965838 0.41388325 0.41896259\n",
      "  0.73773223 0.83707599 0.63182495 0.68851373 0.12088815 0.59094791\n",
      "  0.51575822 0.62434411 0.82800103 0.277206   0.47319587 0.79865074\n",
      "  0.39079957 0.71764548 0.74220905 0.29134029 0.29387438 0.68014027\n",
      "  0.47537108 0.14701564 0.52841169 0.22248225 0.68695399 0.21856306\n",
      "  0.85268749 0.55720054 0.74293635 0.24264369 0.14698648 1.02553755\n",
      "  0.77469688 0.52316966 0.34796283 0.13614055]\n",
      " [0.79046211 0.90373657 0.93880319 0.76410274 0.50558059 0.30879956\n",
      "  0.64527204 0.44149351 0.4672789  0.11448833 0.20885722 0.34010356\n",
      "  0.73415669 0.82582813 0.33293614 0.41631608 0.7848174  0.\n",
      "  0.75893394 0.37489924 0.62492357 0.53372858 0.66816877 0.23386645\n",
      "  0.42962872 0.66450073 0.29614592 0.65637988 0.07794818 0.87853559\n",
      "  0.74927851 0.52861684 0.66555341 0.69982364 0.73112678 0.37805058\n",
      "  0.53896476 0.08729026 0.6036831  0.43681515 0.42217966 0.3586743\n",
      "  0.39472858 0.54855468 0.49845413 0.66568125 0.89648509 0.69724645\n",
      "  0.99165724 0.65790913 0.03016335 0.81408179 0.11214268 0.64671798\n",
      "  0.19883745 0.75147278 0.59306509 0.14358943 0.05078433 0.7264771\n",
      "  0.37198156 0.18644275 0.58685692 0.7505179  0.86740386 0.70444475\n",
      "  0.31725032 0.27988879 0.54344703 0.46043218 0.70164388 0.36569348\n",
      "  0.43805067 0.76264607 0.11645712 0.51347456 0.4290879  0.07250339\n",
      "  0.80310695 0.38890643 0.04910643 0.61988458 0.51213578 0.35834915\n",
      "  0.33798767 0.93127081 0.59600236 0.62200492 0.68519329 0.57133843\n",
      "  0.21967362 0.40407536 0.65703561 0.74260646 0.92383336 0.24156071\n",
      "  0.61680001 0.43426872 0.43688549 0.83596071]\n",
      " [0.56790119 0.15881209 0.30310623 0.61802414 0.67183224 0.7334132\n",
      "  0.20256239 0.3347152  0.48811146 0.70606701 0.66713292 0.41896768\n",
      "  0.12450089 0.11644836 0.48475994 0.37054005 0.0426323  0.75893394\n",
      "  0.         0.58109085 0.76275572 0.55365054 0.2805256  0.65706416\n",
      "  0.63306444 0.31653779 0.75105305 0.54620946 0.7840474  0.20662846\n",
      "  0.73178096 0.66086241 0.69479671 0.09827128 0.14407007 0.45457313\n",
      "  0.70418637 0.67203418 0.3374315  0.32525259 0.66151596 0.42345352\n",
      "  0.39237278 0.26452496 0.5267248  0.50368716 0.18981397 0.56454815\n",
      "  0.23823326 0.15299199 0.74443472 0.31184502 0.84925129 0.17565689\n",
      "  0.56551188 0.42042385 0.3003138  0.62408808 0.80922054 0.13109827\n",
      "  0.42468894 0.75346374 0.63531944 0.7273036  0.38000865 0.43848817\n",
      "  0.70022118 0.80117404 0.63683642 0.68762988 0.07891624 0.55262136\n",
      "  0.51223701 0.58288082 0.79771124 0.25915382 0.46722303 0.76976842\n",
      "  0.41933705 0.67824632 0.71748588 0.24891173 0.25958426 0.64150583\n",
      "  0.45838997 0.17931284 0.53799963 0.18147108 0.64441321 0.20201849\n",
      "  0.81890116 0.55185323 0.70030589 0.20302562 0.16521462 1.00025148\n",
      "  0.73222153 0.48332515 0.32271394 0.11784372]\n",
      " [0.41861658 0.73981314 0.65008459 0.88636672 0.71888605 0.59802166\n",
      "  0.39771491 0.40481512 0.11720799 0.4225411  0.17095336 0.28715804\n",
      "  0.62036145 0.59811915 0.13918213 0.41303697 0.61995827 0.37489924\n",
      "  0.58109085 0.         0.29151421 0.67887033 0.37379376 0.48803124\n",
      "  0.07959107 0.65950674 0.18420525 0.28318347 0.33979179 0.61827283\n",
      "  0.38514907 0.17321489 0.30264178 0.49077449 0.48929841 0.14030664\n",
      "  0.20083955 0.31689749 0.29556814 0.3647828  0.09647276 0.38616086\n",
      "  0.2189627  0.3168557  0.12825002 0.75833233 0.6504223  0.32337052\n",
      "  0.77277671 0.43549371 0.34545301 0.50343518 0.48586538 0.41531708\n",
      "  0.32415143 0.40431244 0.58177881 0.34360849 0.40511471 0.49162363\n",
      "  0.18890986 0.51405322 0.21810508 0.38544172 0.53970289 0.75583151\n",
      "  0.12749754 0.2414077  0.73050474 0.69196617 0.50436417 0.03365433\n",
      "  0.57043986 0.3889017  0.32661268 0.43395651 0.52886451 0.33041888\n",
      "  0.82041339 0.09953349 0.36927555 0.35521614 0.33525868 0.0608669\n",
      "  0.40439913 0.75789689 0.72091237 0.40187902 0.31277503 0.46897659\n",
      "  0.2869661  0.56597432 0.29639748 0.47307494 0.7256537  0.57121706\n",
      "  0.27279888 0.10268001 0.34965022 0.6102425 ]\n",
      " [0.3268229  0.91203966 0.71353293 1.16708309 1.01037852 0.88289611\n",
      "  0.56021834 0.67639131 0.3029785  0.69643842 0.42032653 0.57064279\n",
      "  0.8360438  0.73725625 0.42441445 0.69131705 0.80520937 0.62492357\n",
      "  0.76275572 0.29151421 0.         0.96692355 0.4921967  0.77463551\n",
      "  0.21352804 0.91722834 0.33919166 0.23986468 0.56738835 0.72145071\n",
      "  0.15696161 0.12233511 0.10005755 0.66452328 0.63508816 0.40957144\n",
      "  0.0911995  0.58754527 0.42571535 0.63213554 0.20903895 0.67181825\n",
      "  0.48390309 0.51712472 0.25078372 1.03658174 0.76393022 0.24792553\n",
      "  0.89755272 0.61030608 0.59492279 0.56202858 0.72641421 0.58752734\n",
      "  0.61378484 0.41753568 0.84317607 0.62694699 0.64048087 0.64340793\n",
      "  0.46097891 0.78831469 0.12749006 0.16122587 0.56040268 1.02474288\n",
      "  0.30780632 0.38091421 1.02114376 0.98324918 0.68452022 0.32092581\n",
      "  0.85948686 0.28709734 0.53983738 0.68858471 0.81593442 0.56317838\n",
      "  1.07645051 0.2374122  0.63320321 0.51386944 0.56569355 0.27596259\n",
      "  0.69320449 0.92151638 1.00564725 0.5866418  0.16383132 0.70950656\n",
      "  0.45359038 0.85689907 0.08782719 0.59382512 0.87342513 0.76510182\n",
      "  0.03084118 0.32833797 0.61484185 0.74932643]\n",
      " [0.95198708 0.62306762 0.84745329 0.23067375 0.12508653 0.29252713\n",
      "  0.60245721 0.31620708 0.67928805 0.42229297 0.61662685 0.39720587\n",
      "  0.44909973 0.66731877 0.54255858 0.288058   0.54892945 0.53372858\n",
      "  0.55365054 0.67887033 0.96692355 0.         0.6838706  0.30504475\n",
      "  0.75845578 0.26451858 0.74124662 0.85676158 0.60413916 0.75435361\n",
      "  1.02545444 0.84491322 0.95336852 0.57012357 0.63446172 0.56027304\n",
      "  0.87810546 0.48479251 0.674101   0.36197231 0.77232228 0.29566203\n",
      "  0.49381154 0.55027055 0.73361026 0.14627521 0.74318145 0.89420532\n",
      "  0.76844764 0.5714288  0.54335868 0.80064192 0.55370594 0.57982891\n",
      "  0.38878653 0.83575678 0.25363043 0.41353869 0.57432668 0.62142732\n",
      "  0.51025528 0.3942964  0.86759612 1.02362592 0.87344318 0.21481353\n",
      "  0.72359425 0.75829178 0.08319284 0.15906449 0.55381356 0.64736674\n",
      "  0.10948354 0.94503755 0.63903853 0.35171073 0.15132595 0.59304757\n",
      "  0.32424949 0.7599261  0.48656071 0.61682046 0.47702646 0.71233857\n",
      "  0.27448595 0.65607122 0.06534208 0.55487428 0.93564096 0.38229307\n",
      "  0.72441501 0.1306228  0.95129774 0.68414422 0.68730364 0.71395609\n",
      "  0.94452549 0.64674691 0.38027906 0.67059452]\n",
      " [0.29697324 0.42151907 0.27885666 0.818777   0.77812347 0.75983798\n",
      "  0.09134145 0.37556494 0.25939405 0.65817082 0.5116219  0.36848515\n",
      "  0.37846734 0.24575333 0.3378749  0.41126165 0.32289454 0.66816877\n",
      "  0.2805256  0.37379376 0.4921967  0.6838706  0.         0.65799026\n",
      "  0.40114305 0.52121731 0.55787584 0.26650619 0.66530412 0.24663015\n",
      "  0.4512669  0.40273946 0.41723611 0.18487823 0.14357715 0.29381894\n",
      "  0.44517957 0.58494044 0.07881785 0.33533389 0.43089696 0.43684001\n",
      "  0.27894511 0.14176591 0.27973723 0.6893434  0.28287361 0.28407718\n",
      "  0.41273166 0.1407794  0.64493279 0.14652026 0.7759501  0.12121823\n",
      "  0.51301389 0.15762847 0.46738575 0.56504398 0.71269534 0.15318601\n",
      "  0.29700011 0.73221378 0.36547382 0.44677882 0.20784659 0.64625875\n",
      "  0.5012891  0.61455775 0.76139589 0.7754928  0.20772681 0.35542409\n",
      "  0.6029056  0.30646187 0.66587796 0.33263955 0.55067002 0.65243693\n",
      "  0.66146233 0.45724892 0.63975071 0.06727005 0.21192967 0.4326141\n",
      "  0.47505103 0.42956521 0.69389623 0.13758883 0.36455014 0.31432368\n",
      "  0.6528599  0.62696771 0.42364669 0.10469049 0.38171564 0.90048411\n",
      "  0.46136045 0.27223351 0.31951883 0.25795676]\n",
      " [0.85816937 0.77956505 0.89679545 0.53353483 0.27298449 0.11105807\n",
      "  0.60517474 0.32341633 0.53793299 0.11962296 0.36839322 0.28984979\n",
      "  0.59789114 0.74848205 0.38114568 0.28662758 0.6721331  0.23386645\n",
      "  0.65706416 0.48803124 0.77463551 0.30504475 0.65799026 0.\n",
      "  0.56208964 0.4804427  0.48689138 0.73617154 0.30892263 0.81913399\n",
      "  0.87088435 0.66068958 0.78965841 0.62548026 0.67419882 0.41849957\n",
      "  0.68360048 0.2062244  0.61426674 0.34368752 0.566072   0.23692886\n",
      "  0.38875753 0.51831909 0.58487967 0.44418503 0.82536837 0.77762302\n",
      "  0.89505733 0.5988827  0.24865237 0.80066642 0.25092881 0.59553848\n",
      "  0.16660909 0.78010774 0.42137595 0.1490712  0.27070772 0.66541652\n",
      "  0.38426543 0.10314491 0.70357996 0.87067164 0.86579164 0.49390647\n",
      "  0.48630033 0.48914117 0.30958588 0.23036748 0.61950322 0.46438956\n",
      "  0.22146563 0.83914018 0.3461806  0.39814077 0.23021173 0.29973371\n",
      "  0.59920652 0.54233744 0.19027099 0.59604887 0.45760201 0.49950677\n",
      "  0.19967097 0.81056919 0.36926621 0.56797194 0.79151678 0.45516018\n",
      "  0.44184441 0.18020802 0.78401087 0.70385128 0.81876298 0.41408083\n",
      "  0.75898742 0.5012704  0.35359255 0.75628543]\n",
      " [0.3862187  0.79067957 0.66861444 0.96521649 0.79759214 0.67111915\n",
      "  0.44026451 0.48113052 0.14622844 0.48931692 0.2207719  0.36593416\n",
      "  0.68255605 0.6377936  0.21781991 0.49098054 0.67342205 0.42962872\n",
      "  0.63306444 0.07959107 0.21352804 0.75845578 0.40114305 0.56208964\n",
      "  0.         0.73320433 0.1849844  0.25182145 0.38363134 0.64773242\n",
      "  0.3200096  0.10042097 0.23630064 0.53902089 0.52893911 0.21312129\n",
      "  0.12237935 0.38134042 0.32267351 0.43978281 0.02975544 0.46546055\n",
      "  0.2917915  0.36949381 0.12412268 0.8367074  0.68341147 0.28793056\n",
      "  0.81052113 0.48295167 0.39953488 0.51707987 0.53753464 0.46146757\n",
      "  0.40031407 0.4003854  0.6561557  0.41539833 0.45358045 0.53315375\n",
      "  0.2637486  0.58134323 0.15817627 0.32107183 0.54339036 0.83233824\n",
      "  0.13186567 0.24194899 0.8098657  0.76984667 0.55479876 0.11169184\n",
      "  0.65002609 0.35210818 0.36370345 0.50582931 0.60838286 0.3764102\n",
      "  0.8940871  0.06207574 0.43066584 0.39508006 0.39852816 0.07155075\n",
      "  0.4839885  0.80648762 0.80025016 0.45172123 0.2580996  0.53706852\n",
      "  0.30235602 0.64526068 0.22835646 0.50461599 0.76944827 0.60515548\n",
      "  0.19691228 0.15138063 0.42394438 0.65008782]\n",
      " [0.81516071 0.36059296 0.61958507 0.30470919 0.3895649  0.5168289\n",
      "  0.43030548 0.2593581  0.61427595 0.57321092 0.66522048 0.38755188\n",
      "  0.19730639 0.43291712 0.52438145 0.26502848 0.30125493 0.66450073\n",
      "  0.31653779 0.65950674 0.91722834 0.26451858 0.52121731 0.4804427\n",
      "  0.73320433 0.         0.78069856 0.75045025 0.71766658 0.52316625\n",
      "  0.93535979 0.79794867 0.87701506 0.36319846 0.42964335 0.52025591\n",
      "  0.8380877  0.59023379 0.54012989 0.29517623 0.75528116 0.31598847\n",
      "  0.44143706 0.41788796 0.66683953 0.18731844 0.50354287 0.78094086\n",
      "  0.51041399 0.38547006 0.66246395 0.60625609 0.72178438 0.4015476\n",
      "  0.47291091 0.67868737 0.07889536 0.52205851 0.71339276 0.41529202\n",
      "  0.47059865 0.58330728 0.79908863 0.93218114 0.67877742 0.12638817\n",
      "  0.74528902 0.8152032  0.34380582 0.41899471 0.34194134 0.62589032\n",
      "  0.27147172 0.81858358 0.74460373 0.22885915 0.25033395 0.70403476\n",
      "  0.16092645 0.75604549 0.61577365 0.46086177 0.35553947 0.70963749\n",
      "  0.32812198 0.39348173 0.2316341  0.38372869 0.84281402 0.21446523\n",
      "  0.80431367 0.31808802 0.87846773 0.48745304 0.42972684 0.88579583\n",
      "  0.88984343 0.59117912 0.30986154 0.4334812 ]\n",
      " [0.5705774  0.90954756 0.83421682 0.96521467 0.75105339 0.58522976\n",
      "  0.57721105 0.52173881 0.30073708 0.38654486 0.12462551 0.39319334\n",
      "  0.77505008 0.77767299 0.27084833 0.5176803  0.78780211 0.29614592\n",
      "  0.75105305 0.18420525 0.33919166 0.74124662 0.55787584 0.48689138\n",
      "  0.1849844  0.78069856 0.         0.43673384 0.23094093 0.80158354\n",
      "  0.47946971 0.26549138 0.3981401  0.66533126 0.66951404 0.29654371\n",
      "  0.26196382 0.28183148 0.47975947 0.49099772 0.16299109 0.47468634\n",
      "  0.3650862  0.4906279  0.29994755 0.84595769 0.83268421 0.47218076\n",
      "  0.95265352 0.61136251 0.26743442 0.68678181 0.39029245 0.59239733\n",
      "  0.35303649 0.5805381  0.70184802 0.34093747 0.30437925 0.67082883\n",
      "  0.33181657 0.47452462 0.33367209 0.4818584  0.72012453 0.85965244\n",
      "  0.05725373 0.05812858 0.77577261 0.71401069 0.67679982 0.20436325\n",
      "  0.63265237 0.53562076 0.2011204  0.56918568 0.60208628 0.22865382\n",
      "  0.93865763 0.12472748 0.31527867 0.53642694 0.4952122  0.12800609\n",
      "  0.478785   0.92985715 0.79375799 0.57632662 0.43345584 0.61411595\n",
      "  0.11968007 0.61483932 0.38758552 0.65626647 0.90190663 0.42999913\n",
      "  0.33685852 0.28592579 0.47994521 0.78964062]\n",
      " [0.13583844 0.68715536 0.47391515 1.02926755 0.92624684 0.84696238\n",
      "  0.34708034 0.54309068 0.19866967 0.69169149 0.45407962 0.47165667\n",
      "  0.63562968 0.50585784 0.35520135 0.56874308 0.58875593 0.65637988\n",
      "  0.54620946 0.28318347 0.23986468 0.85676158 0.26650619 0.73617154\n",
      "  0.25182145 0.75045025 0.43673384 0.         0.62278242 0.48328911\n",
      "  0.18786825 0.19121227 0.1529783  0.44900725 0.40948084 0.31853977\n",
      "  0.22341463 0.59171581 0.2154533  0.49662343 0.27489567 0.5686276\n",
      "  0.36737608 0.33260423 0.15822627 0.8968415  0.5266563  0.04169659\n",
      "  0.66058554 0.39903147 0.62737877 0.32216855 0.768018   0.37681416\n",
      "  0.5702647  0.17859081 0.68421831 0.60443892 0.6881612  0.41961133\n",
      "  0.35951403 0.78052011 0.12738445 0.18398626 0.32383578 0.86906366\n",
      "  0.38325328 0.49325437 0.92396467 0.91012527 0.47098608 0.29094295\n",
      "  0.75796259 0.10636576 0.60788734 0.53139353 0.7081846  0.61357892\n",
      "  0.90255469 0.31252398 0.64634112 0.30395053 0.39766219 0.31688869\n",
      "  0.59980336 0.69345347 0.88265698 0.38297031 0.0982094  0.53600778\n",
      "  0.55391167 0.76801788 0.16100895 0.36218781 0.6415402  0.85197859\n",
      "  0.20997707 0.23527799 0.47815803 0.51761328]\n",
      " [0.75837266 0.93394757 0.94123696 0.83481254 0.58161243 0.38674527\n",
      "  0.65302132 0.48141332 0.44355066 0.19076944 0.16888934 0.36784445\n",
      "  0.77082226 0.84172031 0.3277131  0.4607488  0.81297605 0.07794818\n",
      "  0.7840474  0.33979179 0.56738835 0.60413916 0.66530412 0.30892263\n",
      "  0.38363134 0.71766658 0.23094093 0.62278242 0.         0.88763747\n",
      "  0.69950673 0.47939533 0.61622208 0.71728933 0.7421838  0.37148653\n",
      "  0.48484612 0.12757672 0.59574344 0.46983798 0.37188081 0.40464178\n",
      "  0.40328939 0.55642307 0.46738585 0.73214043 0.90919643 0.66253949\n",
      "  1.01161174 0.6714872  0.06087165 0.80899168 0.15942352 0.65805774\n",
      "  0.24486156 0.73343751 0.64353276 0.19816164 0.07344454 0.7389938\n",
      "  0.37614419 0.26394691 0.5417666  0.70121911 0.85743588 0.76631576\n",
      "  0.26110499 0.20699664 0.6179207  0.53720433 0.72158858 0.3372455\n",
      "  0.50491696 0.72803406 0.03852547 0.54942208 0.49116111 0.01435268\n",
      "  0.86176521 0.33607093 0.1188586  0.62303546 0.52947193 0.312332\n",
      "  0.3895882  0.95999054 0.66515999 0.63501913 0.64169281 0.60553369\n",
      "  0.14290767 0.47370116 0.60685471 0.74741521 0.94743218 0.2364435\n",
      "  0.5620109  0.41372424 0.46700746 0.85244809]\n",
      " [0.45538725 0.25477069 0.0967244  0.82387916 0.86892405 0.90705828\n",
      "  0.23461927 0.49935709 0.50553155 0.84709801 0.74486767 0.5478805\n",
      "  0.32910106 0.0903963  0.5630193  0.53774987 0.22773387 0.87853559\n",
      "  0.20662846 0.61827283 0.72145071 0.75435361 0.24663015 0.81913399\n",
      "  0.64773242 0.52316625 0.80158354 0.48328911 0.88763747 0.\n",
      "  0.64965595 0.64365609 0.63551325 0.194813   0.14801238 0.52243551\n",
      "  0.6849598  0.79191553 0.32533613 0.4754683  0.67748254 0.58248167\n",
      "  0.48512937 0.33129409 0.52570913 0.7102865  0.04620199 0.4865748\n",
      "  0.17844417 0.22314112 0.85881452 0.170008   0.97982015 0.23204155\n",
      "  0.70048053 0.31552899 0.50308922 0.7575757  0.9263809  0.15467306\n",
      "  0.51149705 0.9079025  0.59865204 0.64430629 0.21450552 0.64455894\n",
      "  0.74557487 0.85742335 0.83740169 0.88033572 0.20510642 0.59759755\n",
      "  0.70260878 0.48189006 0.89325751 0.43001362 0.65420881 0.87400307\n",
      "  0.6179212  0.70375774 0.84344922 0.26805897 0.37007327 0.677891\n",
      "  0.62056645 0.24530731 0.74260484 0.25769988 0.57511222 0.38148134\n",
      "  0.89115293 0.73850645 0.64413927 0.14532845 0.1807499  1.11781678\n",
      "  0.69090452 0.51580243 0.46642392 0.09161248]\n",
      " [0.20642937 0.86836948 0.62284308 1.20808192 1.08477859 0.98154995\n",
      "  0.5343863  0.71734312 0.34700363 0.80712654 0.54051423 0.63110282\n",
      "  0.823413   0.68338484 0.4965749  0.73946492 0.77415981 0.74927851\n",
      "  0.73178096 0.38514907 0.15696161 1.02545444 0.4512669  0.87088435\n",
      "  0.3200096  0.93535979 0.47946971 0.18786825 0.69950673 0.64965595\n",
      "  0.         0.22073009 0.08373499 0.63534273 0.59240454 0.46911884\n",
      "  0.21754696 0.70015428 0.40331225 0.67102262 0.32790723 0.73167288\n",
      "  0.53164321 0.51838036 0.2936169  1.07571857 0.69488846 0.16778292\n",
      "  0.8280626  0.58636083 0.71913874 0.48096357 0.85594777 0.56429248\n",
      "  0.70498273 0.33412733 0.86717705 0.72847428 0.77106435 0.60334979\n",
      "  0.51683563 0.89888705 0.16740997 0.00588391 0.46125554 1.05201561\n",
      "  0.43903456 0.52681362 1.08798008 1.06362197 0.65764321 0.40659374\n",
      "  0.92251526 0.17165257 0.67575367 0.71288587 0.87477065 0.69345693\n",
      "  1.08901225 0.36348347 0.75043146 0.49172133 0.58055957 0.39096999\n",
      "  0.7591332  0.87242344 1.05614274 0.5708347  0.09256887 0.72126991\n",
      "  0.59774427 0.92735924 0.09265352 0.54141424 0.81728634 0.90934594\n",
      "  0.14653464 0.38128568 0.65269142 0.69468915]\n",
      " [0.31521741 0.81443141 0.64989375 1.04485655 0.8904631  0.77024147\n",
      "  0.46002578 0.55461257 0.18460463 0.58971037 0.31995992 0.44838564\n",
      "  0.72573458 0.64779433 0.30262254 0.56906983 0.70277744 0.52861684\n",
      "  0.66086241 0.17321489 0.12233511 0.84491322 0.40273946 0.66068958\n",
      "  0.10042097 0.79794867 0.26549138 0.19121227 0.47939533 0.64365609\n",
      "  0.22073009 0.         0.13707956 0.5634434  0.54160633 0.28728128\n",
      "  0.04332396 0.48175891 0.32931722 0.51068579 0.1075175  0.54963874\n",
      "  0.36211925 0.40629162 0.13603785 0.9144999  0.68335151 0.21869104\n",
      "  0.81498844 0.50791053 0.49846789 0.49610694 0.63529166 0.48534452\n",
      "  0.49734844 0.36257821 0.72309058 0.51488517 0.55057483 0.54829533\n",
      "  0.33872408 0.68172699 0.07005375 0.22214142 0.50923275 0.90376775\n",
      "  0.22028693 0.31769728 0.90001021 0.86460374 0.58198406 0.20061738\n",
      "  0.73774476 0.27756883 0.45686299 0.569095   0.69383104 0.47303003\n",
      "  0.95781073 0.14425054 0.53086639 0.41334482 0.44950434 0.17048146\n",
      "  0.57151327 0.82662183 0.88332727 0.48111656 0.16816875 0.59269165\n",
      "  0.38515587 0.7360701  0.12843714 0.50717011 0.78303574 0.69432746\n",
      "  0.10021938 0.20726251 0.49357705 0.66007597]\n",
      " [0.2268246  0.83869041 0.62116056 1.14197857 1.00847084 0.90008621\n",
      "  0.49332582 0.64972452 0.27431951 0.72398351 0.45678033 0.55704318\n",
      "  0.77788684 0.65860081 0.41865852 0.66961823 0.73742808 0.66555341\n",
      "  0.69479671 0.30264178 0.10005755 0.95336852 0.41723611 0.78965841\n",
      "  0.23630064 0.87701506 0.3981401  0.1529783  0.61622208 0.63551325\n",
      "  0.08373499 0.13707956 0.         0.59684437 0.56074681 0.39402176\n",
      "  0.13743777 0.61676406 0.35874608 0.60383431 0.24442566 0.6582889\n",
      "  0.46054296 0.46440596 0.21981453 1.00998234 0.67923251 0.15243301\n",
      "  0.81318417 0.54483531 0.63541604 0.47187109 0.77236721 0.52221729\n",
      "  0.62426594 0.32519939 0.80630772 0.64623448 0.68759227 0.57034289\n",
      "  0.44321667 0.81582907 0.08699948 0.08506499 0.46499042 0.99049983\n",
      "  0.35617357 0.4470945  1.01365823 0.98584503 0.61812836 0.32533014\n",
      "  0.84888568 0.18715287 0.59297295 0.65117006 0.80220122 0.61001646\n",
      "  1.03335819 0.28038858 0.66681903 0.44833696 0.5215477  0.30723609\n",
      "  0.68419782 0.84574097 0.98658873 0.52519286 0.06477659 0.66453033\n",
      "  0.51709225 0.85174206 0.01269737 0.51483591 0.79440408 0.82812261\n",
      "  0.0774563  0.30674924 0.58573907 0.67040599]\n",
      " [0.47782137 0.25204286 0.28085255 0.66768428 0.68036567 0.71227942\n",
      "  0.10430669 0.30460578 0.39324441 0.65920567 0.58916601 0.36219475\n",
      "  0.19696376 0.12637369 0.40487521 0.34296296 0.14083513 0.69982364\n",
      "  0.09827128 0.49077449 0.66452328 0.57012357 0.18487823 0.62548026\n",
      "  0.53902089 0.36319846 0.66533126 0.44900725 0.71728933 0.194813\n",
      "  0.63534273 0.5634434  0.59684437 0.         0.06664906 0.37067474\n",
      "  0.60675874 0.61255091 0.23916678 0.28234971 0.56786286 0.38857486\n",
      "  0.31641214 0.17477009 0.42999467 0.54461805 0.20076146 0.46867104\n",
      "  0.29467944 0.05611865 0.68257029 0.24308929 0.7965769  0.07823518\n",
      "  0.5139808  0.3320782  0.32620041 0.57203985 0.74910517 0.05252982\n",
      "  0.34696635 0.71610434 0.53707361 0.63097481 0.31560019 0.48942785\n",
      "  0.61281896 0.71733326 0.65240253 0.68899284 0.02346187 0.46378357\n",
      "  0.51095826 0.49024485 0.72753874 0.23559006 0.4615391  0.70321886\n",
      "  0.48871773 0.5863638  0.66159435 0.1507575  0.18812383 0.5515577\n",
      "  0.42636971 0.26764908 0.56557654 0.08909637 0.54720425 0.18993763\n",
      "  0.74010866 0.54535667 0.60222865 0.12466778 0.23682001 0.94110025\n",
      "  0.63397395 0.39093233 0.27466984 0.13617593]\n",
      " [0.42394727 0.27795374 0.22357561 0.73421884 0.74280919 0.76513927\n",
      "  0.09249639 0.35838335 0.38303094 0.69926966 0.60406182 0.39997467\n",
      "  0.25780115 0.10904474 0.42042792 0.39692369 0.18478796 0.73112678\n",
      "  0.14407007 0.48929841 0.63508816 0.63446172 0.14357715 0.67419882\n",
      "  0.52893911 0.42964335 0.66951404 0.40948084 0.7421838  0.14801238\n",
      "  0.59240454 0.54160633 0.56074681 0.06664906 0.         0.38183434\n",
      "  0.58456647 0.64434179 0.21228926 0.33086598 0.55845069 0.43847034\n",
      "  0.33896057 0.18636959 0.41280355 0.61125554 0.16729029 0.42465054\n",
      "  0.2834838  0.07562284 0.71185619 0.17695509 0.83188885 0.0844364\n",
      "  0.55255535 0.27636635 0.39246689 0.60957766 0.77927042 0.01446055\n",
      "  0.36656578 0.76124957 0.50798248 0.58772409 0.24915391 0.55578265\n",
      "  0.61491618 0.7237631  0.71636144 0.7496262  0.08788977 0.46537196\n",
      "  0.57171186 0.4397442  0.74923954 0.29372846 0.52143436 0.72840658\n",
      "  0.55229211 0.58070131 0.69559874 0.13439787 0.22213824 0.54999007\n",
      "  0.47698571 0.28644077 0.63142411 0.10968838 0.50723118 0.25264576\n",
      "  0.7527072  0.60441616 0.5672193  0.06027688 0.24176471 0.97094632\n",
      "  0.60427608 0.38697155 0.32066803 0.12128321]\n",
      " [0.44011001 0.61300735 0.57060159 0.75760458 0.61569194 0.52895965\n",
      "  0.28975181 0.26891502 0.12313026 0.38607363 0.22253908 0.16319962\n",
      "  0.4834629  0.48756535 0.04512769 0.28181426 0.4912924  0.37805058\n",
      "  0.45457313 0.14030664 0.40957144 0.56027304 0.29381894 0.41849957\n",
      "  0.21312129 0.52025591 0.29654371 0.31853977 0.37148653 0.52243551\n",
      "  0.46911884 0.28728128 0.39402176 0.37067474 0.38183434 0.\n",
      "  0.32387693 0.29868313 0.22585872 0.2267678  0.23516461 0.26468335\n",
      "  0.07889612 0.1972683  0.17550483 0.62749232 0.54847123 0.3597222\n",
      "  0.66202629 0.31817162 0.3532848  0.43798249 0.4882969  0.3007635\n",
      "  0.25397794 0.37695272 0.44304853 0.29440479 0.42062583 0.38120952\n",
      "  0.05153539 0.47045942 0.30766957 0.46785224 0.48942601 0.6198493\n",
      "  0.24706623 0.34699597 0.61964721 0.59565211 0.38101402 0.10718315\n",
      "  0.45496024 0.4206701  0.37287123 0.29378764 0.40894974 0.35865594\n",
      "  0.68117376 0.23914365 0.35464263 0.25470402 0.19981993 0.19548656\n",
      "  0.29026738 0.63354034 0.59655994 0.28228006 0.38268741 0.3291365\n",
      "  0.37104659 0.45826472 0.39141031 0.37917008 0.60747989 0.60691429\n",
      "  0.38559307 0.08784453 0.21082319 0.49918924]\n",
      " [0.33948763 0.85769381 0.68887391 1.08108311 0.91967294 0.79207566\n",
      "  0.50330527 0.59237869 0.22627382 0.60692729 0.33227166 0.48292806\n",
      "  0.76857426 0.69048621 0.33567669 0.60544616 0.74609853 0.53896476\n",
      "  0.70418637 0.20083955 0.0911995  0.87810546 0.44517957 0.68360048\n",
      "  0.12237935 0.8380877  0.26196382 0.22341463 0.48484612 0.6849598\n",
      "  0.21754696 0.04332396 0.13743777 0.60675874 0.58456647 0.32387693\n",
      "  0.         0.49818647 0.37229698 0.54905413 0.11888624 0.58364954\n",
      "  0.40016863 0.44923625 0.17899404 0.9513111  0.72507648 0.24613489\n",
      "  0.85705581 0.55123387 0.50883949 0.53516237 0.64284987 0.52866568\n",
      "  0.52258765 0.39876066 0.76270625 0.53613709 0.55728146 0.5913711\n",
      "  0.37540966 0.69891734 0.09632862 0.22004785 0.54531719 0.9424594\n",
      "  0.22374973 0.30978186 0.93113714 0.89220506 0.62530764 0.23101418\n",
      "  0.77021751 0.3005663  0.45954394 0.60925982 0.72742026 0.4796568\n",
      "  0.99825339 0.15005843 0.54500893 0.45662    0.49131047 0.18572119\n",
      "  0.60395198 0.86977129 0.91811266 0.52440077 0.18282694 0.63414355\n",
      "  0.38026436 0.7667074  0.12625269 0.54944935 0.82587178 0.6917992\n",
      "  0.07788008 0.24690933 0.53222251 0.70275581]\n",
      " [0.72351361 0.81780223 0.85344866 0.71495074 0.47590715 0.30378292\n",
      "  0.55913145 0.35819976 0.39719256 0.10894695 0.16893669 0.25308387\n",
      "  0.65000429 0.73858613 0.25374931 0.3353155  0.69839297 0.08729026\n",
      "  0.67203418 0.31689749 0.58754527 0.48479251 0.58494044 0.2062244\n",
      "  0.38134042 0.59023379 0.28183148 0.59171581 0.12757672 0.79191553\n",
      "  0.70015428 0.48175891 0.61676406 0.61255091 0.64434179 0.29868313\n",
      "  0.49818647 0.         0.52279738 0.35104422 0.37932359 0.2784742\n",
      "  0.30921368 0.46259084 0.43366585 0.60811973 0.80942972 0.63316852\n",
      "  0.90441091 0.57089238 0.07430659 0.73126055 0.19101066 0.55997449\n",
      "  0.11788008 0.67502967 0.51650093 0.07214168 0.13719873 0.6395221\n",
      "  0.28799194 0.20077522 0.53422965 0.70081719 0.78643701 0.63973839\n",
      "  0.2870221  0.28317815 0.50651617 0.43576701 0.6143643  0.30189835\n",
      "  0.38212081 0.69797997 0.15748096 0.42876414 0.36518868 0.11424596\n",
      "  0.73436134 0.35053264 0.05604984 0.5348879  0.42493023 0.31272284\n",
      "  0.26211451 0.84503211 0.54390999 0.53507701 0.62964441 0.48615771\n",
      "  0.24043877 0.35428696 0.60937616 0.65693652 0.83682752 0.32880587\n",
      "  0.57563849 0.36247249 0.35044534 0.74869623]\n",
      " [0.28002993 0.48685484 0.35512895 0.82795467 0.7590037  0.71994004\n",
      "  0.13499731 0.3586294  0.18061772 0.60289961 0.43812959 0.3256353\n",
      "  0.4205491  0.31908047 0.27086816 0.39072745 0.37999985 0.6036831\n",
      "  0.3374315  0.29556814 0.42571535 0.674101   0.07881785 0.61426674\n",
      "  0.32267351 0.54012989 0.47975947 0.2154533  0.59574344 0.32533613\n",
      "  0.40331225 0.32931722 0.35874608 0.23916678 0.21228926 0.22585872\n",
      "  0.37229698 0.52279738 0.         0.31425505 0.35242758 0.40649878\n",
      "  0.22640598 0.125967   0.20234127 0.69630493 0.36080445 0.24196152\n",
      "  0.48921713 0.18616282 0.57913736 0.21369047 0.7133148  0.16349722\n",
      "  0.46098901 0.167706   0.4780524  0.50965369 0.64647238 0.21919467\n",
      "  0.23806285 0.6814331  0.29822566 0.39943442 0.26376167 0.66170724\n",
      "  0.42300856 0.5366979  0.74788458 0.75132077 0.25983486 0.27835488\n",
      "  0.58475367 0.27920651 0.59417992 0.33072459 0.53282095 0.58328129\n",
      "  0.68917254 0.37845472 0.57840134 0.08959254 0.19803941 0.35403277\n",
      "  0.44303273 0.49778835 0.69144715 0.1676302  0.31252996 0.32632848\n",
      "  0.5767014  0.60361118 0.36364109 0.18204064 0.45383385 0.83186677\n",
      "  0.39507447 0.19476533 0.29662754 0.33139545]\n",
      " [0.59029033 0.46692154 0.5540668  0.53815122 0.44525256 0.43517747\n",
      "  0.26794036 0.04649003 0.33149087 0.38115596 0.38234316 0.10401231\n",
      "  0.30124559 0.40685327 0.22928709 0.07667028 0.34858291 0.43681515\n",
      "  0.32525259 0.3647828  0.63213554 0.36197231 0.33533389 0.34368752\n",
      "  0.43978281 0.29517623 0.49099772 0.49662343 0.46983798 0.4754683\n",
      "  0.67102262 0.51068579 0.60383431 0.28234971 0.33086598 0.2267678\n",
      "  0.54905413 0.35104422 0.31425505 0.         0.4609072  0.10768239\n",
      "  0.14892971 0.19479402 0.38589053 0.40628466 0.48289516 0.53317302\n",
      "  0.56210707 0.25592338 0.42482504 0.46888444 0.52413033 0.25445381\n",
      "  0.24072254 0.47942226 0.21706037 0.29921555 0.487499   0.32180545\n",
      "  0.17614035 0.43392537 0.52090196 0.66871332 0.53828045 0.39344859\n",
      "  0.45224169 0.53020118 0.43389005 0.44035239 0.27795916 0.33113157\n",
      "  0.27058211 0.58309843 0.48876672 0.08096524 0.21857686 0.45549605\n",
      "  0.45592352 0.4608806  0.39366635 0.26874689 0.12353912 0.41448314\n",
      "  0.14638158 0.49460926 0.38613248 0.22678296 0.57957624 0.13569722\n",
      "  0.5296436  0.29185148 0.60337963 0.36405736 0.49039221 0.67706675\n",
      "  0.60641039 0.30380891 0.01846544 0.41532866]\n",
      " [0.40784719 0.81934559 0.69799234 0.98201227 0.80729568 0.67396221\n",
      "  0.46953796 0.5012427  0.1755478  0.48804299 0.21422735 0.383122\n",
      "  0.70910913 0.6673426  0.2354422  0.50937789 0.70168428 0.42217966\n",
      "  0.66151596 0.09647276 0.20903895 0.77232228 0.43089696 0.566072\n",
      "  0.02975544 0.75528116 0.16299109 0.27489567 0.37188081 0.67748254\n",
      "  0.32790723 0.1075175  0.24442566 0.56786286 0.55845069 0.23516461\n",
      "  0.11888624 0.37932359 0.35242758 0.4609072  0.         0.48129246\n",
      "  0.31406072 0.39757276 0.15346781 0.85440591 0.71315815 0.30945222\n",
      "  0.84018108 0.51183149 0.39201638 0.54623105 0.52806439 0.49045763\n",
      "  0.40704328 0.4278787  0.6777777  0.41803611 0.44317393 0.56255932\n",
      "  0.28482197 0.58003848 0.17233352 0.32947506 0.57156088 0.85229712\n",
      "  0.11366688 0.21857832 0.82147713 0.77801355 0.5833989  0.13004191\n",
      "  0.6634027  0.3726503  0.34960038 0.52883187 0.62309653 0.3655909\n",
      "  0.91620753 0.03834254 0.42656641 0.42449085 0.4245259  0.06693339\n",
      "  0.49797025 0.83541918 0.81574666 0.48029992 0.27272006 0.56171654\n",
      "  0.28202603 0.6567239  0.235335   0.53436275 0.7987895  0.58852382\n",
      "  0.19636837 0.17883068 0.44553067 0.67963201]\n",
      " [0.67409055 0.55532623 0.66174085 0.50101243 0.35796934 0.32770567\n",
      "  0.37431887 0.08902429 0.38477722 0.28644815 0.35428797 0.10154477\n",
      "  0.37911458 0.51172286 0.24806663 0.05789492 0.44202996 0.3586743\n",
      "  0.42345352 0.38616086 0.67181825 0.29566203 0.43684001 0.23692886\n",
      "  0.46546055 0.31598847 0.47468634 0.5686276  0.40464178 0.58248167\n",
      "  0.73167288 0.54963874 0.6582889  0.38857486 0.43847034 0.26468335\n",
      "  0.58364954 0.2784742  0.40649878 0.10768239 0.48129246 0.\n",
      "  0.20151725 0.29507809 0.43878307 0.37533869 0.58847661 0.60767317\n",
      "  0.66164812 0.36360267 0.35232913 0.57408746 0.4341535  0.36189372\n",
      "  0.16075867 0.57399096 0.23977963 0.21539556 0.40913331 0.42924012\n",
      "  0.21511149 0.33026097 0.5722269  0.73006709 0.64233913 0.38500852\n",
      "  0.44658242 0.50399649 0.35651141 0.34571848 0.38269767 0.35383179\n",
      "  0.1908424  0.66255903 0.42977358 0.16489061 0.14435203 0.39069787\n",
      "  0.46815201 0.47261525 0.31181835 0.37150799 0.22764103 0.42472518\n",
      "  0.03885868 0.5848919  0.33479234 0.33421616 0.64298437 0.2234711\n",
      "  0.4889001  0.19997951 0.65596178 0.47131377 0.58722088 0.592989\n",
      "  0.64904393 0.35153969 0.11979422 0.51968995]\n",
      " [0.47717788 0.54903523 0.54424749 0.6839173  0.55887096 0.49598908\n",
      "  0.25092315 0.19250358 0.18627099 0.37932139 0.27477084 0.10532568\n",
      "  0.41018547 0.43918342 0.09431568 0.20924227 0.42657891 0.39472858\n",
      "  0.39237278 0.2189627  0.48390309 0.49381154 0.27894511 0.38875753\n",
      "  0.2917915  0.44143706 0.3650862  0.36737608 0.40328939 0.48512937\n",
      "  0.53164321 0.36211925 0.46054296 0.31641214 0.33896057 0.07889612\n",
      "  0.40016863 0.30921368 0.22640598 0.14892971 0.31406072 0.20151725\n",
      "  0.         0.1540627  0.24088422 0.55289172 0.50590714 0.40681508\n",
      "  0.61100334 0.26853345 0.37398452 0.42533671 0.49959693 0.25477021\n",
      "  0.23518402 0.39136055 0.36441916 0.28612911 0.44172753 0.33572497\n",
      "  0.03327159 0.45545549 0.37583538 0.52982469 0.4849066  0.5423782\n",
      "  0.31929868 0.41173639 0.55777909 0.54358918 0.32325576 0.18559466\n",
      "  0.39182931 0.46321048 0.41159847 0.21499423 0.34328927 0.38947221\n",
      "  0.60234196 0.31726495 0.36284854 0.22580667 0.13284593 0.27259035\n",
      "  0.23256562 0.57157883 0.52609755 0.23199309 0.4420842  0.25219793\n",
      "  0.42652841 0.40064192 0.45915406 0.34788135 0.55099616 0.63279773\n",
      "  0.45871886 0.15608026 0.13243615 0.45016349]\n",
      " [0.40598096 0.42307624 0.39134923 0.70229302 0.63952541 0.61877596\n",
      "  0.09686546 0.23690073 0.22642669 0.52632967 0.41845521 0.23046341\n",
      "  0.31954345 0.29047129 0.23434535 0.27128145 0.30419175 0.54855468\n",
      "  0.26452496 0.3168557  0.51712472 0.55027055 0.14176591 0.51831909\n",
      "  0.36949381 0.41788796 0.4906279  0.33260423 0.55642307 0.33129409\n",
      "  0.51838036 0.40629162 0.46440596 0.17477009 0.18636959 0.1972683\n",
      "  0.44923625 0.46259084 0.125967   0.19479402 0.39757276 0.29507809\n",
      "  0.1540627  0.         0.2702648  0.57049351 0.35365818 0.36339815\n",
      "  0.46476832 0.12103922 0.52804342 0.28236131 0.65224914 0.10366877\n",
      "  0.3795603  0.28585995 0.35327242 0.43422391 0.59576902 0.18459033\n",
      "  0.1803884  0.59614087 0.39244961 0.51501814 0.34830074 0.53762771\n",
      "  0.43806647 0.54299747 0.62557677 0.63509453 0.18752022 0.28920678\n",
      "  0.46445166 0.40451302 0.56291562 0.2047602  0.41223362 0.54274918\n",
      "  0.57066234 0.41372136 0.51545659 0.07772998 0.07326605 0.37747102\n",
      "  0.33329393 0.44111241 0.565903   0.08570483 0.42601942 0.20342456\n",
      "  0.56814538 0.48662217 0.46723355 0.1945236  0.41129464 0.78684346\n",
      "  0.48769654 0.21897794 0.17839381 0.3020159 ]\n",
      " [0.29212526 0.68178468 0.54452892 0.92373443 0.7911885  0.69593707\n",
      "  0.32770571 0.43132274 0.05463578 0.53466136 0.29852663 0.33779989\n",
      "  0.58969833 0.52076369 0.20507206 0.45009599 0.56833636 0.49845413\n",
      "  0.5267248  0.12825002 0.25078372 0.73361026 0.27973723 0.58487967\n",
      "  0.12412268 0.66683953 0.29994755 0.15822627 0.46738585 0.52570913\n",
      "  0.2936169  0.13603785 0.21981453 0.42999467 0.41280355 0.17550483\n",
      "  0.17899404 0.43366585 0.20234127 0.38589053 0.15346781 0.43878307\n",
      "  0.24088422 0.2702648  0.         0.79210959 0.56260599 0.19954019\n",
      "  0.69155838 0.37410124 0.46962177 0.39299859 0.61026128 0.35175954\n",
      "  0.41828268 0.28061839 0.59349891 0.44891557 0.53123573 0.41833618\n",
      "  0.22367914 0.62425866 0.13512607 0.29235579 0.4211066  0.77620258\n",
      "  0.24320829 0.35805325 0.7947004  0.77061972 0.44781259 0.13280341\n",
      "  0.6295395  0.26459045 0.4548581  0.43851832 0.58250343 0.45761401\n",
      "  0.82576363 0.18434501 0.4881572  0.2813026  0.31506255 0.1727119\n",
      "  0.46559036 0.69530435 0.76698024 0.34612068 0.20806083 0.45878782\n",
      "  0.41097553 0.63374658 0.21827156 0.38408948 0.65450297 0.69946313\n",
      "  0.22301085 0.08766903 0.3680605  0.53308847]\n",
      " [0.97592386 0.53799671 0.80657973 0.13244963 0.25380383 0.43879825\n",
      "  0.6006743  0.36084378 0.73762997 0.55780137 0.72271688 0.47128744\n",
      "  0.38423643 0.62011595 0.61915906 0.34596832 0.48824541 0.66568125\n",
      "  0.50368716 0.75833233 1.03658174 0.14627521 0.6893434  0.44418503\n",
      "  0.8367074  0.18731844 0.84595769 0.8968415  0.73214043 0.7102865\n",
      "  1.07571857 0.9144999  1.00998234 0.54461805 0.61125554 0.62749232\n",
      "  0.9513111  0.60811973 0.69630493 0.40628466 0.85440591 0.37533869\n",
      "  0.55289172 0.57049351 0.79210959 0.         0.69080816 0.93093248\n",
      "  0.6918857  0.56025753 0.67209951 0.78637878 0.69483583 0.5737515\n",
      "  0.50162393 0.84648946 0.22227678 0.53597805 0.70905447 0.59712172\n",
      "  0.57596124 0.53771809 0.92716633 1.07317441 0.85942612 0.08291846\n",
      "  0.82111911 0.86968923 0.19791288 0.29758229 0.52448487 0.72524203\n",
      "  0.2276417  0.97489907 0.76511048 0.36636836 0.24554105 0.72012617\n",
      "  0.18548872 0.84748475 0.61727605 0.62518043 0.50053869 0.79962799\n",
      "  0.36719196 0.57021374 0.08274601 0.55270324 0.98368151 0.37502061\n",
      "  0.84336391 0.26423785 1.00964527 0.66727497 0.61215335 0.85672071\n",
      "  1.01160957 0.70892998 0.42428047 0.62078617]\n",
      " [0.50144161 0.21340768 0.12759297 0.80053859 0.86038678 0.90955845\n",
      "  0.25873047 0.50294998 0.53964878 0.85957112 0.77091718 0.56153971\n",
      "  0.30685947 0.07795268 0.5875825  0.54088986 0.20313053 0.89648509\n",
      "  0.18981397 0.6504223  0.76393022 0.74318145 0.28287361 0.82536837\n",
      "  0.68341147 0.50354287 0.83268421 0.5266563  0.90919643 0.04620199\n",
      "  0.69488846 0.68335151 0.67923251 0.20076146 0.16729029 0.54847123\n",
      "  0.72507648 0.80942972 0.36080445 0.48289516 0.71315815 0.58847661\n",
      "  0.50590714 0.35365818 0.56260599 0.69080816 0.         0.53110149\n",
      "  0.13395191 0.23859606 0.87788722 0.21600859 0.99545001 0.25114096\n",
      "  0.71384438 0.36083397 0.49006304 0.77162326 0.94507082 0.17030825\n",
      "  0.53381828 0.91677722 0.6402112  0.68957347 0.25994591 0.62208362\n",
      "  0.77723777 0.88781792 0.82637409 0.87440332 0.20599979 0.62833628\n",
      "  0.69759711 0.52763458 0.91651829 0.43089407 0.65064871 0.89537067\n",
      "  0.58891092 0.73822364 0.85974611 0.29650626 0.38487176 0.71057553\n",
      "  0.62586627 0.20151646 0.72761644 0.2747027  0.61937365 0.37889229\n",
      "  0.9188913  0.7353264  0.68764133 0.17879549 0.13603668 1.13695249\n",
      "  0.73328668 0.5477445  0.4754313  0.07279014]\n",
      " [0.09840152 0.70068367 0.46885062 1.0632568  0.96553026 0.88836713\n",
      "  0.36912046 0.57955304 0.24031378 0.73334956 0.49405377 0.51148895\n",
      "  0.65901664 0.51629138 0.39675059 0.60615916 0.60682846 0.69724645\n",
      "  0.56454815 0.32337052 0.24792553 0.89420532 0.28407718 0.77762302\n",
      "  0.28793056 0.78094086 0.47218076 0.04169659 0.66253949 0.4865748\n",
      "  0.16778292 0.21869104 0.15243301 0.46867104 0.42465054 0.3597222\n",
      "  0.24613489 0.63316852 0.24196152 0.53317302 0.30945222 0.60767317\n",
      "  0.40681508 0.36339815 0.19954019 0.93093248 0.53110149 0.\n",
      "  0.6648747  0.42099367 0.66814089 0.32063193 0.80875178 0.39930851\n",
      "  0.61181119 0.17330882 0.71636633 0.6461346  0.72848393 0.43568234\n",
      "  0.39995733 0.82221412 0.15044295 0.16307357 0.31287165 0.90095389\n",
      "  0.41977295 0.52800502 0.96233222 0.95008314 0.49122248 0.33208376\n",
      "  0.7964143  0.06553313 0.64688254 0.56480545 0.74629917 0.65354873\n",
      "  0.93110551 0.34752307 0.68769555 0.32806595 0.43067417 0.35476283\n",
      "  0.63937461 0.70512332 0.91876965 0.40780419 0.08914572 0.56656686\n",
      "  0.59026944 0.80734099 0.16276631 0.37383607 0.65082324 0.89059496\n",
      "  0.21985917 0.27690022 0.51472374 0.52772157]\n",
      " [0.63235967 0.15699235 0.22888069 0.78648093 0.89114725 0.96909169\n",
      "  0.37548787 0.57294756 0.66530067 0.9432623  0.88263583 0.65191976\n",
      "  0.31962054 0.17498689 0.6982137  0.60867512 0.2257702  0.99165724\n",
      "  0.23823326 0.77277671 0.89755272 0.76844764 0.41273166 0.89505733\n",
      "  0.81052113 0.51041399 0.95265352 0.66058554 1.01161174 0.17844417\n",
      "  0.8280626  0.81498844 0.81318417 0.29467944 0.2834838  0.66202629\n",
      "  0.85705581 0.90441091 0.48921713 0.56210707 0.84018108 0.66164812\n",
      "  0.61100334 0.46476832 0.69155838 0.6918857  0.13395191 0.6648747\n",
      "  0.         0.34415773 0.9755129  0.34771478 1.08498561 0.36133371\n",
      "  0.80113833 0.49393966 0.51765573 0.85968071 1.04144475 0.28184281\n",
      "  0.64121238 0.99169699 0.77336532 0.82269975 0.38373453 0.61515139\n",
      "  0.89830099 1.00644394 0.85053199 0.91222292 0.29030755 0.74870203\n",
      "  0.74098089 0.65982923 1.02221296 0.49736328 0.69892856 0.99749327\n",
      "  0.55968109 0.86354855 0.95173962 0.41768183 0.48213989 0.83344771\n",
      "  0.69660292 0.12811913 0.74189026 0.38048089 0.75325381 0.43989821\n",
      "  1.0328558  0.7828176  0.8215789  0.30804857 0.08114491 1.2332129\n",
      "  0.8668699  0.67039402 0.55826016 0.16308248]\n",
      " [0.43763016 0.30814458 0.29814836 0.68711953 0.67589891 0.69077786\n",
      "  0.05197458 0.28520508 0.3371329  0.62395761 0.53850181 0.32478215\n",
      "  0.23837197 0.17078925 0.35409391 0.32365536 0.19514634 0.65790913\n",
      "  0.15299199 0.43549371 0.61030608 0.5714288  0.1407794  0.5988827\n",
      "  0.48295167 0.38547006 0.61136251 0.39903147 0.6714872  0.22314112\n",
      "  0.58636083 0.50791053 0.54483531 0.05611865 0.07562284 0.31817162\n",
      "  0.55123387 0.57089238 0.18616282 0.25592338 0.51183149 0.36360267\n",
      "  0.26853345 0.12103922 0.37410124 0.56025753 0.23859606 0.42099367\n",
      "  0.34415773 0.         0.63933127 0.2294664  0.75755689 0.02278109\n",
      "  0.47738675 0.29547981 0.33837545 0.53462834 0.70647865 0.06881893\n",
      "  0.29774978 0.68562919 0.48298185 0.58217591 0.3025424  0.51155698\n",
      "  0.55832695 0.66399111 0.65223009 0.68036261 0.07427239 0.40899983\n",
      "  0.50300402 0.44695018 0.68006898 0.22416974 0.45196114 0.65756659\n",
      "  0.52149173 0.53062804 0.62153406 0.09671867 0.14707369 0.49632846\n",
      "  0.40224101 0.32360063 0.57329158 0.03655941 0.497002   0.18996295\n",
      "  0.68874679 0.53388894 0.54980361 0.11325085 0.29064341 0.89837681\n",
      "  0.57986529 0.33519624 0.24529221 0.18198486]\n",
      " [0.76171985 0.89130166 0.91721342 0.77402736 0.5215661  0.33036846\n",
      "  0.62489427 0.43250629 0.43943547 0.13172325 0.1787662  0.32562318\n",
      "  0.72421566 0.80819116 0.30828328 0.40938582 0.77148751 0.03016335\n",
      "  0.74443472 0.34545301 0.59492279 0.54335868 0.64493279 0.24865237\n",
      "  0.39953488 0.66246395 0.26743442 0.62737877 0.06087165 0.85881452\n",
      "  0.71913874 0.49846789 0.63541604 0.68257029 0.71185619 0.3532848\n",
      "  0.50883949 0.07430659 0.57913736 0.42482504 0.39201638 0.35232913\n",
      "  0.37398452 0.52804342 0.46962177 0.67209951 0.87788722 0.66814089\n",
      "  0.9755129  0.63933127 0.         0.79044719 0.14064639 0.62742295\n",
      "  0.19157208 0.72496496 0.58950515 0.14066793 0.06788832 0.7076542\n",
      "  0.34989055 0.21089211 0.55685214 0.72038839 0.84266554 0.70765141\n",
      "  0.28733325 0.253667   0.55727851 0.47772734 0.68523492 0.33696681\n",
      "  0.44468138 0.73358321 0.09752854 0.50290435 0.4322272  0.0511029\n",
      "  0.80432834 0.35878265 0.0583828  0.59816146 0.49451181 0.32822633\n",
      "  0.33454824 0.91827688 0.60455212 0.60319365 0.65530436 0.56013856\n",
      "  0.19668401 0.4129765  0.62688321 0.72150671 0.90892743 0.25909656\n",
      "  0.58668188 0.40688135 0.42372    0.81852868]\n",
      " [0.28544139 0.41082244 0.15378685 0.91059679 0.90299661 0.90024397\n",
      "  0.20185045 0.50502784 0.38627328 0.80438361 0.65168208 0.51235689\n",
      "  0.43225555 0.2230801  0.48257781 0.54247522 0.34768829 0.81408179\n",
      "  0.31184502 0.50343518 0.56202858 0.80064192 0.14652026 0.80066642\n",
      "  0.51707987 0.60625609 0.68678181 0.32216855 0.80899168 0.170008\n",
      "  0.48096357 0.49610694 0.47187109 0.24308929 0.17695509 0.43798249\n",
      "  0.53516237 0.73126055 0.21369047 0.46888444 0.54623105 0.57408746\n",
      "  0.42533671 0.28236131 0.39299859 0.78637878 0.21600859 0.32063193\n",
      "  0.34771478 0.2294664  0.79044719 0.         0.92226637 0.22126973\n",
      "  0.65881661 0.1475727  0.56581008 0.71133895 0.85809352 0.19140089\n",
      "  0.44341938 0.87735405 0.44387971 0.47552625 0.0732204  0.73251438\n",
      "  0.62956043 0.74451029 0.88103839 0.90482375 0.26483771 0.48948515\n",
      "  0.72882613 0.31211468 0.80786207 0.45109896 0.67710028 0.79637899\n",
      "  0.72792787 0.57703671 0.78617896 0.20463657 0.34645136 0.55915786\n",
      "  0.61280443 0.40737877 0.80247712 0.24735369 0.40973844 0.41940712\n",
      "  0.7882138  0.75696136 0.48126457 0.11911086 0.34613006 1.0448306\n",
      "  0.53203279 0.40587273 0.45467647 0.23206662]\n",
      " [0.90234714 0.98834086 1.04351064 0.77870335 0.50027078 0.28584316\n",
      "  0.74838728 0.52158037 0.57941913 0.14960838 0.31748688 0.43439187\n",
      "  0.81325363 0.92294783 0.44318482 0.49174093 0.8722033  0.11214268\n",
      "  0.84925129 0.48586538 0.72641421 0.55370594 0.7759501  0.25092881\n",
      "  0.53753464 0.72178438 0.39029245 0.768018   0.15942352 0.97982015\n",
      "  0.85594777 0.63529166 0.77236721 0.7965769  0.83188885 0.4882969\n",
      "  0.64284987 0.19101066 0.7133148  0.52413033 0.52806439 0.4341535\n",
      "  0.49959693 0.65224914 0.61026128 0.69483583 0.99545001 0.80875178\n",
      "  1.08498561 0.75755689 0.14064639 0.92226637 0.         0.74780925\n",
      "  0.2838707  0.86299303 0.65590219 0.22530855 0.08601863 0.82636682\n",
      "  0.4789856  0.16247986 0.6954563  0.85743159 0.97705524 0.74426363\n",
      "  0.41927137 0.36284717 0.54637549 0.45069076 0.79657053 0.47757688\n",
      "  0.4719035  0.87420648 0.19112387 0.59633151 0.4750061  0.16329284\n",
      "  0.84843118 0.49328165 0.1368049  0.72540108 0.61066331 0.46599442\n",
      "  0.40664973 1.01717768 0.61861092 0.72225973 0.79450459 0.65506408\n",
      "  0.29336099 0.43112096 0.76339924 0.84676574 1.01445106 0.16434045\n",
      "  0.72032459 0.54632974 0.52684007 0.93260837]\n",
      " [0.41812678 0.33018677 0.30166888 0.70165086 0.68185802 0.68957785\n",
      "  0.03037633 0.28667397 0.31547025 0.61634869 0.52211607 0.31703298\n",
      "  0.25973627 0.18682585 0.3379305  0.32481641 0.21787538 0.64671798\n",
      "  0.17565689 0.41531708 0.58752734 0.57982891 0.12121823 0.59553848\n",
      "  0.46146757 0.4015476  0.59239733 0.37681416 0.65805774 0.23204155\n",
      "  0.56429248 0.48534452 0.52221729 0.07823518 0.0844364  0.3007635\n",
      "  0.52866568 0.55997449 0.16349722 0.25445381 0.49045763 0.36189372\n",
      "  0.25477021 0.10366877 0.35175954 0.5737515  0.25114096 0.39930851\n",
      "  0.36133371 0.02278109 0.62742295 0.22126973 0.74780925 0.\n",
      "  0.46941819 0.27759201 0.35150992 0.52608061 0.69483435 0.08116291\n",
      "  0.28290258 0.6802782  0.46020082 0.56014914 0.2937283  0.5272371\n",
      "  0.53891317 0.64552517 0.65989467 0.6846524  0.0970261  0.38939144\n",
      "  0.50801184 0.42646843 0.6656247  0.2298519  0.4565048  0.64424056\n",
      "  0.54024657 0.50981286 0.61140846 0.07398422 0.13953592 0.47618141\n",
      "  0.40070951 0.34503747 0.58402909 0.02767768 0.47470213 0.20063926\n",
      "  0.67175094 0.53736613 0.52713159 0.1097934  0.31034846 0.88651484\n",
      "  0.5570846  0.31446349 0.24249536 0.19842583]\n",
      " [0.69406577 0.7068085  0.76923316 0.61533334 0.40325953 0.2776658\n",
      "  0.47319002 0.24271272 0.37175825 0.14706128 0.22851341 0.15260472\n",
      "  0.5355128  0.64029277 0.21506379 0.21796121 0.58926384 0.19883745\n",
      "  0.56551188 0.32415143 0.61378484 0.38878653 0.51301389 0.16660909\n",
      "  0.40031407 0.47291091 0.35303649 0.5702647  0.24486156 0.70048053\n",
      "  0.70498273 0.49734844 0.62426594 0.5139808  0.55255535 0.25397794\n",
      "  0.52258765 0.11788008 0.46098901 0.24072254 0.40704328 0.16075867\n",
      "  0.23518402 0.3795603  0.41828268 0.50162393 0.71384438 0.61181119\n",
      "  0.80113833 0.47738675 0.19157208 0.65881661 0.2838707  0.46941819\n",
      "  0.         0.62349787 0.39872084 0.05858163 0.24955698 0.54610069\n",
      "  0.22458681 0.22044622 0.53786372 0.70465961 0.71983985 0.52732109\n",
      "  0.34002703 0.3700385  0.42384229 0.37142328 0.51317916 0.29899992\n",
      "  0.28113214 0.67389655 0.27210791 0.31538745 0.25619204 0.23115014\n",
      "  0.61915911 0.38699703 0.15357074 0.4559266  0.33041887 0.34173634\n",
      "  0.14510684 0.73498784 0.44340658 0.44299909 0.62497644 0.37366378\n",
      "  0.34204252 0.26182547 0.61896984 0.57265623 0.73072619 0.43691674\n",
      "  0.59659118 0.33509369 0.24297411 0.64970283]\n",
      " [0.14794218 0.54249373 0.29620322 0.97624469 0.92467472 0.88671581\n",
      "  0.24840912 0.52257119 0.29099737 0.76194348 0.56761629 0.49268395\n",
      "  0.52895182 0.35448258 0.42149391 0.55609163 0.46094731 0.75147278\n",
      "  0.42042385 0.40431244 0.41753568 0.83575678 0.15762847 0.78010774\n",
      "  0.4003854  0.67868737 0.5805381  0.17859081 0.73343751 0.31552899\n",
      "  0.33412733 0.36257821 0.32519939 0.3320782  0.27636635 0.37695272\n",
      "  0.39876066 0.67502967 0.167706   0.47942226 0.4278787  0.57399096\n",
      "  0.39136055 0.28585995 0.28061839 0.84648946 0.36083397 0.17330882\n",
      "  0.49393966 0.29547981 0.72496496 0.1475727  0.86299303 0.27759201\n",
      "  0.62349787 0.         0.6247594  0.66929136 0.79071703 0.28944758\n",
      "  0.39892852 0.84352274 0.3043223  0.32877954 0.1466693  0.80386322\n",
      "  0.52382169 0.63862414 0.91143597 0.9182707  0.35553758 0.39848718\n",
      "  0.74985884 0.16821217 0.72608441 0.48661769 0.69771184 0.72213499\n",
      "  0.81689984 0.46229647 0.73107423 0.22156556 0.35907878 0.4532359\n",
      "  0.6106882  0.54338857 0.8487975  0.29520483 0.2624543  0.47154116\n",
      "  0.69062638 0.77024022 0.3349672  0.21878207 0.48563969 0.96925859\n",
      "  0.3880838  0.3197264  0.46224391 0.36515125]\n",
      " [0.7564222  0.37857621 0.59757203 0.35153828 0.37406984 0.47047007\n",
      "  0.37841528 0.18047283 0.5402941  0.50646247 0.58674578 0.30867825\n",
      "  0.19837257 0.41490044 0.44599665 0.18711078 0.29570351 0.59306509\n",
      "  0.3003138  0.58177881 0.84317607 0.25363043 0.46738575 0.42137595\n",
      "  0.6561557  0.07889536 0.70184802 0.68421831 0.64353276 0.50308922\n",
      "  0.86717705 0.72309058 0.80630772 0.32620041 0.39246689 0.44304853\n",
      "  0.76270625 0.51650093 0.4780524  0.21706037 0.6777777  0.23977963\n",
      "  0.36441916 0.35327242 0.59349891 0.22227678 0.49006304 0.71636633\n",
      "  0.51765573 0.33837545 0.58950515 0.56581008 0.65590219 0.35150992\n",
      "  0.39872084 0.6247594  0.         0.44980175 0.6426095  0.37863517\n",
      "  0.39295982 0.52446999 0.7268376  0.86422113 0.63900002 0.18489917\n",
      "  0.66642589 0.73666607 0.33674712 0.39483832 0.30749355 0.54813513\n",
      "  0.22882797 0.75725633 0.66943838 0.15522956 0.19592214 0.62973309\n",
      "  0.23897284 0.67786311 0.5447578  0.4038696  0.28676538 0.63129017\n",
      "  0.2551675  0.41137262 0.24020687 0.33048661 0.77463528 0.15330995\n",
      "  0.72683271 0.27385515 0.80724263 0.44689733 0.43665904 0.8190775\n",
      "  0.81626148 0.51593053 0.23227302 0.41768022]\n",
      " [0.73191332 0.76494021 0.82491384 0.64337408 0.41060143 0.25594997\n",
      "  0.52884811 0.29977887 0.40611479 0.09330329 0.22011706 0.21008804\n",
      "  0.59264968 0.69839181 0.25211777 0.27318858 0.6476931  0.14358943\n",
      "  0.62408808 0.34360849 0.62694699 0.41353869 0.56504398 0.1490712\n",
      "  0.41539833 0.52205851 0.34093747 0.60443892 0.19816164 0.7575757\n",
      "  0.72847428 0.51488517 0.64623448 0.57203985 0.60957766 0.29440479\n",
      "  0.53613709 0.07214168 0.50965369 0.29921555 0.41803611 0.21539556\n",
      "  0.28612911 0.43422391 0.44891557 0.53597805 0.77162326 0.6461346\n",
      "  0.85968071 0.53462834 0.14066793 0.71133895 0.22530855 0.52608061\n",
      "  0.05858163 0.66929136 0.44980175 0.         0.1938197  0.60341114\n",
      "  0.27164122 0.17652818 0.56112384 0.72859095 0.77076091 0.56821081\n",
      "  0.33753341 0.34891079 0.43829482 0.37309999 0.57152164 0.32258734\n",
      "  0.3101215  0.70955598 0.22942855 0.37321336 0.29330522 0.18535634\n",
      "  0.66387254 0.39349228 0.09645747 0.50977211 0.38755948 0.35125824\n",
      "  0.19463477 0.79326953 0.47211037 0.49991825 0.65234074 0.43166041\n",
      "  0.31090875 0.2832757  0.63996423 0.62811366 0.78930188 0.37906641\n",
      "  0.61219938 0.36980704 0.3015508  0.707886  ]\n",
      " [0.82321243 0.95441637 0.98509528 0.80389157 0.53833156 0.33332901\n",
      "  0.6926035  0.49224337 0.50348895 0.15203374 0.23495439 0.39028126\n",
      "  0.78493251 0.87493842 0.37571269 0.46684152 0.83535948 0.05078433\n",
      "  0.80922054 0.40511471 0.64048087 0.57432668 0.71269534 0.27070772\n",
      "  0.45358045 0.71339276 0.30437925 0.6881612  0.07344454 0.9263809\n",
      "  0.77106435 0.55057483 0.68759227 0.74910517 0.77927042 0.42062583\n",
      "  0.55728146 0.13719873 0.64647238 0.487499   0.44317393 0.40913331\n",
      "  0.44172753 0.59576902 0.53123573 0.70905447 0.94507082 0.72848393\n",
      "  1.04144475 0.70647865 0.06788832 0.85809352 0.08601863 0.69483435\n",
      "  0.24955698 0.79071703 0.6426095  0.1938197  0.         0.77490782\n",
      "  0.41777719 0.20709575 0.61171518 0.77264754 0.90983957 0.75029999\n",
      "  0.33358517 0.27864401 0.57907161 0.49138982 0.75129512 0.39926599\n",
      "  0.4817746  0.79401369 0.10675885 0.56425586 0.47545683 0.07765809\n",
      "  0.85018722 0.40797226 0.09786328 0.66604392 0.5611955  0.38205019\n",
      "  0.38774944 0.98187798 0.6375306  0.6704272  0.71120618 0.62210062\n",
      "  0.21113794 0.44588819 0.67845156 0.78934364 0.9740262  0.19200659\n",
      "  0.63464715 0.47175996 0.48740102 0.88517435]\n",
      " [0.43681481 0.26880192 0.23386522 0.71989643 0.73039884 0.75535622\n",
      "  0.0939088  0.34812301 0.38701759 0.69257288 0.60298234 0.39350354\n",
      "  0.24356513 0.10685668 0.41893521 0.38666361 0.17233114 0.7264771\n",
      "  0.13109827 0.49162363 0.64340793 0.62142732 0.15318601 0.66541652\n",
      "  0.53315375 0.41529202 0.67082883 0.41961133 0.7389938  0.15467306\n",
      "  0.60334979 0.54829533 0.57034289 0.05252982 0.01446055 0.38120952\n",
      "  0.5913711  0.6395221  0.21919467 0.32180545 0.56255932 0.42924012\n",
      "  0.33572497 0.18459033 0.41833618 0.59712172 0.17030825 0.43568234\n",
      "  0.28184281 0.06881893 0.7076542  0.19140089 0.82636682 0.08116291\n",
      "  0.54610069 0.28944758 0.37863517 0.60341114 0.77490782 0.\n",
      "  0.36405735 0.7533732  0.51612413 0.59872631 0.26353912 0.54140336\n",
      "  0.61663047 0.72463413 0.70346334 0.73775455 0.0734631  0.46699898\n",
      "  0.55977028 0.45201427 0.74676983 0.28230877 0.50971781 0.72514183\n",
      "  0.53789627 0.58403968 0.69030783 0.13807373 0.21587485 0.55241906\n",
      "  0.46761787 0.27862427 0.61780884 0.10448341 0.51754805 0.23998751\n",
      "  0.75225367 0.59295591 0.57660464 0.07453721 0.23643067 0.96673873\n",
      "  0.61262676 0.38962898 0.31216423 0.11881676]\n",
      " [0.47529364 0.58171803 0.56733522 0.70613376 0.56909606 0.49337509\n",
      "  0.27687859 0.21761479 0.1698321  0.36485311 0.24278404 0.11428001\n",
      "  0.44340487 0.46853786 0.0610597  0.23034585 0.45930686 0.37198156\n",
      "  0.42468894 0.18890986 0.46097891 0.51025528 0.29700011 0.38426543\n",
      "  0.2637486  0.47059865 0.33181657 0.35951403 0.37614419 0.51149705\n",
      "  0.51683563 0.33872408 0.44321667 0.34696635 0.36656578 0.05153539\n",
      "  0.37540966 0.28799194 0.23806285 0.17614035 0.28482197 0.21511149\n",
      "  0.03327159 0.1803884  0.22367914 0.57596124 0.53381828 0.39995733\n",
      "  0.64121238 0.29774978 0.34989055 0.44341938 0.4789856  0.28290258\n",
      "  0.22458681 0.39892852 0.39295982 0.27164122 0.41777719 0.36405735\n",
      "  0.         0.44465985 0.35734406 0.51533937 0.50022731 0.56871856\n",
      "  0.28625584 0.37857805 0.57115286 0.55101212 0.35461905 0.1553065\n",
      "  0.40586493 0.45872566 0.38273128 0.24583776 0.35901532 0.36254154\n",
      "  0.6315097  0.2862438  0.34276085 0.24828699 0.16543829 0.24091514\n",
      "  0.24259692 0.60397052 0.54555994 0.26120477 0.42893418 0.28478216\n",
      "  0.39438294 0.41113519 0.44104264 0.37198619 0.58236752 0.60783765\n",
      "  0.4367816  0.13649895 0.1607514  0.47970051]\n",
      " [0.90843391 0.87988968 0.98186353 0.61698966 0.33810845 0.12662918\n",
      "  0.68714385 0.41875299 0.58244127 0.09204839 0.36894439 0.3657822\n",
      "  0.69899587 0.84073978 0.42858308 0.38341007 0.77042036 0.18644275\n",
      "  0.75346374 0.51405322 0.78831469 0.3942964  0.73221378 0.10314491\n",
      "  0.58134323 0.58330728 0.47452462 0.78052011 0.26394691 0.9079025\n",
      "  0.89888705 0.68172699 0.81582907 0.71610434 0.76124957 0.47045942\n",
      "  0.69891734 0.20077522 0.6814331  0.43392537 0.58003848 0.33026097\n",
      "  0.45545549 0.59614087 0.62425866 0.53771809 0.91677722 0.82221412\n",
      "  0.99169699 0.68562919 0.21089211 0.87735405 0.16247986 0.6802782\n",
      "  0.22044622 0.84352274 0.52446999 0.17652818 0.20709575 0.7533732\n",
      "  0.44465985 0.         0.73214029 0.89933372 0.93955143 0.59214761\n",
      "  0.48606987 0.46448084 0.3839155  0.28900831 0.71176469 0.49571039\n",
      "  0.32075631 0.88586185 0.30242359 0.49438367 0.33297996 0.25888156\n",
      "  0.69881736 0.55121007 0.15925116 0.67338125 0.54088467 0.51334725\n",
      "  0.29522052 0.91054939 0.45955352 0.65306629 0.82558789 0.55233108\n",
      "  0.40610763 0.27702664 0.80880671 0.7866064  0.91651308 0.31969805\n",
      "  0.7762939  0.54621933 0.44168057 0.84907561]\n",
      " [0.24575989 0.78465921 0.597111   1.05884264 0.92157098 0.81418808\n",
      "  0.43276692 0.56641993 0.1897333  0.64054969 0.3782079  0.47083546\n",
      "  0.71030029 0.61097063 0.33167085 0.58507763 0.67779438 0.58685692\n",
      "  0.63531944 0.21810508 0.12749006 0.86759612 0.36547382 0.70357996\n",
      "  0.15817627 0.79908863 0.33367209 0.12738445 0.5417666  0.59865204\n",
      "  0.16740997 0.07005375 0.08699948 0.53707361 0.50798248 0.30766957\n",
      "  0.09632862 0.53422965 0.29822566 0.52090196 0.17233352 0.5722269\n",
      "  0.37583538 0.39244961 0.13512607 0.92716633 0.6402112  0.15044295\n",
      "  0.77336532 0.48298185 0.55685214 0.44387971 0.6954563  0.46020082\n",
      "  0.53786372 0.3043223  0.7268376  0.56112384 0.61171518 0.51612413\n",
      "  0.35734406 0.73214029 0.         0.16746856 0.4504931  0.91022604\n",
      "  0.28599241 0.38690029 0.9271534  0.89884556 0.55716068 0.23921935\n",
      "  0.7626298  0.20775214 0.52114655 0.57163123 0.7163321  0.53458473\n",
      "  0.95695826 0.21035751 0.58545299 0.38646723 0.44476808 0.22966888\n",
      "  0.59763603 0.7944198  0.90185213 0.45983936 0.1004184  0.58856697\n",
      "  0.45329935 0.7649747  0.08374181 0.46794373 0.74707899 0.76085724\n",
      "  0.09690266 0.22087776 0.50300506 0.62310182]\n",
      " [0.20060565 0.86352544 0.61719262 1.20555862 1.08354275 0.98139434\n",
      "  0.53020337 0.71506343 0.34552523 0.80762544 0.54170584 0.62961795\n",
      "  0.81937589 0.67838649 0.49573635 0.73742212 0.76965838 0.7505179\n",
      "  0.7273036  0.38544172 0.16122587 1.02362592 0.44677882 0.87067164\n",
      "  0.32107183 0.93218114 0.4818584  0.18398626 0.70121911 0.64430629\n",
      "  0.00588391 0.22214142 0.08506499 0.63097481 0.58772409 0.46785224\n",
      "  0.22004785 0.70081719 0.39943442 0.66871332 0.32947506 0.73006709\n",
      "  0.52982469 0.51501814 0.29235579 1.07317441 0.68957347 0.16307357\n",
      "  0.82269975 0.58217591 0.72038839 0.47552625 0.85743159 0.56014914\n",
      "  0.70465961 0.32877954 0.86422113 0.72859095 0.77264754 0.59872631\n",
      "  0.51533937 0.89933372 0.16746856 0.         0.45554231 1.04908234\n",
      "  0.4409434  0.52955411 1.08644383 1.06263809 0.65331975 0.40649848\n",
      "  0.92090437 0.16594959 0.67771311 0.71004442 0.87302729 0.69506414\n",
      "  1.08560043 0.36527954 0.75129206 0.48769652 0.57754505 0.39217228\n",
      "  0.7577367  0.86745677 1.05400642 0.56689447 0.08962278 0.71801889\n",
      "  0.600309   0.92603413 0.09454064 0.53653913 0.81218648 0.91180383\n",
      "  0.14996468 0.38000798 0.65036454 0.68966861]\n",
      " [0.25664225 0.46648107 0.16310361 0.9832779  0.97491382 0.96707328\n",
      "  0.27301371 0.57559781 0.42320595 0.86404511 0.69593002 0.57633023\n",
      "  0.5021196  0.28299057 0.5345044  0.61269099 0.41388325 0.86740386\n",
      "  0.38000865 0.53970289 0.56040268 0.87344318 0.20784659 0.86579164\n",
      "  0.54339036 0.67877742 0.72012453 0.32383578 0.85743588 0.21450552\n",
      "  0.46125554 0.50923275 0.46499042 0.31560019 0.24915391 0.48942601\n",
      "  0.54531719 0.78643701 0.26376167 0.53828045 0.57156088 0.64233913\n",
      "  0.4849066  0.34830074 0.4211066  0.85942612 0.25994591 0.31287165\n",
      "  0.38373453 0.3025424  0.84266554 0.0732204  0.97705524 0.2937283\n",
      "  0.71983985 0.1466693  0.63900002 0.77076091 0.90983957 0.26353912\n",
      "  0.50022731 0.93955143 0.4504931  0.45554231 0.         0.80493655\n",
      "  0.66298475 0.77822967 0.95362242 0.9758825  0.33698514 0.52956265\n",
      "  0.80044031 0.28960569 0.85371692 0.52333735 0.74856974 0.84530372\n",
      "  0.7980699  0.60485546 0.84193527 0.27099043 0.41511723 0.59215963\n",
      "  0.68087929 0.45932203 0.87566668 0.31937652 0.40067522 0.49250474\n",
      "  0.82656909 0.82775726 0.47558497 0.19217914 0.39523636 1.09385748\n",
      "  0.53163514 0.44719472 0.52351412 0.29042841]\n",
      " [0.93871915 0.45985715 0.74125502 0.1796246  0.33152051 0.50272597\n",
      "  0.55567972 0.35121104 0.72248243 0.60163565 0.73898058 0.47266438\n",
      "  0.31567243 0.5541666  0.61748973 0.34508064 0.41896259 0.70444475\n",
      "  0.43848817 0.75583151 1.02474288 0.21481353 0.64625875 0.49390647\n",
      "  0.83233824 0.12638817 0.85965244 0.86906366 0.76631576 0.64455894\n",
      "  1.05201561 0.90376775 0.99049983 0.48942785 0.55578265 0.6198493\n",
      "  0.9424594  0.63973839 0.66170724 0.39344859 0.85229712 0.38500852\n",
      "  0.5423782  0.53762771 0.77620258 0.08291846 0.62208362 0.90095389\n",
      "  0.61515139 0.51155698 0.70765141 0.73251438 0.74426363 0.5272371\n",
      "  0.52732109 0.80386322 0.18489917 0.56821081 0.75029999 0.54140336\n",
      "  0.56871856 0.59214761 0.91022604 1.04908234 0.80493655 0.\n",
      "  0.82988799 0.88825877 0.27712786 0.37226163 0.46798534 0.72226274\n",
      "  0.27245524 0.94080894 0.79714446 0.33943869 0.27549524 0.7535646\n",
      "  0.10961146 0.84907985 0.65542041 0.58477908 0.47166435 0.80164849\n",
      "  0.38521871 0.49164906 0.15818087 0.50867001 0.95948603 0.33547866\n",
      "  0.86834947 0.31512119 0.99118729 0.61378287 0.53633263 0.90793433\n",
      "  0.99839523 0.69657058 0.4102584  0.55379493]\n",
      " [0.51801763 0.85896157 0.77721175 0.94354973 0.74276709 0.58959136\n",
      "  0.52283055 0.48596818 0.24361666 0.39532199 0.11844172 0.35866503\n",
      "  0.72923375 0.72339422 0.22621025 0.48543552 0.73773223 0.31725032\n",
      "  0.70022118 0.12749754 0.30780632 0.72359425 0.5012891  0.48630033\n",
      "  0.13186567 0.74528902 0.05725373 0.38325328 0.26110499 0.74557487\n",
      "  0.43903456 0.22028693 0.35617357 0.61281896 0.61491618 0.24706623\n",
      "  0.22374973 0.2870221  0.42300856 0.45224169 0.11366688 0.44658242\n",
      "  0.31929868 0.43806647 0.24320829 0.82111911 0.77723777 0.41977295\n",
      "  0.89830099 0.55832695 0.28733325 0.62956043 0.41927137 0.53891317\n",
      "  0.34002703 0.52382169 0.66642589 0.33753341 0.33358517 0.61663047\n",
      "  0.28625584 0.48606987 0.28599241 0.4409434  0.66298475 0.82988799\n",
      "  0.         0.11526533 0.76359515 0.70860497 0.62503037 0.14963671\n",
      "  0.61423213 0.48395661 0.23679962 0.52846994 0.58004924 0.25600232\n",
      "  0.90468543 0.07604037 0.32825332 0.48134545 0.44682805 0.0708253\n",
      "  0.4549014  0.87850365 0.77320338 0.5237248  0.38638641 0.57071278\n",
      "  0.17065853 0.60032501 0.34642542 0.60031067 0.84896781 0.47487088\n",
      "  0.30106676 0.22977368 0.43991393 0.73542969]\n",
      " [0.62638735 0.95921971 0.89146651 0.98534973 0.75866239 0.58128189\n",
      "  0.63131458 0.55789462 0.35830735 0.38097565 0.15005666 0.42943928\n",
      "  0.81998364 0.83148024 0.31760224 0.55051424 0.83707599 0.27988879\n",
      "  0.80117404 0.2414077  0.38091421 0.75829178 0.61455775 0.48914117\n",
      "  0.24194899 0.8152032  0.05812858 0.49325437 0.20699664 0.85742335\n",
      "  0.52681362 0.31769728 0.4470945  0.71733326 0.7237631  0.34699597\n",
      "  0.30978186 0.28317815 0.5366979  0.53020118 0.21857832 0.50399649\n",
      "  0.41173639 0.54299747 0.35805325 0.86968923 0.88781792 0.52800502\n",
      "  1.00644394 0.66399111 0.253667   0.74451029 0.36284717 0.64552517\n",
      "  0.3700385  0.63862414 0.73666607 0.34891079 0.27864401 0.72463413\n",
      "  0.37857805 0.46448084 0.38690029 0.52955411 0.77822967 0.88825877\n",
      "  0.11526533 0.         0.78715472 0.71894504 0.72800742 0.25982816\n",
      "  0.65115334 0.59088121 0.17195494 0.60977647 0.62437577 0.20823745\n",
      "  0.97125644 0.18073132 0.30722491 0.59134094 0.54349691 0.18607952\n",
      "  0.50403269 0.98033258 0.81343197 0.62856085 0.48583153 0.65711193\n",
      "  0.07330178 0.62961573 0.43603312 0.71210073 0.95413235 0.38419234\n",
      "  0.3818997  0.34235197 0.52042616 0.84336308]\n",
      " [1.02378811 0.70383328 0.93030466 0.23719898 0.05711704 0.26681613\n",
      "  0.68173731 0.38929167 0.74098176 0.42915348 0.65176251 0.45691548\n",
      "  0.53150862 0.75048314 0.59771292 0.35804883 0.63182495 0.54344703\n",
      "  0.63683642 0.73050474 1.02114376 0.08319284 0.76139589 0.30958588\n",
      "  0.8098657  0.34380582 0.77577261 0.92396467 0.6179207  0.83740169\n",
      "  1.08798008 0.90001021 1.01365823 0.65240253 0.71636144 0.61964721\n",
      "  0.93113714 0.50651617 0.74788458 0.43389005 0.82147713 0.35651141\n",
      "  0.55777909 0.62557677 0.7947004  0.19791288 0.82637409 0.96233222\n",
      "  0.85053199 0.65223009 0.55727851 0.88103839 0.54637549 0.65989467\n",
      "  0.42384229 0.91143597 0.33674712 0.43829482 0.57907161 0.70346334\n",
      "  0.57115286 0.3839155  0.9271534  1.08644383 0.95362242 0.27712786\n",
      "  0.76359515 0.78715472 0.         0.10609874 0.63640732 0.70025191\n",
      "  0.16602682 1.01511303 0.6546449  0.43065703 0.21628501 0.60815976\n",
      "  0.38330978 0.80599541 0.49906261 0.69417097 0.55236899 0.75909478\n",
      "  0.32953202 0.73680321 0.11939461 0.6344972  0.999495   0.46384779\n",
      "  0.74664724 0.16475536 1.01085506 0.76521659 0.7694073  0.70041061\n",
      "  1.00013843 0.70717163 0.45184729 0.75378367]\n",
      " [1.01939977 0.77212604 0.9697842  0.34236159 0.05132075 0.16595709\n",
      "  0.7030476  0.40051186 0.71876793 0.34643506 0.59260194 0.43860492\n",
      "  0.59321014 0.79695019 0.56726965 0.36423527 0.68851373 0.46043218\n",
      "  0.68762988 0.69196617 0.98324918 0.15906449 0.7754928  0.23036748\n",
      "  0.76984667 0.41899471 0.71401069 0.91012527 0.53720433 0.88033572\n",
      "  1.06362197 0.86460374 0.98584503 0.68899284 0.7496262  0.59565211\n",
      "  0.89220506 0.43576701 0.75132077 0.44035239 0.77801355 0.34571848\n",
      "  0.54358918 0.63509453 0.77061972 0.29758229 0.87440332 0.95008314\n",
      "  0.91222292 0.68036261 0.47772734 0.90482375 0.45069076 0.6846524\n",
      "  0.37142328 0.9182707  0.39483832 0.37309999 0.49138982 0.73775455\n",
      "  0.55101212 0.28900831 0.89884556 1.06263809 0.9758825  0.37226163\n",
      "  0.70860497 0.71894504 0.10609874 0.         0.67573368 0.66411853\n",
      "  0.17803871 1.00672537 0.57503624 0.45634479 0.22840812 0.52879546\n",
      "  0.48092693 0.75840155 0.41948324 0.70860537 0.56356541 0.71308488\n",
      "  0.3114073  0.80507966 0.21537093 0.65784741 0.97831212 0.49934423\n",
      "  0.67211548 0.14852679 0.98178976 0.79330526 0.83134053 0.60024868\n",
      "  0.96461264 0.68325737 0.45678653 0.80167858]\n",
      " [0.50121365 0.23598224 0.29455074 0.64660509 0.66570279 0.70392264\n",
      "  0.12486823 0.29696159 0.40953951 0.65735301 0.59734967 0.36247578\n",
      "  0.17350898 0.12904212 0.41355384 0.33496423 0.12088815 0.70164388\n",
      "  0.07891624 0.50436417 0.68452022 0.55381356 0.20772681 0.61950322\n",
      "  0.55479876 0.34194134 0.67679982 0.47098608 0.72158858 0.20510642\n",
      "  0.65764321 0.58198406 0.61812836 0.02346187 0.08788977 0.38101402\n",
      "  0.62530764 0.6143643  0.25983486 0.27795916 0.5833989  0.38269767\n",
      "  0.32325576 0.18752022 0.44781259 0.52448487 0.20599979 0.49122248\n",
      "  0.29030755 0.07427239 0.68523492 0.26483771 0.79657053 0.0970261\n",
      "  0.51317916 0.35553758 0.30749355 0.57152164 0.75129512 0.0734631\n",
      "  0.35461905 0.71176469 0.55716068 0.65331975 0.33698514 0.46798534\n",
      "  0.62503037 0.72800742 0.63640732 0.67573368 0.         0.47658892\n",
      "  0.49783657 0.51343081 0.73300844 0.2255824  0.44915635 0.70743377\n",
      "  0.46566947 0.60085559 0.66237727 0.17072751 0.19232976 0.56499102\n",
      "  0.41992727 0.25362268 0.5474165  0.10310027 0.56914456 0.17649509\n",
      "  0.74874251 0.53340648 0.62332204 0.14706845 0.22776293 0.94315759\n",
      "  0.65405449 0.40561831 0.27171157 0.13737434]\n",
      " [0.42477817 0.71143102 0.63346916 0.85355984 0.68989106 0.57496879\n",
      "  0.37321814 0.3712041  0.10750203 0.4049937  0.16948245 0.25427292\n",
      "  0.58885744 0.57377584 0.10615865 0.37974457 0.59094791 0.36569348\n",
      "  0.55262136 0.03365433 0.32092581 0.64736674 0.35542409 0.46438956\n",
      "  0.11169184 0.62589032 0.20436325 0.29094295 0.3372455  0.59759755\n",
      "  0.40659374 0.20061738 0.32533014 0.46378357 0.46537196 0.10718315\n",
      "  0.23101418 0.30189835 0.27835488 0.33113157 0.13004191 0.35383179\n",
      "  0.18559466 0.28920678 0.13280341 0.72524203 0.62833628 0.33208376\n",
      "  0.74870203 0.40899983 0.33696681 0.48948515 0.47757688 0.38939144\n",
      "  0.29899992 0.39848718 0.54813513 0.32258734 0.39926599 0.46699898\n",
      "  0.1553065  0.49571039 0.23921935 0.40649848 0.52956265 0.72226274\n",
      "  0.14963671 0.25982816 0.70025191 0.66411853 0.47658892 0.\n",
      "  0.53926467 0.39729959 0.32778902 0.400559   0.49700145 0.32682909\n",
      "  0.78679121 0.1319842  0.3558751  0.33207307 0.3039626  0.08964313\n",
      "  0.37304005 0.73020851 0.68862278 0.37470635 0.3299853  0.43622318\n",
      "  0.29874861 0.53597411 0.31997371 0.4522733  0.69958885 0.57169721\n",
      "  0.30079185 0.08371131 0.31602963 0.58580295]\n",
      " [0.85896669 0.60670629 0.79176402 0.33441207 0.17522345 0.24537347\n",
      "  0.52742922 0.22762456 0.57560366 0.33112554 0.50809252 0.2918425\n",
      "  0.42468253 0.61993451 0.43512956 0.19402621 0.51575822 0.43805067\n",
      "  0.51223701 0.57043986 0.85948686 0.10948354 0.6029056  0.22146563\n",
      "  0.65002609 0.27147172 0.63265237 0.75796259 0.50491696 0.70260878\n",
      "  0.92251526 0.73774476 0.84888568 0.51095826 0.57171186 0.45496024\n",
      "  0.77021751 0.38212081 0.58475367 0.27058211 0.6634027  0.1908424\n",
      "  0.39182931 0.46445166 0.6295395  0.2276417  0.69759711 0.7964143\n",
      "  0.74098089 0.50300402 0.44468138 0.72882613 0.4719035  0.50801184\n",
      "  0.28113214 0.74985884 0.22882797 0.3101215  0.4817746  0.55977028\n",
      "  0.40586493 0.32075631 0.7626298  0.92090437 0.80044031 0.27245524\n",
      "  0.61423213 0.65115334 0.16602682 0.17803871 0.49783657 0.53926467\n",
      "  0.         0.84960392 0.53842722 0.27883687 0.05225172 0.49310621\n",
      "  0.37813681 0.65058212 0.38963864 0.53569031 0.39172818 0.60304387\n",
      "  0.16628905 0.6393363  0.16253615 0.48150909 0.83371395 0.32138335\n",
      "  0.61992181 0.04662481 0.84637033 0.61612449 0.66067778 0.63548085\n",
      "  0.83762191 0.54217458 0.28812776 0.6249913 ]\n",
      " [0.03983684 0.71010347 0.4513521  1.10679464 1.02045651 0.94962281\n",
      "  0.39611518 0.62911823 0.30344185 0.79744639 0.5595799  0.5684375\n",
      "  0.68492919 0.52248431 0.45904953 0.65754942 0.62434411 0.76264607\n",
      "  0.58288082 0.3889017  0.28709734 0.94503755 0.30646187 0.83914018\n",
      "  0.35210818 0.81858358 0.53562076 0.10636576 0.72803406 0.48189006\n",
      "  0.17165257 0.27756883 0.18715287 0.49024485 0.4397442  0.4206701\n",
      "  0.3005663  0.69797997 0.27920651 0.58309843 0.3726503  0.66255903\n",
      "  0.46321048 0.40451302 0.26459045 0.97489907 0.52763458 0.06553313\n",
      "  0.65982923 0.44695018 0.73358321 0.31211468 0.87420648 0.42646843\n",
      "  0.67389655 0.16821217 0.75725633 0.70955598 0.79401369 0.45201427\n",
      "  0.45872566 0.88586185 0.20775214 0.16594959 0.28960569 0.94080894\n",
      "  0.48395661 0.59088121 1.01511303 1.00672537 0.51343081 0.39729959\n",
      "  0.84960392 0.         0.71217621 0.60868254 0.79882943 0.71907116\n",
      "  0.96479764 0.41089457 0.75267316 0.35919389 0.47477076 0.41970992\n",
      "  0.69541982 0.71151704 0.96677881 0.43857702 0.12374817 0.60534472\n",
      "  0.65420093 0.86253371 0.1992704  0.38443886 0.6538045  0.95570895\n",
      "  0.26218613 0.33980493 0.56476391 0.53325402]\n",
      " [0.74372131 0.94964794 0.94344211 0.86966279 0.61907789 0.42523849\n",
      "  0.65887257 0.50334102 0.43514984 0.22868283 0.15847417 0.38547146\n",
      "  0.7899864  0.85077551 0.33056633 0.48480244 0.82800103 0.11645712\n",
      "  0.79771124 0.32661268 0.53983738 0.63903853 0.66587796 0.3461806\n",
      "  0.36370345 0.74460373 0.2011204  0.60788734 0.03852547 0.89325751\n",
      "  0.67575367 0.45686299 0.59297295 0.72753874 0.74923954 0.37287123\n",
      "  0.45954394 0.15748096 0.59417992 0.48876672 0.34960038 0.42977358\n",
      "  0.41159847 0.56291562 0.4548581  0.76511048 0.91651829 0.64688254\n",
      "  1.02221296 0.68006898 0.09752854 0.80786207 0.19112387 0.6656247\n",
      "  0.27210791 0.72608441 0.66943838 0.22942855 0.10675885 0.74676983\n",
      "  0.38273128 0.30242359 0.52114655 0.67771311 0.85371692 0.79714446\n",
      "  0.23679962 0.17195494 0.6546449  0.57503624 0.73300844 0.32778902\n",
      "  0.53842722 0.71217621 0.         0.56914408 0.52266068 0.04649071\n",
      "  0.89098283 0.31269544 0.15590985 0.62680418 0.54069244 0.29334457\n",
      "  0.41720521 0.97492198 0.69942985 0.64351292 0.62147365 0.62416213\n",
      "  0.10523883 0.50845138 0.58318109 0.75140246 0.95993087 0.24460504\n",
      "  0.53599148 0.40733852 0.48464832 0.86175944]\n",
      " [0.61073943 0.39202308 0.51575347 0.49854616 0.45207255 0.47868336\n",
      "  0.25108028 0.0758688  0.38560704 0.45022756 0.4626325  0.1849623\n",
      "  0.22146869 0.3531561  0.3030841  0.1115139  0.277206   0.51347456\n",
      "  0.25915382 0.43395651 0.68858471 0.35171073 0.33263955 0.39814077\n",
      "  0.50582931 0.22885915 0.56918568 0.53139353 0.54942208 0.43001362\n",
      "  0.71288587 0.569095   0.65117006 0.23559006 0.29372846 0.29378764\n",
      "  0.60925982 0.42876414 0.33072459 0.08096524 0.52883187 0.16489061\n",
      "  0.21499423 0.2047602  0.43851832 0.36636836 0.43089407 0.56480545\n",
      "  0.49736328 0.22416974 0.50290435 0.45109896 0.59633151 0.2298519\n",
      "  0.31538745 0.48661769 0.15522956 0.37321336 0.56425586 0.28230877\n",
      "  0.24583776 0.49438367 0.57163123 0.71004442 0.52333735 0.33943869\n",
      "  0.52846994 0.60977647 0.43065703 0.45634479 0.2255824  0.400559\n",
      "  0.27883687 0.60868254 0.56914408 0.         0.22795357 0.53510289\n",
      "  0.38910227 0.53201297 0.46895799 0.26592884 0.13419105 0.48670966\n",
      "  0.19923978 0.42094563 0.36223078 0.20398105 0.62042251 0.05880647\n",
      "  0.61047939 0.31069088 0.65203535 0.33732825 0.422388   0.75223339\n",
      "  0.66142175 0.36236174 0.08937272 0.36013163]\n",
      " [0.80767042 0.56904715 0.7423786  0.36357852 0.22747082 0.27519172\n",
      "  0.47556053 0.17538116 0.52826976 0.32877834 0.47821071 0.24588955\n",
      "  0.38604685 0.57279504 0.39174975 0.14217207 0.47319587 0.4290879\n",
      "  0.46722303 0.52886451 0.81593442 0.15132595 0.55067002 0.23021173\n",
      "  0.60838286 0.25033395 0.60208628 0.7081846  0.49116111 0.65420881\n",
      "  0.87477065 0.69383104 0.80220122 0.4615391  0.52143436 0.40894974\n",
      "  0.72742026 0.36518868 0.53282095 0.21857686 0.62309653 0.14435203\n",
      "  0.34328927 0.41223362 0.58250343 0.24554105 0.65064871 0.74629917\n",
      "  0.69892856 0.45196114 0.4322272  0.67710028 0.4750061  0.4565048\n",
      "  0.25619204 0.69771184 0.19592214 0.29330522 0.47545683 0.50971781\n",
      "  0.35901532 0.33297996 0.7163321  0.87302729 0.74856974 0.27549524\n",
      "  0.58004924 0.62437577 0.21628501 0.22840812 0.44915635 0.49700145\n",
      "  0.05225172 0.79882943 0.52266068 0.22795357 0.         0.47857919\n",
      "  0.375062   0.61224487 0.3800256  0.48346215 0.33948153 0.56444912\n",
      "  0.12574656 0.60132094 0.19349291 0.42986372 0.7853658  0.27273584\n",
      "  0.59814927 0.08472757 0.80004668 0.5649467  0.61925156 0.63934637\n",
      "  0.7933373  0.49551427 0.23624703 0.57827953]\n",
      " [0.74902003 0.91960606 0.92805279 0.82370702 0.57266402 0.38029127\n",
      "  0.63939832 0.46719093 0.43269622 0.1826127  0.15950662 0.35349266\n",
      "  0.756495   0.82773578 0.31469    0.44669701 0.79865074 0.07250339\n",
      "  0.76976842 0.33041888 0.56317838 0.59304757 0.65243693 0.29973371\n",
      "  0.3764102  0.70403476 0.22865382 0.61357892 0.01435268 0.87400307\n",
      "  0.69345693 0.47303003 0.61001646 0.70321886 0.72840658 0.35865594\n",
      "  0.4796568  0.11424596 0.58328129 0.45549605 0.3655909  0.39069787\n",
      "  0.38947221 0.54274918 0.45761401 0.72012617 0.89537067 0.65354873\n",
      "  0.99749327 0.65756659 0.0511029  0.79637899 0.16329284 0.64424056\n",
      "  0.23115014 0.72213499 0.62973309 0.18535634 0.07765809 0.72514183\n",
      "  0.36254154 0.25888156 0.53458473 0.69506414 0.84530372 0.7535646\n",
      "  0.25600232 0.20823745 0.60815976 0.52879546 0.70743377 0.32682909\n",
      "  0.49310621 0.71907116 0.04649071 0.53510289 0.47857919 0.\n",
      "  0.84859977 0.33031501 0.10947666 0.60969149 0.51535552 0.3049411\n",
      "  0.376016   0.94566457 0.65373135 0.62111314 0.63427928 0.59119102\n",
      "  0.14724261 0.46250991 0.60083415 0.7340106  0.93320039 0.24861388\n",
      "  0.55706801 0.4024168  0.45265479 0.83844052]\n",
      " [0.95823235 0.40281601 0.71379466 0.23349625 0.43879553 0.61198829\n",
      "  0.57023484 0.41892007 0.77371929 0.70366328 0.82122198 0.54620434\n",
      "  0.29595996 0.52918338 0.68496871 0.42111274 0.39079957 0.80310695\n",
      "  0.41933705 0.82041339 1.07645051 0.32424949 0.66146233 0.59920652\n",
      "  0.8940871  0.16092645 0.93865763 0.90255469 0.86176521 0.6179212\n",
      "  1.08901225 0.95781073 1.03335819 0.48871773 0.55229211 0.68117376\n",
      "  0.99825339 0.73436134 0.68917254 0.45592352 0.91620753 0.46815201\n",
      "  0.60234196 0.57066234 0.82576363 0.18548872 0.58891092 0.93110551\n",
      "  0.55968109 0.52149173 0.80432834 0.72792787 0.84843118 0.54024657\n",
      "  0.61915911 0.81689984 0.23897284 0.66387254 0.85018722 0.53789627\n",
      "  0.6315097  0.69881736 0.95695826 1.08560043 0.7980699  0.10961146\n",
      "  0.90468543 0.97125644 0.38330978 0.48092693 0.46566947 0.78679121\n",
      "  0.37813681 0.96479764 0.89098283 0.38910227 0.375062   0.84859977\n",
      "  0.         0.91679384 0.75400208 0.60562102 0.51226755 0.87026104\n",
      "  0.47450356 0.43207618 0.2658265  0.52629231 0.99668138 0.36883146\n",
      "  0.95663751 0.42212677 1.03530082 0.61233888 0.48543708 1.01254926\n",
      "  1.04871968 0.75140423 0.47076319 0.52640577]\n",
      " [0.44592457 0.83672125 0.72776933 0.97352186 0.78945717 0.64881444\n",
      "  0.49040645 0.49924378 0.19858395 0.45947896 0.18291778 0.37712051\n",
      "  0.71982691 0.68974562 0.23209354 0.50450056 0.71764548 0.38890643\n",
      "  0.67824632 0.09953349 0.2374122  0.7599261  0.45724892 0.54233744\n",
      "  0.06207574 0.75604549 0.12472748 0.31252398 0.33607093 0.70375774\n",
      "  0.36348347 0.14425054 0.28038858 0.5863638  0.58070131 0.23914365\n",
      "  0.15005843 0.35053264 0.37845472 0.4608806  0.03834254 0.47261525\n",
      "  0.31726495 0.41372136 0.18434501 0.84748475 0.73822364 0.34752307\n",
      "  0.86354855 0.53062804 0.35878265 0.57703671 0.49328165 0.50981286\n",
      "  0.38699703 0.46229647 0.67786311 0.39349228 0.40797226 0.58403968\n",
      "  0.2862438  0.55121007 0.21035751 0.36527954 0.60485546 0.84907985\n",
      "  0.07604037 0.18073132 0.80599541 0.75840155 0.60085559 0.1319842\n",
      "  0.65058212 0.41089457 0.31269544 0.53201297 0.61224487 0.33031501\n",
      "  0.91679384 0.         0.39580474 0.44632457 0.43470466 0.04789151\n",
      "  0.48656598 0.85394945 0.80557317 0.49793101 0.31066317 0.56820368\n",
      "  0.24368356 0.64139406 0.27083214 0.55962491 0.81955178 0.55060441\n",
      "  0.22790291 0.19543682 0.44642289 0.70197988]\n",
      " [0.77866521 0.86023417 0.90670603 0.71714301 0.46318738 0.27430563\n",
      "  0.61165229 0.39600616 0.45266824 0.07426728 0.21289197 0.29991962\n",
      "  0.68888752 0.78789237 0.30974909 0.36963436 0.74220905 0.04910643\n",
      "  0.71748588 0.36927555 0.63320321 0.48656071 0.63975071 0.19027099\n",
      "  0.43066584 0.61577365 0.31527867 0.64634112 0.1188586  0.84344922\n",
      "  0.75043146 0.53086639 0.66681903 0.66159435 0.69559874 0.35464263\n",
      "  0.54500893 0.05604984 0.57840134 0.39366635 0.42656641 0.31181835\n",
      "  0.36284854 0.51545659 0.4881572  0.61727605 0.85974611 0.68769555\n",
      "  0.95173962 0.62153406 0.0583828  0.78617896 0.1368049  0.61140846\n",
      "  0.15357074 0.73107423 0.5447578  0.09645747 0.09786328 0.69030783\n",
      "  0.34276085 0.15925116 0.58545299 0.75129206 0.84193527 0.65542041\n",
      "  0.32825332 0.30722491 0.49906261 0.41948324 0.66237727 0.3558751\n",
      "  0.38963864 0.75267316 0.15590985 0.46895799 0.3800256  0.10947666\n",
      "  0.75400208 0.39580474 0.         0.58865434 0.47487613 0.36071653\n",
      "  0.28989397 0.88823111 0.54834923 0.5860494  0.68191892 0.52720076\n",
      "  0.25370525 0.35649709 0.65902218 0.70996855 0.88262966 0.28345085\n",
      "  0.62279097 0.41816179 0.39482167 0.79774949]\n",
      " [0.35430877 0.40109638 0.31905212 0.75539267 0.71090111 0.69624999\n",
      "  0.04669351 0.30845189 0.24895617 0.60232675 0.4769238  0.30792694\n",
      "  0.3316924  0.2434379  0.29624286 0.3443845  0.29134029 0.61988458\n",
      "  0.24891173 0.35521614 0.51386944 0.61682046 0.06727005 0.59604887\n",
      "  0.39508006 0.46086177 0.53642694 0.30395053 0.62303546 0.26805897\n",
      "  0.49172133 0.41334482 0.44833696 0.1507575  0.13439787 0.25470402\n",
      "  0.45662    0.5348879  0.08959254 0.26874689 0.42449085 0.37150799\n",
      "  0.22580667 0.07772998 0.2813026  0.62518043 0.29650626 0.32806595\n",
      "  0.41768183 0.09671867 0.59816146 0.20463657 0.72540108 0.07398422\n",
      "  0.4559266  0.22156556 0.4038696  0.50977211 0.66604392 0.13807373\n",
      "  0.24828699 0.67338125 0.38646723 0.48769652 0.27099043 0.58477908\n",
      "  0.48134545 0.59134094 0.69417097 0.70860537 0.17072751 0.33207307\n",
      "  0.53569031 0.35919389 0.62680418 0.26592884 0.48346215 0.60969149\n",
      "  0.60562102 0.44632457 0.58865434 0.         0.14521097 0.41580991\n",
      "  0.40996643 0.41401311 0.62770625 0.07982463 0.40154497 0.25056201\n",
      "  0.62322692 0.56009688 0.45317825 0.12459897 0.37442937 0.85599747\n",
      "  0.48336783 0.25272887 0.25329065 0.2556609 ]\n",
      " [0.47782997 0.41628015 0.4409806  0.63273719 0.56690536 0.55443105\n",
      "  0.14762737 0.16410561 0.26503988 0.47715962 0.4075606  0.17783823\n",
      "  0.28512569 0.31374318 0.22604218 0.19934274 0.29387438 0.51213578\n",
      "  0.25958426 0.33525868 0.56569355 0.47702646 0.21192967 0.45760201\n",
      "  0.39852816 0.35553947 0.4952122  0.39766219 0.52947193 0.37007327\n",
      "  0.58055957 0.44950434 0.5215477  0.18812383 0.22213824 0.19981993\n",
      "  0.49131047 0.42493023 0.19803941 0.12353912 0.4245259  0.22764103\n",
      "  0.13284593 0.07326605 0.31506255 0.50053869 0.38487176 0.43067417\n",
      "  0.48213989 0.14707369 0.49451181 0.34645136 0.61066331 0.13953592\n",
      "  0.33041887 0.35907878 0.28676538 0.38755948 0.5611955  0.21587485\n",
      "  0.16543829 0.54088467 0.44476808 0.57754505 0.41511723 0.47166435\n",
      "  0.44682805 0.54349691 0.55236899 0.56356541 0.19232976 0.3039626\n",
      "  0.39172818 0.47477076 0.54069244 0.13419105 0.33948153 0.51535552\n",
      "  0.51226755 0.43470466 0.47487613 0.14521097 0.         0.39354544\n",
      "  0.26638499 0.43874307 0.49341971 0.11268917 0.48799609 0.1438965\n",
      "  0.55934406 0.41503941 0.52319521 0.24635308 0.4194774  0.75320192\n",
      "  0.53737436 0.2482068  0.10839715 0.32401881]\n",
      " [0.45245684 0.80027549 0.70743744 0.92563188 0.74335956 0.6071449\n",
      "  0.45851293 0.45223085 0.17381795 0.42132282 0.14954426 0.32944687\n",
      "  0.67831622 0.65885999 0.18529548 0.45690801 0.68014027 0.35834915\n",
      "  0.64150583 0.0608669  0.27596259 0.71233857 0.4326141  0.49950677\n",
      "  0.07155075 0.70963749 0.12800609 0.31688869 0.312332   0.677891\n",
      "  0.39096999 0.17048146 0.30723609 0.5515577  0.54999007 0.19548656\n",
      "  0.18572119 0.31272284 0.35403277 0.41448314 0.06693339 0.42472518\n",
      "  0.27259035 0.37747102 0.1727119  0.79962799 0.71057553 0.35476283\n",
      "  0.83344771 0.49632846 0.32822633 0.55915786 0.46599442 0.47618141\n",
      "  0.34173634 0.4532359  0.63129017 0.35125824 0.38205019 0.55241906\n",
      "  0.24091514 0.51334725 0.22966888 0.39217228 0.59215963 0.80164849\n",
      "  0.0708253  0.18607952 0.75909478 0.71308488 0.56499102 0.08964313\n",
      "  0.60304387 0.41970992 0.29334457 0.48670966 0.56444912 0.3049411\n",
      "  0.87026104 0.04789151 0.36071653 0.41580991 0.39354544 0.\n",
      "  0.43879824 0.81856925 0.75774368 0.46261988 0.32938213 0.52441774\n",
      "  0.23890581 0.59441153 0.29890028 0.53285271 0.78651993 0.53606986\n",
      "  0.26294684 0.16309265 0.40036552 0.67099646]\n",
      " [0.70805012 0.58660736 0.70034811 0.4887305  0.32671636 0.2888719\n",
      "  0.41316576 0.12391476 0.41224254 0.25752681 0.35589268 0.12852273\n",
      "  0.40805375 0.54886266 0.26889135 0.08826329 0.47537108 0.33798767\n",
      "  0.45838997 0.40439913 0.69320449 0.27448595 0.47505103 0.19967097\n",
      "  0.4839885  0.32812198 0.478785   0.59980336 0.3895882  0.62056645\n",
      "  0.7591332  0.57151327 0.68419782 0.42636971 0.47698571 0.29026738\n",
      "  0.60395198 0.26211451 0.44303273 0.14638158 0.49797025 0.03885868\n",
      "  0.23256562 0.33329393 0.46559036 0.36719196 0.62586627 0.63937461\n",
      "  0.69660292 0.40224101 0.33454824 0.61280443 0.40664973 0.40070951\n",
      "  0.14510684 0.6106882  0.2551675  0.19463477 0.38774944 0.46761787\n",
      "  0.24259692 0.29522052 0.59763603 0.7577367  0.68087929 0.38521871\n",
      "  0.4549014  0.50403269 0.32953202 0.3114073  0.41992727 0.37304005\n",
      "  0.16628905 0.69541982 0.41720521 0.19923978 0.12574656 0.376016\n",
      "  0.47450356 0.48656598 0.28989397 0.40996643 0.26638499 0.43879824\n",
      "  0.         0.61671934 0.31922701 0.37303189 0.67153094 0.25711758\n",
      "  0.48336996 0.16858727 0.6813289  0.51015884 0.62130478 0.56765277\n",
      "  0.67145054 0.37795771 0.15864862 0.55662071]\n",
      " [0.68941334 0.03301008 0.32473013 0.66037314 0.7803478  0.87561046\n",
      "  0.36763084 0.49625299 0.6605021  0.87104932 0.84629362 0.59287974\n",
      "  0.21527703 0.18921531 0.66407256 0.52871886 0.14701564 0.93127081\n",
      "  0.17931284 0.75789689 0.92151638 0.65607122 0.42956521 0.81056919\n",
      "  0.80648762 0.39348173 0.92985715 0.69345347 0.95999054 0.24530731\n",
      "  0.87242344 0.82662183 0.84574097 0.26764908 0.28644077 0.63354034\n",
      "  0.86977129 0.84503211 0.49778835 0.49460926 0.83541918 0.5848919\n",
      "  0.57157883 0.44111241 0.69530435 0.57021374 0.20151646 0.70512332\n",
      "  0.12811913 0.32360063 0.91827688 0.40737877 1.01717768 0.34503747\n",
      "  0.73498784 0.54338857 0.41137262 0.79326953 0.98187798 0.27862427\n",
      "  0.60397052 0.91054939 0.7944198  0.86745677 0.45932203 0.49164906\n",
      "  0.87850365 0.98033258 0.73680321 0.80507966 0.25362268 0.73020851\n",
      "  0.6393363  0.71151704 0.97492198 0.42094563 0.60132094 0.94566457\n",
      "  0.43207618 0.85394945 0.88823111 0.41401311 0.43874307 0.81856925\n",
      "  0.61671934 0.         0.62473389 0.35610234 0.79030071 0.36215911\n",
      "  0.99808462 0.68320822 0.85262736 0.33153483 0.06635706 1.17166231\n",
      "  0.8906993  0.65853845 0.49460193 0.17826854]\n",
      " [0.97117612 0.59193025 0.83752481 0.17193147 0.17334975 0.357123\n",
      "  0.60874126 0.33964262 0.71236788 0.48557503 0.66939366 0.43519288\n",
      "  0.42569074 0.65370751 0.58277278 0.31698803 0.52841169 0.59600236\n",
      "  0.53799963 0.72091237 1.00564725 0.06534208 0.69389623 0.36926621\n",
      "  0.80025016 0.2316341  0.79375799 0.88265698 0.66515999 0.74260484\n",
      "  1.05614274 0.88332727 0.98658873 0.56557654 0.63142411 0.59655994\n",
      "  0.91811266 0.54390999 0.69144715 0.38613248 0.81574666 0.33479234\n",
      "  0.52609755 0.565903   0.76698024 0.08274601 0.72761644 0.91876965\n",
      "  0.74189026 0.57329158 0.60455212 0.80247712 0.61861092 0.58402909\n",
      "  0.44340658 0.8487975  0.24020687 0.47211037 0.6375306  0.61780884\n",
      "  0.54555994 0.45955352 0.90185213 1.05400642 0.87566668 0.15818087\n",
      "  0.77320338 0.81343197 0.11939461 0.21537093 0.5474165  0.68862278\n",
      "  0.16253615 0.96677881 0.69942985 0.36223078 0.19349291 0.65373135\n",
      "  0.2658265  0.80557317 0.54834923 0.62770625 0.49341971 0.75774368\n",
      "  0.31922701 0.62473389 0.         0.56060453 0.96517531 0.38353227\n",
      "  0.78234712 0.19192748 0.98524576 0.68424582 0.66106334 0.77917409\n",
      "  0.98212895 0.68132582 0.40459096 0.65582431]\n",
      " [0.43245602 0.33907326 0.32905534 0.68156739 0.65565878 0.66190049\n",
      "  0.04818953 0.25931817 0.30664164 0.58981682 0.50215671 0.29047292\n",
      "  0.2529948  0.20734161 0.31773315 0.29738209 0.22248225 0.62200492\n",
      "  0.18147108 0.40187902 0.5866418  0.55487428 0.13758883 0.56797194\n",
      "  0.45172123 0.38372869 0.57632662 0.38297031 0.63501913 0.25769988\n",
      "  0.5708347  0.48111656 0.52519286 0.08909637 0.10968838 0.28228006\n",
      "  0.52440077 0.53507701 0.1676302  0.22678296 0.48029992 0.33421616\n",
      "  0.23199309 0.08570483 0.34612068 0.55270324 0.2747027  0.40780419\n",
      "  0.38048089 0.03655941 0.60319365 0.24735369 0.72225973 0.02767768\n",
      "  0.44299909 0.29520483 0.33048661 0.49991825 0.6704272  0.10448341\n",
      "  0.26120477 0.65306629 0.45983936 0.56689447 0.31937652 0.50867001\n",
      "  0.5237248  0.62856085 0.6344972  0.65784741 0.10310027 0.37470635\n",
      "  0.48150909 0.43857702 0.64351292 0.20398105 0.42986372 0.62111314\n",
      "  0.52629231 0.49793101 0.5860494  0.07982463 0.11268917 0.46261988\n",
      "  0.37303189 0.35610234 0.56060453 0.         0.48015638 0.17812658\n",
      "  0.65256626 0.51036056 0.52948745 0.13737892 0.32562331 0.86227087\n",
      "  0.55647376 0.30260396 0.21483757 0.21850487]\n",
      " [0.16358242 0.78462625 0.5578007  1.11608333 0.9979155  0.90252531\n",
      "  0.44508204 0.62597458 0.25965102 0.73456098 0.47702834 0.54312243\n",
      "  0.73305885 0.60208479 0.41303253 0.64887487 0.68695399 0.68519329\n",
      "  0.64441321 0.31277503 0.16383132 0.93564096 0.36455014 0.79151678\n",
      "  0.2580996  0.84281402 0.43345584 0.0982094  0.64169281 0.57511222\n",
      "  0.09256887 0.16816875 0.06477659 0.54720425 0.50723118 0.38268741\n",
      "  0.18282694 0.62964441 0.31252996 0.57957624 0.27272006 0.64298437\n",
      "  0.4420842  0.42601942 0.20806083 0.98368151 0.61937365 0.08914572\n",
      "  0.75325381 0.497002   0.65530436 0.40973844 0.79450459 0.47470213\n",
      "  0.62497644 0.2624543  0.77463528 0.65234074 0.71120618 0.51754805\n",
      "  0.42893418 0.82558789 0.1004184  0.08962278 0.40067522 0.95948603\n",
      "  0.38638641 0.48583153 0.999495   0.97831212 0.56914456 0.3299853\n",
      "  0.83371395 0.12374817 0.62147365 0.62042251 0.7853658  0.63427928\n",
      "  0.99668138 0.31066317 0.68191892 0.40154497 0.48799609 0.32938213\n",
      "  0.67153094 0.79030071 0.96517531 0.48015638 0.         0.62877235\n",
      "  0.55313475 0.84005563 0.07626265 0.45878027 0.73730252 0.86123367\n",
      "  0.13843798 0.29507432 0.5611985  0.61370013]\n",
      " [0.60355818 0.33335528 0.47049873 0.50484451 0.49052369 0.53247804\n",
      "  0.22628397 0.13448189 0.40808772 0.50903164 0.51200635 0.2387598\n",
      "  0.16597344 0.30093964 0.34452085 0.16894372 0.21856306 0.57133843\n",
      "  0.20201849 0.46897659 0.70950656 0.38229307 0.31432368 0.45516018\n",
      "  0.53706852 0.21446523 0.61411595 0.53600778 0.60553369 0.38148134\n",
      "  0.72126991 0.59269165 0.66453033 0.18993763 0.25264576 0.3291365\n",
      "  0.63414355 0.48615771 0.32632848 0.13569722 0.56171654 0.2234711\n",
      "  0.25219793 0.20342456 0.45878782 0.37502061 0.37889229 0.56656686\n",
      "  0.43989821 0.18996295 0.56013856 0.41940712 0.65506408 0.20063926\n",
      "  0.37366378 0.47154116 0.15330995 0.43166041 0.62210062 0.23998751\n",
      "  0.28478216 0.55233108 0.58856697 0.71801889 0.49250474 0.33547866\n",
      "  0.57071278 0.65711193 0.46384779 0.49934423 0.17649509 0.43622318\n",
      "  0.32138335 0.60534472 0.62416213 0.05880647 0.27273584 0.59119102\n",
      "  0.36883146 0.56820368 0.52720076 0.25056201 0.1438965  0.52441774\n",
      "  0.25711758 0.36215911 0.38353227 0.17812658 0.62877235 0.\n",
      "  0.66152268 0.35713302 0.66649048 0.30202959 0.3641874  0.81057815\n",
      "  0.68125633 0.3889817  0.13997351 0.30708462]\n",
      " [0.68857462 0.9751784  0.93152875 0.95393981 0.71431042 0.52704527\n",
      "  0.66040836 0.55205346 0.40346917 0.32790588 0.15180401 0.42611617\n",
      "  0.82675728 0.85857443 0.33527841 0.53973947 0.85268749 0.21967362\n",
      "  0.81890116 0.2869661  0.45359038 0.72441501 0.6528599  0.44184441\n",
      "  0.30235602 0.80431367 0.11968007 0.55391167 0.14290767 0.89115293\n",
      "  0.59774427 0.38515587 0.51709225 0.74010866 0.7527072  0.37104659\n",
      "  0.38026436 0.24043877 0.5767014  0.5296436  0.28202603 0.4889001\n",
      "  0.42652841 0.56814538 0.41097553 0.84336391 0.9188913  0.59026944\n",
      "  1.0328558  0.68874679 0.19668401 0.7882138  0.29336099 0.67175094\n",
      "  0.34204252 0.69062638 0.72683271 0.31090875 0.21113794 0.75225367\n",
      "  0.39438294 0.40610763 0.45329935 0.600309   0.82656909 0.86834947\n",
      "  0.17065853 0.07330178 0.74664724 0.67211548 0.74874251 0.29874861\n",
      "  0.61992181 0.65420093 0.10523883 0.61047939 0.59814927 0.14724261\n",
      "  0.95663751 0.24368356 0.25370525 0.62322692 0.55934406 0.23890581\n",
      "  0.48336996 0.99808462 0.78234712 0.65256626 0.55313475 0.66152268\n",
      "  0.         0.59417819 0.50632103 0.74641671 0.97634995 0.31190306\n",
      "  0.45366818 0.38243128 0.52214313 0.87015725]\n",
      " [0.87388393 0.65070869 0.82608295 0.36121209 0.15823338 0.19878716\n",
      "  0.55511758 0.25219181 0.58063851 0.2941156  0.49033887 0.29710799\n",
      "  0.46815952 0.65745465 0.43430766 0.21571603 0.55720054 0.40407536\n",
      "  0.55185323 0.56597432 0.85689907 0.1306228  0.62696771 0.18020802\n",
      "  0.64526068 0.31808802 0.61483932 0.76801788 0.47370116 0.73850645\n",
      "  0.92735924 0.7360701  0.85174206 0.54535667 0.60441616 0.45826472\n",
      "  0.7667074  0.35428696 0.60361118 0.29185148 0.6567239  0.19997951\n",
      "  0.40064192 0.48662217 0.63374658 0.26423785 0.7353264  0.80734099\n",
      "  0.7828176  0.53388894 0.4129765  0.75696136 0.43112096 0.53736613\n",
      "  0.26182547 0.77024022 0.27385515 0.2832757  0.44588819 0.59295591\n",
      "  0.41113519 0.27702664 0.7649747  0.92603413 0.82775726 0.31512119\n",
      "  0.60032501 0.62961573 0.16475536 0.14852679 0.53340648 0.53597411\n",
      "  0.04662481 0.86253371 0.50845138 0.31069088 0.08472757 0.46250991\n",
      "  0.42212677 0.64139406 0.35649709 0.56009688 0.41503941 0.59441153\n",
      "  0.16858727 0.68320822 0.19192748 0.51036056 0.84005563 0.35713302\n",
      "  0.59417819 0.         0.84854817 0.6464616  0.70287308 0.59390094\n",
      "  0.83626224 0.54607827 0.30838669 0.66298629]\n",
      " [0.23899929 0.84516561 0.63109339 1.14150287 1.004975   0.89426931\n",
      "  0.49846212 0.6491096  0.27289879 0.71688564 0.44839654 0.55457695\n",
      "  0.78190647 0.66589811 0.41488736 0.66836543 0.74293635 0.65703561\n",
      "  0.70030589 0.29639748 0.08782719 0.95129774 0.42364669 0.78401087\n",
      "  0.22835646 0.87846773 0.38758552 0.16100895 0.60685471 0.64413927\n",
      "  0.09265352 0.12843714 0.01269737 0.60222865 0.5672193  0.39141031\n",
      "  0.12625269 0.60937616 0.36364109 0.60337963 0.235335   0.65596178\n",
      "  0.45915406 0.46723355 0.21827156 1.00964527 0.68764133 0.16276631\n",
      "  0.8215789  0.54980361 0.62688321 0.48126457 0.76339924 0.52713159\n",
      "  0.61896984 0.3349672  0.80724263 0.63996423 0.67845156 0.57660464\n",
      "  0.44104264 0.80880671 0.08374181 0.09454064 0.47558497 0.99118729\n",
      "  0.34642542 0.43603312 1.01085506 0.98178976 0.62332204 0.31997371\n",
      "  0.84637033 0.1992704  0.58318109 0.65203535 0.80004668 0.60083415\n",
      "  1.03530082 0.27083214 0.65902218 0.45317825 0.52319521 0.29890028\n",
      "  0.6813289  0.85262736 0.98524576 0.52948745 0.07626265 0.66649048\n",
      "  0.50632103 0.84854817 0.         0.52208875 0.80183022 0.81758181\n",
      "  0.06476076 0.30455442 0.58536705 0.67775684]\n",
      " [0.36671542 0.3270343  0.19688224 0.79162038 0.78914887 0.79901587\n",
      "  0.09955615 0.39635248 0.36111029 0.71968448 0.6011178  0.42145137\n",
      "  0.31807326 0.1438146  0.42083912 0.43455778 0.24264369 0.74260646\n",
      "  0.20302562 0.47307494 0.59382512 0.68414422 0.10469049 0.70385128\n",
      "  0.50461599 0.48745304 0.65626647 0.36218781 0.74741521 0.14532845\n",
      "  0.54141424 0.50717011 0.51483591 0.12466778 0.06027688 0.37917008\n",
      "  0.54944935 0.65693652 0.18204064 0.36405736 0.53436275 0.47131377\n",
      "  0.34788135 0.1945236  0.38408948 0.66727497 0.17879549 0.37383607\n",
      "  0.30804857 0.11325085 0.72150671 0.11911086 0.84676574 0.1097934\n",
      "  0.57265623 0.21878207 0.44689733 0.62811366 0.78934364 0.07453721\n",
      "  0.37198619 0.7866064  0.46794373 0.53653913 0.19217914 0.61378287\n",
      "  0.60031067 0.71210073 0.76521659 0.79330526 0.14706845 0.4522733\n",
      "  0.61612449 0.38443886 0.75140246 0.33732825 0.5649467  0.7340106\n",
      "  0.61233888 0.55962491 0.70996855 0.12459897 0.24635308 0.53285271\n",
      "  0.51015884 0.33153483 0.68424582 0.13737892 0.45878027 0.30202959\n",
      "  0.74641671 0.6464616  0.52208875 0.         0.27987078 0.97980937\n",
      "  0.56299779 0.37053958 0.35167943 0.15572502]\n",
      " [0.63017644 0.08547353 0.25837369 0.70940278 0.81003001 0.89054089\n",
      "  0.3293148  0.49823626 0.62324825 0.87094741 0.82505897 0.58375125\n",
      "  0.23851551 0.13617245 0.64108534 0.53310644 0.14698648 0.92383336\n",
      "  0.16521462 0.7256537  0.87342513 0.68730364 0.38171564 0.81876298\n",
      "  0.76944827 0.42972684 0.90190663 0.6415402  0.94743218 0.1807499\n",
      "  0.81728634 0.78303574 0.79440408 0.23682001 0.24176471 0.60747989\n",
      "  0.82587178 0.83682752 0.45383385 0.49039221 0.7987895  0.58722088\n",
      "  0.55099616 0.41129464 0.65450297 0.61215335 0.13603668 0.65082324\n",
      "  0.08114491 0.29064341 0.90892743 0.34613006 1.01445106 0.31034846\n",
      "  0.73072619 0.48563969 0.43665904 0.78930188 0.9740262  0.23643067\n",
      "  0.58236752 0.91651308 0.74707899 0.81218648 0.39523636 0.53633263\n",
      "  0.84896781 0.95413235 0.7694073  0.83134053 0.22776293 0.69958885\n",
      "  0.66067778 0.6538045  0.95993087 0.422388   0.61925156 0.93320039\n",
      "  0.48543708 0.81955178 0.88262966 0.37442937 0.4194774  0.78651993\n",
      "  0.62130478 0.06635706 0.66106334 0.32562331 0.73730252 0.3641874\n",
      "  0.97634995 0.70287308 0.80183022 0.27987078 0.         1.16524591\n",
      "  0.84258629 0.62448303 0.48790787 0.12415404]\n",
      " [0.98780706 1.14368053 1.17491175 0.93561005 0.6510768  0.43446625\n",
      "  0.88370891 0.67874395 0.67873158 0.31275124 0.40223127 0.58159897\n",
      "  0.97151747 1.06694465 0.56261129 0.65086525 1.02553755 0.24156071\n",
      "  1.00025148 0.57121706 0.76510182 0.71395609 0.90048411 0.41408083\n",
      "  0.60515548 0.88579583 0.42999913 0.85197859 0.2364435  1.11781678\n",
      "  0.90934594 0.69432746 0.82812261 0.94110025 0.97094632 0.60691429\n",
      "  0.6917992  0.32880587 0.83186677 0.67706675 0.58852382 0.592989\n",
      "  0.63279773 0.78684346 0.69946313 0.85672071 1.13695249 0.89059496\n",
      "  1.2332129  0.89837681 0.25909656 1.0448306  0.16434045 0.88651484\n",
      "  0.43691674 0.96925859 0.8190775  0.37906641 0.19200659 0.96673873\n",
      "  0.60783765 0.31969805 0.76085724 0.91180383 1.09385748 0.90793433\n",
      "  0.47487088 0.38419234 0.70041061 0.60024868 0.94315759 0.57169721\n",
      "  0.63548085 0.95570895 0.24460504 0.75223339 0.63934637 0.24861388\n",
      "  1.01254926 0.55060441 0.28345085 0.85599747 0.75320192 0.53606986\n",
      "  0.56765277 1.17166231 0.77917409 0.86227087 0.86123367 0.81057815\n",
      "  0.31190306 0.59390094 0.81758181 0.97980937 1.16524591 0.\n",
      "  0.76557046 0.64970786 0.67785089 1.07717841]\n",
      " [0.30201983 0.88128435 0.68385772 1.14247418 0.99066797 0.86800006\n",
      "  0.52966735 0.651034   0.27600457 0.68426892 0.41011403 0.54763272\n",
      "  0.80631509 0.70641793 0.40258423 0.66691854 0.77469688 0.61680001\n",
      "  0.73222153 0.27279888 0.03084118 0.94452549 0.46136045 0.75898742\n",
      "  0.19691228 0.88984343 0.33685852 0.20997707 0.5620109  0.69090452\n",
      "  0.14653464 0.10021938 0.0774563  0.63397395 0.60427608 0.38559307\n",
      "  0.07788008 0.57563849 0.39507447 0.60641039 0.19636837 0.64904393\n",
      "  0.45871886 0.48769654 0.22301085 1.01160957 0.73328668 0.21985917\n",
      "  0.8668699  0.57986529 0.58668188 0.53203279 0.72032459 0.5570846\n",
      "  0.59659118 0.3880838  0.81626148 0.61219938 0.63464715 0.61262676\n",
      "  0.4367816  0.7762939  0.09690266 0.14996468 0.53163514 0.99839523\n",
      "  0.30106676 0.3818997  1.00013843 0.96461264 0.65405449 0.30079185\n",
      "  0.83762191 0.26218613 0.53599148 0.66142175 0.7933373  0.55706801\n",
      "  1.04871968 0.22790291 0.62279097 0.48336783 0.53737436 0.26294684\n",
      "  0.67145054 0.8906993  0.98212895 0.55647376 0.13843798 0.68125633\n",
      "  0.45366818 0.83626224 0.06476076 0.56299779 0.84258629 0.76557046\n",
      "  0.         0.3027389  0.58894432 0.71848972]\n",
      " [0.36253079 0.64157302 0.54989226 0.83999582 0.70353643 0.61220311\n",
      "  0.29576963 0.34829518 0.03666725 0.45852757 0.24905437 0.2503474\n",
      "  0.53137549 0.49590422 0.12012527 0.36494947 0.52316966 0.43426872\n",
      "  0.48332515 0.10268001 0.32833797 0.64674691 0.27223351 0.5012704\n",
      "  0.15138063 0.59117912 0.28592579 0.23527799 0.41372424 0.51580243\n",
      "  0.38128568 0.20726251 0.30674924 0.39093233 0.38697155 0.08784453\n",
      "  0.24690933 0.36247249 0.19476533 0.30380891 0.17883068 0.35153969\n",
      "  0.15608026 0.21897794 0.08766903 0.70892998 0.5477445  0.27690022\n",
      "  0.67039402 0.33519624 0.40688135 0.40587273 0.54632974 0.31446349\n",
      "  0.33509369 0.3197264  0.51593053 0.36980704 0.47175996 0.38962898\n",
      "  0.13649895 0.54621933 0.22087776 0.38000798 0.44719472 0.69657058\n",
      "  0.22977368 0.34235197 0.70717163 0.68325737 0.40561831 0.08371131\n",
      "  0.54217458 0.33980493 0.40733852 0.36236174 0.49551427 0.4024168\n",
      "  0.75140423 0.19543682 0.41816179 0.25272887 0.2482068  0.16309265\n",
      "  0.37795771 0.65853845 0.68132582 0.30260396 0.29507432 0.3889817\n",
      "  0.38243128 0.54607827 0.30455442 0.37053958 0.62448303 0.64970786\n",
      "  0.3027389  0.         0.2865114  0.50806571]\n",
      " [0.57214674 0.46762475 0.54326003 0.55624452 0.46253261 0.44738712\n",
      "  0.25453147 0.06494926 0.31373823 0.38575791 0.37358013 0.09925137\n",
      "  0.3059256  0.40011138 0.21556453 0.09410318 0.34796283 0.43688549\n",
      "  0.32271394 0.34965022 0.61484185 0.38027906 0.31951883 0.35359255\n",
      "  0.42394438 0.30986154 0.47994521 0.47815803 0.46700746 0.46642392\n",
      "  0.65269142 0.49357705 0.58573907 0.27466984 0.32066803 0.21082319\n",
      "  0.53222251 0.35044534 0.29662754 0.01846544 0.44553067 0.11979422\n",
      "  0.13243615 0.17839381 0.3680605  0.42428047 0.4754313  0.51472374\n",
      "  0.55826016 0.24529221 0.42372    0.45467647 0.52684007 0.24249536\n",
      "  0.24297411 0.46224391 0.23227302 0.3015508  0.48740102 0.31216423\n",
      "  0.1607514  0.44168057 0.50300506 0.65036454 0.52351412 0.4102584\n",
      "  0.43991393 0.52042616 0.45184729 0.45678653 0.27171157 0.31602963\n",
      "  0.28812776 0.56476391 0.48464832 0.08937272 0.23624703 0.45265479\n",
      "  0.47076319 0.44642289 0.39482167 0.25329065 0.10839715 0.40036552\n",
      "  0.15864862 0.49460193 0.40459096 0.21483757 0.5611985  0.13997351\n",
      "  0.52214313 0.30838669 0.58536705 0.35167943 0.48790787 0.67785089\n",
      "  0.58894432 0.2865114  0.         0.40895788]\n",
      " [0.5114969  0.17892146 0.18810054 0.73291042 0.78760725 0.83872017\n",
      "  0.21262113 0.43316327 0.50427066 0.79440437 0.72029047 0.49821961\n",
      "  0.23813369 0.01232479 0.53594091 0.47078829 0.13614055 0.83596071\n",
      "  0.11784372 0.6102425  0.74932643 0.67059452 0.25795676 0.75628543\n",
      "  0.65008782 0.4334812  0.78964062 0.51761328 0.85244809 0.09161248\n",
      "  0.69468915 0.66007597 0.67040599 0.13617593 0.12128321 0.49918924\n",
      "  0.70275581 0.74869623 0.33139545 0.41532866 0.67963201 0.51968995\n",
      "  0.45016349 0.3020159  0.53308847 0.62078617 0.07279014 0.52772157\n",
      "  0.16308248 0.18198486 0.81852868 0.23206662 0.93260837 0.19842583\n",
      "  0.64970283 0.36515125 0.41768022 0.707886   0.88517435 0.11881676\n",
      "  0.47970051 0.84907561 0.62310182 0.68966861 0.29042841 0.55379493\n",
      "  0.73542969 0.84336308 0.75378367 0.80167858 0.13737434 0.58580295\n",
      "  0.6249913  0.53325402 0.86175944 0.36013163 0.57827953 0.83844052\n",
      "  0.52640577 0.70197988 0.79774949 0.2556609  0.32401881 0.67099646\n",
      "  0.55662071 0.17826854 0.65582431 0.21850487 0.61370013 0.30708462\n",
      "  0.87015725 0.66298629 0.67775684 0.15572502 0.12415404 1.07717841\n",
      "  0.71848972 0.50806571 0.40895788 0.        ]]\n"
     ]
    }
   ],
   "source": [
    "Z = np.random.random((100,2))\n",
    "X,Y = np.atleast_2d(Z[:,0],Z[:,1])\n",
    "D = np.sqrt((X-X.T)**2+(Y-Y.T)**2)#Y.Tとは。転置。\n",
    "print(D)"
   ]
  },
  {
   "cell_type": "markdown",
   "id": "343c5a85",
   "metadata": {},
   "source": [
    "#### 53. How to convert a float (32 bits) array into an integer (32 bits) in place?"
   ]
  },
  {
   "cell_type": "code",
   "execution_count": 42,
   "id": "fc1b687b",
   "metadata": {},
   "outputs": [
    {
     "name": "stdout",
     "output_type": "stream",
     "text": [
      "[41 32 67 26 39 58 60 14 95 99]\n"
     ]
    }
   ],
   "source": [
    "Z = (np.random.rand(10)*100).astype(np.float32)#(配列Z) = (ランダムな小数値配列rand(10))×100 → (データ型float32に変換)\n",
    "Y = Z.view(np.int32)#(配列Y) = (配列Z)を(データ型int32)として解釈するビュー\n",
    "Y[:] =  Z\n",
    "print(Y)#np.random.dand(3,2)の引数は数値。np.random.random((3,2))の引数は配列。np.reros((3,2))の引数は配列。np.ones((3,2))の引数は配列。"
   ]
  },
  {
   "cell_type": "markdown",
   "id": "a69e1ace",
   "metadata": {},
   "source": [
    "#### 54. How to read the following file? (★★☆)\n",
    "```\n",
    "1, 2, 3, 4, 5\n",
    "6,  ,  , 7, 8\n",
    " ,  , 9,10,11\n",
    "```"
   ]
  },
  {
   "cell_type": "code",
   "execution_count": null,
   "id": "1c7957d4",
   "metadata": {},
   "outputs": [],
   "source": [
    "from io import StringIO#(モジュールioからStringIOクラス)をインポート\n",
    "#ioモジュールには、入出力操作（ファイルの読み書きなど）を扱う便利なツールがたくさん定義されています\n",
    "#StringIO**は、Pythonのioモジュールの一部で、文字列を「ファイルのように扱う」ためのクラス"
   ]
  },
  {
   "cell_type": "markdown",
   "id": "c23bd80d",
   "metadata": {},
   "source": [
    "#### 55. What is the equivalent of enumerate for numpy arrays? (★★☆)\n",
    "\n",
    "#### 55. numpy 配列の enumerate(列挙する) に相当するものは何ですか? (★★☆)"
   ]
  },
  {
   "cell_type": "code",
   "execution_count": 47,
   "id": "d95d9578",
   "metadata": {},
   "outputs": [
    {
     "name": "stdout",
     "output_type": "stream",
     "text": [
      "(0, 0) 0\n",
      "(0, 1) 1\n",
      "(0, 2) 2\n",
      "(1, 0) 3\n",
      "(1, 1) 4\n",
      "(1, 2) 5\n",
      "(2, 0) 6\n",
      "(2, 1) 7\n",
      "(2, 2) 8\n",
      "(0, 0) 0\n",
      "(0, 1) 1\n",
      "(0, 2) 2\n",
      "(1, 0) 3\n",
      "(1, 1) 4\n",
      "(1, 2) 5\n",
      "(2, 0) 6\n",
      "(2, 1) 7\n",
      "(2, 2) 8\n"
     ]
    }
   ],
   "source": [
    "Z = np.arange(9).reshape(3,3)\n",
    "for index, value in np.ndenumerate(Z):\"\"\"np.ndenumerate() は、多次元配列を走査して各要素の インデックス と 値 を取得\"\"\"\n",
    "    print(index,value)#N-dimensional (N次元),enumerate (列挙する)\n",
    "for index in np.ndindex(Z.shape):#np.ndindex() は、多次元配列の形状（ここでは (3, 3)）を基に、すべてのインデックスを生成\n",
    "    print(index, Z[index])"
   ]
  },
  {
   "cell_type": "markdown",
   "id": "2153a5ec",
   "metadata": {},
   "source": [
    "#### 56. Generate a generic 2D Gaussian-like array (★★☆)"
   ]
  },
  {
   "cell_type": "code",
   "execution_count": 50,
   "id": "61122d1e",
   "metadata": {},
   "outputs": [
    {
     "name": "stdout",
     "output_type": "stream",
     "text": [
      "[[0.36787944 0.44822088 0.51979489 0.57375342 0.60279818 0.60279818\n",
      "  0.57375342 0.51979489 0.44822088 0.36787944]\n",
      " [0.44822088 0.54610814 0.63331324 0.69905581 0.73444367 0.73444367\n",
      "  0.69905581 0.63331324 0.54610814 0.44822088]\n",
      " [0.51979489 0.63331324 0.73444367 0.81068432 0.85172308 0.85172308\n",
      "  0.81068432 0.73444367 0.63331324 0.51979489]\n",
      " [0.57375342 0.69905581 0.81068432 0.89483932 0.9401382  0.9401382\n",
      "  0.89483932 0.81068432 0.69905581 0.57375342]\n",
      " [0.60279818 0.73444367 0.85172308 0.9401382  0.98773022 0.98773022\n",
      "  0.9401382  0.85172308 0.73444367 0.60279818]\n",
      " [0.60279818 0.73444367 0.85172308 0.9401382  0.98773022 0.98773022\n",
      "  0.9401382  0.85172308 0.73444367 0.60279818]\n",
      " [0.57375342 0.69905581 0.81068432 0.89483932 0.9401382  0.9401382\n",
      "  0.89483932 0.81068432 0.69905581 0.57375342]\n",
      " [0.51979489 0.63331324 0.73444367 0.81068432 0.85172308 0.85172308\n",
      "  0.81068432 0.73444367 0.63331324 0.51979489]\n",
      " [0.44822088 0.54610814 0.63331324 0.69905581 0.73444367 0.73444367\n",
      "  0.69905581 0.63331324 0.54610814 0.44822088]\n",
      " [0.36787944 0.44822088 0.51979489 0.57375342 0.60279818 0.60279818\n",
      "  0.57375342 0.51979489 0.44822088 0.36787944]]\n"
     ]
    }
   ],
   "source": [
    "X,Y = np.meshgrid(np.linspace(-1,1,10),np.linspace(-1,1,10))\n",
    "D = np.sqrt(X*X+Y*Y)\n",
    "sigma,mu = 1.0, 0.0\n",
    "G = np.exp(-((D-mu)**2/(2.0*sigma**2)))#正規分布関数\n",
    "print(G)"
   ]
  },
  {
   "cell_type": "markdown",
   "id": "2e76d589",
   "metadata": {},
   "source": [
    "#### 57. How to randomly place p elements in a 2D array? (★★☆)"
   ]
  },
  {
   "cell_type": "code",
   "execution_count": 52,
   "id": "0c2e4fcc",
   "metadata": {},
   "outputs": [
    {
     "name": "stdout",
     "output_type": "stream",
     "text": [
      "[[0. 0. 0. 0. 0. 0. 0. 0. 0. 0.]\n",
      " [0. 0. 0. 0. 0. 0. 0. 0. 0. 0.]\n",
      " [0. 0. 0. 0. 0. 0. 0. 0. 0. 0.]\n",
      " [0. 0. 0. 0. 0. 0. 0. 0. 0. 0.]\n",
      " [0. 0. 1. 0. 0. 0. 0. 0. 0. 0.]\n",
      " [0. 0. 0. 0. 0. 0. 0. 0. 0. 0.]\n",
      " [0. 0. 1. 0. 0. 0. 0. 0. 0. 0.]\n",
      " [0. 0. 0. 0. 0. 0. 0. 0. 0. 0.]\n",
      " [0. 0. 0. 0. 1. 0. 0. 0. 0. 0.]\n",
      " [0. 0. 0. 0. 0. 0. 0. 0. 0. 0.]]\n"
     ]
    }
   ],
   "source": [
    "n = 10\n",
    "p = 3\n",
    "Z = np.zeros((n,n))\n",
    "np.put(Z,np.random.choice(range(n*n),p,replace= False),1)#(ランダムな位置に1を配置する)： (Zの要素番号配列の中から、ランダムにp個選ぶ) → (その位置に1を代入)\n",
    "#range(n*n):「(ゼロからn*n-1までの連続した整数のリスト)」\n",
    "#np.random.choice(range(n*n), p, replace=False):「(インデックス範囲range(n*n)の中から、ランダムにp個選ぶ（重複なし）)」\n",
    "#np.put(Z, ...(...は省略の記号), 1):「(2次元配列Zをフラットにした状態で、指定したインデックスに1を代入する)」配列 Z に、選ばれたランダムな位置に値 1 を設定する。\n",
    "print(Z)"
   ]
  },
  {
   "cell_type": "markdown",
   "id": "8b3933eb",
   "metadata": {},
   "source": [
    "#### 58. Subtract the mean of each row of a matrix (★★☆)"
   ]
  },
  {
   "cell_type": "code",
   "execution_count": null,
   "id": "a306c9ef",
   "metadata": {},
   "outputs": [
    {
     "name": "stdout",
     "output_type": "stream",
     "text": [
      "[[-1.         -0.77777778 -0.55555556 -0.33333333 -0.11111111  0.11111111\n",
      "   0.33333333  0.55555556  0.77777778  1.        ]\n",
      " [-1.         -0.77777778 -0.55555556 -0.33333333 -0.11111111  0.11111111\n",
      "   0.33333333  0.55555556  0.77777778  1.        ]\n",
      " [-1.         -0.77777778 -0.55555556 -0.33333333 -0.11111111  0.11111111\n",
      "   0.33333333  0.55555556  0.77777778  1.        ]\n",
      " [-1.         -0.77777778 -0.55555556 -0.33333333 -0.11111111  0.11111111\n",
      "   0.33333333  0.55555556  0.77777778  1.        ]\n",
      " [-1.         -0.77777778 -0.55555556 -0.33333333 -0.11111111  0.11111111\n",
      "   0.33333333  0.55555556  0.77777778  1.        ]\n",
      " [-1.         -0.77777778 -0.55555556 -0.33333333 -0.11111111  0.11111111\n",
      "   0.33333333  0.55555556  0.77777778  1.        ]\n",
      " [-1.         -0.77777778 -0.55555556 -0.33333333 -0.11111111  0.11111111\n",
      "   0.33333333  0.55555556  0.77777778  1.        ]\n",
      " [-1.         -0.77777778 -0.55555556 -0.33333333 -0.11111111  0.11111111\n",
      "   0.33333333  0.55555556  0.77777778  1.        ]\n",
      " [-1.         -0.77777778 -0.55555556 -0.33333333 -0.11111111  0.11111111\n",
      "   0.33333333  0.55555556  0.77777778  1.        ]\n",
      " [-1.         -0.77777778 -0.55555556 -0.33333333 -0.11111111  0.11111111\n",
      "   0.33333333  0.55555556  0.77777778  1.        ]]\n"
     ]
    }
   ],
   "source": [
    "np.random.rand(5,10)#andom,5.10。5×10の行列\n",
    "Y = X - X.mean(axis=1,keepdims=True)#X.mean(axis=1, keepdims=True)各行の平均値を計算し、結果を配列 X と同じ形状に保つ\n",
    "#配列 X から対応する行の平均値を引き、行方向で中心化された配列 Y を作成。\n",
    "Y = X - X.mean(axis=1).reshape(-1,1)#X.mean(axis=1):各行の平均値を計算する。\n",
    "#.reshape(-1, 1):上記の1次元配列を、5行1列の縦長の配列に変形する。\n",
    "#-1 は「残りのサイズを自動で計算してください」という意味\n",
    "print(Y)"
   ]
  },
  {
   "cell_type": "markdown",
   "id": "ea8807c0",
   "metadata": {},
   "source": [
    "#### 59. How to sort an array by the nth column? (★★☆)\n",
    "\n",
    "#### 59. 配列を n 番目の列でソートするにはどうすればよいですか? (★★☆)"
   ]
  },
  {
   "cell_type": "code",
   "execution_count": null,
   "id": "cc89a699",
   "metadata": {},
   "outputs": [
    {
     "name": "stdout",
     "output_type": "stream",
     "text": [
      "[[0. 0. 0. 0. 0. 0. 0. 0. 0. 0.]\n",
      " [0. 0. 0. 0. 0. 0. 0. 0. 0. 0.]\n",
      " [0. 0. 0. 0. 0. 0. 0. 0. 0. 0.]\n",
      " [0. 0. 0. 0. 0. 0. 0. 0. 0. 0.]\n",
      " [0. 0. 1. 0. 0. 0. 0. 0. 0. 0.]\n",
      " [0. 0. 0. 0. 0. 0. 0. 0. 0. 0.]\n",
      " [0. 0. 1. 0. 0. 0. 0. 0. 0. 0.]\n",
      " [0. 0. 0. 0. 0. 0. 0. 0. 0. 0.]\n",
      " [0. 0. 0. 0. 1. 0. 0. 0. 0. 0.]\n",
      " [0. 0. 0. 0. 0. 0. 0. 0. 0. 0.]]\n"
     ]
    }
   ],
   "source": [
    "N = np.random.randint(0,10,(3,3))#0以上10未満の整数をランダムに生成して、3×3の配列 N を作成\n",
    "N = np.random.randint(0, 10, (3, 3))\n",
    "print(Z)#出力結果が01?\n",
    "#print(Z[:,1].argsort())#配列Nの2列目N[:, 1])の昇順ソート順を取得(argsort())"
   ]
  },
  {
   "cell_type": "markdown",
   "id": "00fa00a1",
   "metadata": {},
   "source": [
    "#### 60. How to tell if a given 2D array has null columns? (★★☆)"
   ]
  },
  {
   "cell_type": "code",
   "execution_count": null,
   "id": "3436e165",
   "metadata": {},
   "outputs": [
    {
     "name": "stdout",
     "output_type": "stream",
     "text": [
      "False\n",
      "[False False  True]\n"
     ]
    }
   ],
   "source": [
    "#null:0\n",
    "Z = np.random.randint(0,3,(3,10))#要素が2まで\n",
    "print((~Z.any(axis=0)).any())#Z.any(axis=0):配列 Z の各列ごとに「少なくとも1つの非ゼロ要素があるか」を確認。\n",
    "#any(axis=0) は「列方向」での評価?\n",
    "#~ はブール値を反転\n",
    "\n",
    "#null:np.nan\n",
    "Z = np.array([\n",
    "    [0,1,np.nan],\n",
    "    [1,2,np.nan],\n",
    "    [4,5,np.nan]\n",
    "])\n",
    "\"\"\"Zの中身は、[[0.0, 1.0, nan],\n",
    " [1.0, 2.0, nan],\n",
    " [4.0, 5.0, nan]]\n",
    " nanはNot a Numberで未定義の値や欠損値\"\"\"\n",
    "print(np.isnan(Z).all(axis=0))#np.isnan(Z):配列 Z の各要素が NaN かどうかを判定.結果は、同じ形状のブール配列。\n",
    "#.all(axis=0):配列の各列ごとに「すべての要素が True か」を判定。"
   ]
  },
  {
   "cell_type": "markdown",
   "id": "5a65c7a2",
   "metadata": {},
   "source": [
    "#### 61. Find the nearest value from a given value in an array (★★☆)"
   ]
  },
  {
   "cell_type": "code",
   "execution_count": null,
   "id": "73f149d6",
   "metadata": {},
   "outputs": [],
   "source": [
    "Z = np.random.uniform(0,1,10)#(下限、上限、行列の形)0 から 1 の間で一様分布に従うランダムな浮動小数点数を生成し、それを長さ10の1次元配列として Z に格納\n",
    "z = 0.5\n",
    "m = Z.flat[np.abs(Z-z).argmin()]\n",
    "print(m)"
   ]
  },
  {
   "cell_type": "markdown",
   "id": "dd83e8af",
   "metadata": {},
   "source": [
    "#### 62. Considering two arrays with shape (1,3) and (3,1), how to compute their sum using an iterator? (★★☆)"
   ]
  },
  {
   "cell_type": "code",
   "execution_count": 64,
   "id": "29a709a1",
   "metadata": {},
   "outputs": [
    {
     "name": "stdout",
     "output_type": "stream",
     "text": [
      "[[0 1 2]\n",
      " [1 2 3]\n",
      " [2 3 4]]\n"
     ]
    }
   ],
   "source": [
    "A = np.arange(3).reshape(3,1)#縦ベクトル\n",
    "B = np.arange(3).reshape(1,3)#横ベクトル\n",
    "it = np.nditer([A,B,None])#A:配列1,B:配列2、None:出力配列→A,Bは3×3行列に\n",
    "#nd :n次元、iter:iteratorイテレータ\n",
    "for x,y,z in it:\n",
    "    z[...]=x+y#空行列z.「...」:エリプシス。全ての次元を指定する際に使う。\n",
    "print(it.operands[2])#it.operands[2]:np.nditer に指定された3つ目の配列（None）が結果配列として使われているので、これが最終結果\n",
    "#Operand (オペランド): 演算の対象となる値や変数"
   ]
  },
  {
   "cell_type": "markdown",
   "id": "6c042efa",
   "metadata": {},
   "source": [
    "#### 63. Create an array class that has a name attribute (★★☆)\n",
    "\n",
    "#### 63. name属性(★★☆)を持つ配列クラスを作成する"
   ]
  },
  {
   "cell_type": "code",
   "execution_count": null,
   "id": "45b3d2e0",
   "metadata": {},
   "outputs": [
    {
     "name": "stdout",
     "output_type": "stream",
     "text": [
      "ranege_10\n"
     ]
    }
   ],
   "source": [
    "#Z = np.array((10,10),['name',str])\n",
    "class NamedArray(np.ndarray):#NamedArray は、NumPy の ndarray を拡張したクラス\n",
    "    def __new__(cls,array,name=\"no name\"):#__new__ は、インスタンス化時に呼ばれる特別なメソッド\n",
    "        obj = np.asarray(array).view(cls)#NumPy 配列をクラス NamedArray のインスタンスに変換し、name 属性を設定します\n",
    "        #array を NumPy 配列に変換。as~はデータ型を変換。\n",
    "        #ビュー（参照）\n",
    "        obj.name = name\n",
    "        return obj\n",
    "    def __array_finalize__(self,obj):#__array_finalize__ は、NumPy 配列の派生オブジェクトが生成されたときに呼ばれます\n",
    "        if obj is None: \n",
    "            return#改行しても、改行しなくてもいい。\n",
    "        self.name = getattr(obj,'name',\"no name\")#親オブジェクト（obj）から name 属性を取得し、それを新しいオブジェクトに引き継ぎます\n",
    "\n",
    "Z = NamedArray(np.arange(10),\"ranege_10\")#配列 Z の名前は \"range_10\" に設定\n",
    "print(Z.name)"
   ]
  },
  {
   "cell_type": "markdown",
   "id": "0a075c3d",
   "metadata": {},
   "source": [
    "#### 64. Consider a given vector, how to add 1 to each element indexed by a second vector (be careful with repeated indices)? (★★★)\n",
    "#### 64. 与えられたベクトルについて考えます。2 番目のベクトルによってインデックス付けされた各要素に 1 を加算する方法 (インデックスの繰り返しには注意してください)。 (★★★)"
   ]
  },
  {
   "cell_type": "code",
   "execution_count": null,
   "id": "36c50470",
   "metadata": {},
   "outputs": [
    {
     "name": "stdout",
     "output_type": "stream",
     "text": [
      "[2. 2. 1. 6. 4. 3. 3. 5. 1. 3.]\n"
     ]
    }
   ],
   "source": [
    "Z = np.ones(10)#長さ10の横ベクトル\n",
    "I = np.random.randint(0,len(Z),20)#0 から len(Z)-1 の範囲でランダムな整数を 20 個生成\n",
    "Z += np.bincount(I,minlength=len(Z))#I の中で出現するインデックスごとにその出現回数を数える。\n",
    "#出現回数を Z の長さに合わせて調整。\n",
    "#bincountとは、「ビン箱＋カウント＝区分けして分類する箱」\n",
    "print(Z)"
   ]
  },
  {
   "cell_type": "markdown",
   "id": "0fb2f0c5",
   "metadata": {},
   "source": [
    "#### 65. How to accumulate elements of a vector (X) to an array (F) based on an index list (I)? (★★★)\n",
    "#### インデックスリスト (I) に基づいて、ベクトル (X) の要素を配列 (F) に累積する方法は？"
   ]
  },
  {
   "cell_type": "code",
   "execution_count": null,
   "id": "58aa5f82",
   "metadata": {},
   "outputs": [
    {
     "name": "stdout",
     "output_type": "stream",
     "text": [
      "[0. 7. 0. 6. 5. 0. 0. 0. 0. 3.]\n"
     ]
    }
   ],
   "source": [
    "X = [1,2,3,4,5,6]#元のデータ。蓄積したい値。\n",
    "I = [1,3,9,3,4,1]#インデックスリスト。どのインデックスに対応するか。\n",
    "F = np.bincount(I,X)#F[I[i]]=X[i]数えているわけではなく、足している。例：F[1]=1+6=7\n",
    "print(F)"
   ]
  },
  {
   "cell_type": "markdown",
   "id": "d89dc506",
   "metadata": {},
   "source": [
    "#### 66. Considering a (w,h,3) image of (dtype=ubyte), compute the number of unique colors (★★☆)\n",
    "#### 66. (dtype=ubyte) の (w,h,3) 画像を考慮して、一意の色の数を計算します (★★☆)"
   ]
  },
  {
   "cell_type": "code",
   "execution_count": null,
   "id": "8fb43a49",
   "metadata": {},
   "outputs": [
    {
     "name": "stdout",
     "output_type": "stream",
     "text": [
      "64\n"
     ]
    }
   ],
   "source": [
    "w,h = 255,256\n",
    "I = np.random.randint(0,4,(h,w,3)).astype(np.ubyte)#()の中の場合は3次元。np.random.randint(0, 4, (h, w, 3)): 0 から 3 までの整数をランダムに生成して、画像の高さ h と幅 w に合わせた h x w x 3 の形状の配列を作成\n",
    "#.astype(np.ubyte) は、この配列のデータ型を np.uint8（符号なし8ビット整数）に変換。\n",
    "colors = np.unique(I.reshape(-1,3),axis=0)#rexhape\n",
    "#np.unique()値がユニークな行だけを返す。\n",
    "#I.reshape(-1, 3) は、I の3次元配列（(h, w, 3)）を、1次元に変換します。具体的には、画像内のすべてのピクセルのRGB値を1行にまとめた形に変換します。この形状は (h * w, 3)\n",
    "#-1:残りの次元を自動的に計算して調整して\n",
    "#np.unique(I.reshape(-1, 3), axis=0) は、RGBの値がユニークな行だけを返します。\n",
    "n = len(colors)#colors には、画像内でユニークな色が格納されているので、len(colors) はその色の数を返します。これが画像に含まれているユニークな?色の数\n",
    "print(n)"
   ]
  },
  {
   "cell_type": "markdown",
   "id": "535a5d81",
   "metadata": {},
   "source": [
    "#### 67. Considering a four dimensions array, how to get sum over the last two axis at once? (★★★)\n",
    "#### 67. 4 次元の配列を考慮して、最後の 2 つの軸の合計を一度に取得するにはどうすればよいですか? (★★★)"
   ]
  },
  {
   "cell_type": "code",
   "execution_count": null,
   "id": "f954ab9d",
   "metadata": {},
   "outputs": [
    {
     "name": "stdout",
     "output_type": "stream",
     "text": [
      "[[49 57 61 51]\n",
      " [58 50 57 53]\n",
      " [69 53 37 50]]\n",
      "[[49 57 61 51]\n",
      " [58 50 57 53]\n",
      " [69 53 37 50]]\n"
     ]
    }
   ],
   "source": [
    "# 3次元配列Aを生成。形状は(3, 4, 3, 4)で、要素は0から9の整数のランダムな値\n",
    "A = np.random.randint(0, 10, (3, 4, 3, 4))\n",
    "\n",
    "# sum関数を使って、最後の2軸（-2と-1軸）に沿って合計を計算\n",
    "# axis=(-2, -1) は、Aの4番目と3番目の次元を指定して、その次元ごとに合計を取る\n",
    "# axis:軸\n",
    "sum = A.sum(axis=(-2, -1))  # 形状が(3, 4)の合計を得る\n",
    "print(sum)\n",
    "\n",
    "# Aの形状を変更して、最後の2つの次元を1つにまとめる\n",
    "# reshapeで、Aの形状を(3, 4, -1)に変換、最後の次元を1つの軸にまとめる\n",
    "sum = A.reshape(A.shape[:-2] + (-1,)).sum(axis=-1)  # axis=-1 は、新しい最後の軸に沿って合計を計算\n",
    "print(sum)\n"
   ]
  },
  {
   "cell_type": "markdown",
   "id": "eee66d3c",
   "metadata": {},
   "source": [
    "#### 68. Considering a one-dimensional vector D, how to compute means of subsets of D using a vector S of same size describing subset  indices? (★★★)\n",
    "#### 68. 1 次元ベクトル D を考えると、サブセットのインデックスを記述する同じサイズのベクトル S を使用して D のサブセットの平均を計算するにはどうすればよいでしょうか? (★★★)"
   ]
  },
  {
   "cell_type": "code",
   "execution_count": 84,
   "id": "8929773a",
   "metadata": {},
   "outputs": [
    {
     "name": "stdout",
     "output_type": "stream",
     "text": [
      "[0.56748955 0.44912953 0.34451433 0.48787255 0.42745029 0.53078335\n",
      " 0.44842879 0.46388152 0.49627194 0.36975161]\n"
     ]
    }
   ],
   "source": [
    "D = np.random.uniform(0, 1, 100)   # 0 から 1 の間でランダムに浮動小数点数を 100 個生成\n",
    "S = np.random.randint(0, 10, 100)   # 0 から 9 の間でランダムに整数を 100 個生成\n",
    "#0,1,100,int,unintは存在しない。\n",
    "D_sums = np.bincount(S,weights=D)\n",
    "# S の値に基づいて D の加重合計を計算（D の各値が S のインデックスごとに合計される）\n",
    "D_sums = np.bincount(S, weights=D)\n",
    "\n",
    "# S の値に基づいて D の個数（出現回数）をカウント\n",
    "D_counts = np.bincount(S)\n",
    "#bincounts、（）なし\n",
    "# 各インデックスごとに D_sums を D_counts で割って平均を計算\n",
    "D_means = D_sums / D_counts\n",
    "\n",
    "# 結果を表示\n",
    "print(D_means)\n"
   ]
  },
  {
   "cell_type": "markdown",
   "id": "f90d4c40",
   "metadata": {},
   "source": [
    "#### 69. How to get the diagonal of a dot product? (★★★)"
   ]
  },
  {
   "cell_type": "code",
   "execution_count": null,
   "id": "b47d392d",
   "metadata": {},
   "outputs": [],
   "source": []
  },
  {
   "cell_type": "markdown",
   "id": "a8a97e7d",
   "metadata": {},
   "source": [
    "#### 70. Consider the vector [1, 2, 3, 4, 5], how to build a new vector with 3 consecutive zeros interleaved between each value? (★★★)"
   ]
  },
  {
   "cell_type": "code",
   "execution_count": null,
   "id": "ee6c6c37",
   "metadata": {},
   "outputs": [],
   "source": []
  },
  {
   "cell_type": "markdown",
   "id": "d6a30d60",
   "metadata": {},
   "source": [
    "#### 71. Consider an array of dimension (5,5,3), how to mulitply it by an array with dimensions (5,5)? (★★★)"
   ]
  },
  {
   "cell_type": "code",
   "execution_count": null,
   "id": "e9703f2e",
   "metadata": {},
   "outputs": [],
   "source": []
  },
  {
   "cell_type": "markdown",
   "id": "bac359a9",
   "metadata": {},
   "source": [
    "#### 72. How to swap two rows of an array? (★★★)"
   ]
  },
  {
   "cell_type": "code",
   "execution_count": null,
   "id": "f1b432b1",
   "metadata": {},
   "outputs": [],
   "source": []
  },
  {
   "cell_type": "markdown",
   "id": "620c9f83",
   "metadata": {},
   "source": [
    "#### 73. Consider a set of 10 triplets describing 10 triangles (with shared vertices), find the set of unique line segments composing all the  triangles (★★★)"
   ]
  },
  {
   "cell_type": "code",
   "execution_count": null,
   "id": "4e595ffc",
   "metadata": {},
   "outputs": [],
   "source": []
  },
  {
   "cell_type": "markdown",
   "id": "a76c55a2",
   "metadata": {},
   "source": [
    "#### 74. Given a sorted array C that corresponds to a bincount, how to produce an array A such that np.bincount(A) == C? (★★★)"
   ]
  },
  {
   "cell_type": "code",
   "execution_count": null,
   "id": "2d2ae65a",
   "metadata": {},
   "outputs": [],
   "source": []
  },
  {
   "cell_type": "markdown",
   "id": "d550c8e2",
   "metadata": {},
   "source": [
    "#### 75. How to compute averages using a sliding window over an array? (★★★)"
   ]
  },
  {
   "cell_type": "code",
   "execution_count": null,
   "id": "841c457c",
   "metadata": {},
   "outputs": [],
   "source": []
  },
  {
   "cell_type": "markdown",
   "id": "6b170b00",
   "metadata": {},
   "source": [
    "#### 76. Consider a one-dimensional array Z, build a two-dimensional array whose first row is (Z[0],Z[1],Z[2]) and each subsequent row is  shifted by 1 (last row should be (Z[-3],Z[-2],Z[-1]) (★★★)"
   ]
  },
  {
   "cell_type": "code",
   "execution_count": null,
   "id": "d9a0cf4e",
   "metadata": {},
   "outputs": [],
   "source": []
  },
  {
   "cell_type": "markdown",
   "id": "e94a5c1d",
   "metadata": {},
   "source": [
    "#### 77. How to negate a boolean, or to change the sign of a float inplace? (★★★)"
   ]
  },
  {
   "cell_type": "code",
   "execution_count": null,
   "id": "c0f9504f",
   "metadata": {},
   "outputs": [],
   "source": []
  },
  {
   "cell_type": "markdown",
   "id": "4eb8b5c1",
   "metadata": {},
   "source": [
    "#### 78. Consider 2 sets of points P0,P1 describing lines (2d) and a point p, how to compute distance from p to each line i (P0[i],P1[i])? (★★★)"
   ]
  },
  {
   "cell_type": "code",
   "execution_count": null,
   "id": "487f47ec",
   "metadata": {},
   "outputs": [],
   "source": []
  },
  {
   "cell_type": "markdown",
   "id": "3df99948",
   "metadata": {},
   "source": [
    "#### 79. Consider 2 sets of points P0,P1 describing lines (2d) and a set of points P, how to compute distance from each point j (P[j]) to each line i (P0[i],P1[i])? (★★★)"
   ]
  },
  {
   "cell_type": "code",
   "execution_count": null,
   "id": "dc2df37b",
   "metadata": {},
   "outputs": [],
   "source": []
  },
  {
   "cell_type": "markdown",
   "id": "11e972c2",
   "metadata": {},
   "source": [
    "#### 80. Consider an arbitrary array, write a function that extract a subpart with a fixed shape and centered on a given element (pad with a `fill` value when necessary) (★★★)"
   ]
  },
  {
   "cell_type": "code",
   "execution_count": null,
   "id": "0291247f",
   "metadata": {},
   "outputs": [],
   "source": []
  },
  {
   "cell_type": "markdown",
   "id": "93cfeab3",
   "metadata": {},
   "source": [
    "#### 81. Consider an array Z = [1,2,3,4,5,6,7,8,9,10,11,12,13,14], how to generate an array R = [[1,2,3,4], [2,3,4,5], [3,4,5,6], ..., [11,12,13,14]]? (★★★)"
   ]
  },
  {
   "cell_type": "code",
   "execution_count": null,
   "id": "360de791",
   "metadata": {},
   "outputs": [],
   "source": []
  },
  {
   "cell_type": "markdown",
   "id": "4c15ceff",
   "metadata": {},
   "source": [
    "#### 82. Compute a matrix rank (★★★)"
   ]
  },
  {
   "cell_type": "code",
   "execution_count": null,
   "id": "9a4272d2",
   "metadata": {},
   "outputs": [],
   "source": []
  },
  {
   "cell_type": "markdown",
   "id": "1171cb84",
   "metadata": {},
   "source": [
    "#### 83. How to find the most frequent value in an array?"
   ]
  },
  {
   "cell_type": "code",
   "execution_count": null,
   "id": "33e951c8",
   "metadata": {},
   "outputs": [],
   "source": []
  },
  {
   "cell_type": "markdown",
   "id": "04f472aa",
   "metadata": {},
   "source": [
    "#### 84. Extract all the contiguous 3x3 blocks from a random 10x10 matrix (★★★)"
   ]
  },
  {
   "cell_type": "code",
   "execution_count": null,
   "id": "7aade14a",
   "metadata": {},
   "outputs": [],
   "source": []
  },
  {
   "cell_type": "markdown",
   "id": "52836346",
   "metadata": {},
   "source": [
    "#### 85. Create a 2D array subclass such that Z[i,j] == Z[j,i] (★★★)"
   ]
  },
  {
   "cell_type": "code",
   "execution_count": null,
   "id": "4df70318",
   "metadata": {},
   "outputs": [],
   "source": []
  },
  {
   "cell_type": "markdown",
   "id": "78c43ee5",
   "metadata": {},
   "source": [
    "#### 86. Consider a set of p matrices with shape (n,n) and a set of p vectors with shape (n,1). How to compute the sum of of the p matrix products at once? (result has shape (n,1)) (★★★)"
   ]
  },
  {
   "cell_type": "code",
   "execution_count": null,
   "id": "32fd2c3b",
   "metadata": {},
   "outputs": [],
   "source": []
  },
  {
   "cell_type": "markdown",
   "id": "158f9945",
   "metadata": {},
   "source": [
    "#### 87. Consider a 16x16 array, how to get the block-sum (block size is 4x4)? (★★★)"
   ]
  },
  {
   "cell_type": "code",
   "execution_count": null,
   "id": "5a9b808f",
   "metadata": {},
   "outputs": [],
   "source": []
  },
  {
   "cell_type": "markdown",
   "id": "2e0ad860",
   "metadata": {},
   "source": [
    "#### 88. How to implement the Game of Life using numpy arrays? (★★★)"
   ]
  },
  {
   "cell_type": "code",
   "execution_count": null,
   "id": "574acff5",
   "metadata": {},
   "outputs": [],
   "source": []
  },
  {
   "cell_type": "markdown",
   "id": "69a892fa",
   "metadata": {},
   "source": [
    "#### 89. How to get the n largest values of an array (★★★)"
   ]
  },
  {
   "cell_type": "code",
   "execution_count": null,
   "id": "21b2bd48",
   "metadata": {},
   "outputs": [],
   "source": []
  },
  {
   "cell_type": "markdown",
   "id": "b55ccacc",
   "metadata": {},
   "source": [
    "#### 90. Given an arbitrary number of vectors, build the cartesian product (every combinations of every item) (★★★)"
   ]
  },
  {
   "cell_type": "code",
   "execution_count": null,
   "id": "4b645da4",
   "metadata": {},
   "outputs": [],
   "source": []
  },
  {
   "cell_type": "markdown",
   "id": "89187a23",
   "metadata": {},
   "source": [
    "#### 91. How to create a record array from a regular array? (★★★)"
   ]
  },
  {
   "cell_type": "code",
   "execution_count": null,
   "id": "da94c71a",
   "metadata": {},
   "outputs": [],
   "source": []
  },
  {
   "cell_type": "markdown",
   "id": "aa70d4ca",
   "metadata": {},
   "source": [
    "#### 92. Consider a large vector Z, compute Z to the power of 3 using 3 different methods (★★★)"
   ]
  },
  {
   "cell_type": "code",
   "execution_count": null,
   "id": "7cff1bf5",
   "metadata": {},
   "outputs": [],
   "source": []
  },
  {
   "cell_type": "markdown",
   "id": "5f79dd00",
   "metadata": {},
   "source": [
    "#### 93. Consider two arrays A and B of shape (8,3) and (2,2). How to find rows of A that contain elements of each row of B regardless of the order of the elements in B? (★★★)"
   ]
  },
  {
   "cell_type": "code",
   "execution_count": null,
   "id": "20c105b2",
   "metadata": {},
   "outputs": [],
   "source": []
  },
  {
   "cell_type": "markdown",
   "id": "a80570cd",
   "metadata": {},
   "source": [
    "#### 94. Considering a 10x3 matrix, extract rows with unequal values (e.g. [2,2,3]) (★★★)"
   ]
  },
  {
   "cell_type": "code",
   "execution_count": null,
   "id": "84db8de1",
   "metadata": {},
   "outputs": [],
   "source": []
  },
  {
   "cell_type": "markdown",
   "id": "ba154f43",
   "metadata": {},
   "source": [
    "#### 95. Convert a vector of ints into a matrix binary representation (★★★)"
   ]
  },
  {
   "cell_type": "code",
   "execution_count": null,
   "id": "cfa96e1b",
   "metadata": {},
   "outputs": [],
   "source": []
  },
  {
   "cell_type": "markdown",
   "id": "420e2343",
   "metadata": {},
   "source": [
    "#### 96. Given a two dimensional array, how to extract unique rows? (★★★)"
   ]
  },
  {
   "cell_type": "code",
   "execution_count": null,
   "id": "4680dfd0",
   "metadata": {},
   "outputs": [],
   "source": []
  },
  {
   "cell_type": "markdown",
   "id": "89fef2f3",
   "metadata": {},
   "source": [
    "#### 97. Considering 2 vectors A & B, write the einsum equivalent of inner, outer, sum, and mul function (★★★)"
   ]
  },
  {
   "cell_type": "code",
   "execution_count": null,
   "id": "bb9c14b2",
   "metadata": {},
   "outputs": [],
   "source": []
  },
  {
   "cell_type": "markdown",
   "id": "7ad5cc5f",
   "metadata": {},
   "source": [
    "#### 98. Considering a path described by two vectors (X,Y), how to sample it using equidistant samples (★★★)?"
   ]
  },
  {
   "cell_type": "code",
   "execution_count": null,
   "id": "0899d1d5",
   "metadata": {},
   "outputs": [],
   "source": []
  },
  {
   "cell_type": "markdown",
   "id": "2b69272e",
   "metadata": {},
   "source": [
    "#### 99. Given an integer n and a 2D array X, select from X the rows which can be interpreted as draws from a multinomial distribution with n degrees, i.e., the rows which only contain integers and which sum to n. (★★★)"
   ]
  },
  {
   "cell_type": "code",
   "execution_count": null,
   "id": "55c8b034",
   "metadata": {},
   "outputs": [],
   "source": []
  },
  {
   "cell_type": "markdown",
   "id": "59ab5516",
   "metadata": {},
   "source": [
    "#### 100. Compute bootstrapped 95% confidence intervals for the mean of a 1D array X (i.e., resample the elements of an array with replacement N times, compute the mean of each sample, and then compute percentiles over the means). (★★★)"
   ]
  },
  {
   "cell_type": "code",
   "execution_count": null,
   "id": "450877d8",
   "metadata": {},
   "outputs": [],
   "source": []
  }
 ],
 "metadata": {
  "kernelspec": {
   "display_name": "Python 3",
   "language": "python",
   "name": "python3"
  },
  "language_info": {
   "codemirror_mode": {
    "name": "ipython",
    "version": 3
   },
   "file_extension": ".py",
   "mimetype": "text/x-python",
   "name": "python",
   "nbconvert_exporter": "python",
   "pygments_lexer": "ipython3",
   "version": "3.11.7"
  }
 },
 "nbformat": 4,
 "nbformat_minor": 5
}
